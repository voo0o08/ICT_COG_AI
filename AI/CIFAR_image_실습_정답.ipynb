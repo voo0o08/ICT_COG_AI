{
  "nbformat": 4,
  "nbformat_minor": 0,
  "metadata": {
    "kernelspec": {
      "display_name": "TensorFlow 2.3 on Python 3.6 (CUDA 10.1)",
      "language": "python",
      "name": "python3"
    },
    "language_info": {
      "codemirror_mode": {
        "name": "ipython",
        "version": 3
      },
      "file_extension": ".py",
      "mimetype": "text/x-python",
      "name": "python",
      "nbconvert_exporter": "python",
      "pygments_lexer": "ipython3",
      "version": "3.6.9"
    },
    "colab": {
      "name": "CIFAR_image_실습_정답.ipynb",
      "provenance": [],
      "collapsed_sections": []
    },
    "accelerator": "GPU"
  },
  "cells": [
    {
      "cell_type": "markdown",
      "metadata": {
        "id": "VsZV03UD5Qb5"
      },
      "source": [
        "# 합성곱 신경망을 사용한 이미지 분류"
      ]
    },
    {
      "cell_type": "markdown",
      "metadata": {
        "id": "MiG7uEQF5QcA"
      },
      "source": [
        "<table align=\"left\">\n",
        "  <td>\n",
        "    <a target=\"_blank\" href=\"https://colab.research.google.com/github/rickiepark/hg-mldl/blob/master/8-2.ipynb\"><img src=\"https://www.tensorflow.org/images/colab_logo_32px.png\" />구글 코랩에서 실행하기</a>\n",
        "  </td>\n",
        "</table>"
      ]
    },
    {
      "cell_type": "markdown",
      "metadata": {
        "id": "TpIIAufevWMJ"
      },
      "source": [
        "#수업시간에 배운 CNN을 이용하여 이미지를 분류해 보자!!!\n",
        "\n",
        "\n",
        "데이터 셋 정보: https://www.cs.toronto.edu/~kriz/cifar.html"
      ]
    },
    {
      "cell_type": "markdown",
      "metadata": {
        "id": "fQSb0wK85QcA"
      },
      "source": [
        "## CIFAR-10 데이터 셋 읽어오기"
      ]
    },
    {
      "cell_type": "code",
      "metadata": {
        "id": "BGJBttQs5QcA"
      },
      "source": [
        "from tensorflow import keras\n",
        "from sklearn.model_selection import train_test_split\n",
        "from keras.datasets import cifar10\n",
        "import numpy as np\n",
        "import matplotlib.pyplot as plt\n",
        "\n",
        "\n",
        "(train_input, train_target), (test_input, test_target) = \\\n",
        "    cifar10.load_data()\n"
      ],
      "execution_count": 12,
      "outputs": []
    },
    {
      "cell_type": "markdown",
      "metadata": {
        "id": "wdB_26i5ialq"
      },
      "source": [
        "##로드한 데이터의 shape을 확인하시오 (샘플 수: 50000, 32 x 32, RGB format).\n",
        "##데이터 셋의 클래스 수를 확인하시오 (numpy unique() 활용 - 7일차 교육 MNIST 실습의 데이터 준비 슬라이드 참고)"
      ]
    },
    {
      "cell_type": "code",
      "metadata": {
        "colab": {
          "base_uri": "https://localhost:8080/",
          "height": 0
        },
        "id": "zsMU5_gfiVYJ",
        "outputId": "136f6be6-ba06-4bb9-d0a3-4b07ef334843"
      },
      "source": [
        "print(train_input.shape)\n",
        "print(np.unique(train_target))"
      ],
      "execution_count": 13,
      "outputs": [
        {
          "output_type": "stream",
          "text": [
            "(50000, 32, 32, 3)\n",
            "[0 1 2 3 4 5 6 7 8 9]\n"
          ],
          "name": "stdout"
        }
      ]
    },
    {
      "cell_type": "markdown",
      "metadata": {
        "id": "gPnsEbQgiGpR"
      },
      "source": [
        "## 이미지의 픽셀값을 0~1값으로 정규화하시오"
      ]
    },
    {
      "cell_type": "code",
      "metadata": {
        "id": "Vidbah1lg9da"
      },
      "source": [
        "train_scaled = train_input/ 255.0"
      ],
      "execution_count": 14,
      "outputs": []
    },
    {
      "cell_type": "markdown",
      "metadata": {
        "id": "Xgk3xLuTivWj"
      },
      "source": [
        "##데이터 세트를 훈련데이터 (80%)와 검증세트로 분리하시오"
      ]
    },
    {
      "cell_type": "code",
      "metadata": {
        "id": "tL5LSy-MiwRh"
      },
      "source": [
        "train_scaled, val_scaled, train_target, val_target = train_test_split(\n",
        "    train_scaled, train_target, test_size=0.2, random_state=42)"
      ],
      "execution_count": 15,
      "outputs": []
    },
    {
      "cell_type": "markdown",
      "metadata": {
        "id": "fKb9dsbniF5H"
      },
      "source": [
        "#분류가 잘 되었는지 확인하시오 (훈련 세트 = 40000, 검증세트 = 10000)"
      ]
    },
    {
      "cell_type": "code",
      "metadata": {
        "colab": {
          "base_uri": "https://localhost:8080/",
          "height": 0
        },
        "id": "oc0FkyJTgJD6",
        "outputId": "72e87377-ef17-40df-a91f-1869978efdf4"
      },
      "source": [
        "print(train_scaled.shape)"
      ],
      "execution_count": 16,
      "outputs": [
        {
          "output_type": "stream",
          "text": [
            "(40000, 32, 32, 3)\n"
          ],
          "name": "stdout"
        }
      ]
    },
    {
      "cell_type": "markdown",
      "metadata": {
        "id": "enGr7A9ijGY8"
      },
      "source": [
        "## matplotlib의 imshow() 메소드를 사용하여 정규화된 훈련세트의 0번째 인덱스의 이미지를 color bar와 함께 출력하시오. "
      ]
    },
    {
      "cell_type": "code",
      "metadata": {
        "colab": {
          "base_uri": "https://localhost:8080/",
          "height": 266
        },
        "id": "kh_66oiXgT-1",
        "outputId": "8e19f313-86f2-4e3e-848d-914385287b36"
      },
      "source": [
        "import matplotlib.pyplot as plt\n",
        "plt.imshow(train_scaled[0]) #변수명은 변경 가능\n",
        "plt.colorbar()\n",
        "plt.show()"
      ],
      "execution_count": 17,
      "outputs": [
        {
          "output_type": "display_data",
          "data": {
            "image/png": "[encoded data removed]",
            "text/plain": [
              "<Figure size 432x288 with 2 Axes>"
            ]
          },
          "metadata": {
            "tags": [],
            "needs_background": "light"
          }
        }
      ]
    },
    {
      "cell_type": "markdown",
      "metadata": {
        "id": "Y4m7l2115QcB"
      },
      "source": [
        "## 합성곱 신경망 만들기"
      ]
    },
    {
      "cell_type": "code",
      "metadata": {
        "id": "wubmkM6q5QcB"
      },
      "source": [
        "model = keras.Sequential()"
      ],
      "execution_count": 18,
      "outputs": []
    },
    {
      "cell_type": "markdown",
      "metadata": {
        "id": "e9yvL06sjfXk"
      },
      "source": [
        "##첫번째 합성곱 층을 생성후 모델에 추가하시오.\n",
        "필터 수: 32개\\\n",
        "필터 (커널) 사이즈: 3 x 3 x 3\\\n",
        "활성화 함수: ReLU\\\n",
        "패딩: same padding\\\n",
        "stride: 1\\\n",
        "input_shape는 데이터 특성에 맞게 지정"
      ]
    },
    {
      "cell_type": "code",
      "metadata": {
        "id": "fcuXinil5QcB"
      },
      "source": [
        "model.add(keras.layers.Conv2D(32, kernel_size=3, activation='relu', \n",
        "                              padding='same', input_shape=(32,32,3)))"
      ],
      "execution_count": 19,
      "outputs": []
    },
    {
      "cell_type": "markdown",
      "metadata": {
        "id": "X7k5QVzikIJH"
      },
      "source": [
        "### 2x2 최대 풀링 (max pooling) 층을 추가하시오"
      ]
    },
    {
      "cell_type": "code",
      "metadata": {
        "id": "ddZAIUwJ5QcB"
      },
      "source": [
        "model.add(keras.layers.MaxPooling2D(2))"
      ],
      "execution_count": 20,
      "outputs": []
    },
    {
      "cell_type": "markdown",
      "metadata": {
        "id": "z6xxkMhKkSmV"
      },
      "source": [
        "##두번째 합성곱 층을 생성 후 모델에 추가하시오\n",
        "필터 수: 64개\\\n",
        "필터 (커널) 사이즈: 3 x 3 x 32\\\n",
        "활성화 함수: ReLU\\\n",
        "패딩: same padding\\\n",
        "stride: 1"
      ]
    },
    {
      "cell_type": "code",
      "metadata": {
        "id": "6NbO08605QcC"
      },
      "source": [
        "model.add(keras.layers.Conv2D(64, kernel_size=(3,3), activation='relu', \n",
        "                              padding='same'))"
      ],
      "execution_count": 21,
      "outputs": []
    },
    {
      "cell_type": "markdown",
      "metadata": {
        "id": "NZlCRKk4kY0-"
      },
      "source": [
        "## 최대 풀링 (max pooling) 층을 추가하시오.\n",
        "stride: 2"
      ]
    },
    {
      "cell_type": "code",
      "metadata": {
        "id": "c0DNfw7hkX_C"
      },
      "source": [
        "model.add(keras.layers.MaxPooling2D(2))"
      ],
      "execution_count": 22,
      "outputs": []
    },
    {
      "cell_type": "markdown",
      "metadata": {
        "id": "hI85QelAkwRq"
      },
      "source": [
        "## Flatten 층을 추가하고, 출력을 위한 Dense 층 두개를 추가하시오.\n",
        "## Flatten 층과 첫번째 Dense 층 사이에 Dropout 층을 추가하시오 (Dropout율: 30%) \n",
        "첫번째 Dense 층의 뉴런 갯수: 100개\\\n",
        "첫번째 Dense 층의 활성화 함수: ReLU\\\n",
        "두번째 Dense 층의 뉴런 갯수: 데이터 특성에 맞게 설정\\\n",
        "두번째 Dense 층의 활성화 함수: Softmax\n"
      ]
    },
    {
      "cell_type": "code",
      "metadata": {
        "id": "sxlx0yyS5QcC"
      },
      "source": [
        "model.add(keras.layers.Flatten())\n",
        "model.add(keras.layers.Dense(100, activation='relu'))\n",
        "model.add(keras.layers.Dropout(0.3))\n",
        "model.add(keras.layers.Dense(10, activation='softmax'))"
      ],
      "execution_count": 23,
      "outputs": []
    },
    {
      "cell_type": "markdown",
      "metadata": {
        "id": "kmSRg6bJnxU6"
      },
      "source": [
        "##model.summary()를 사용하여 모델이 잘 구성되었는지 확인"
      ]
    },
    {
      "cell_type": "code",
      "metadata": {
        "id": "1CFKlE-B5QcC",
        "colab": {
          "base_uri": "https://localhost:8080/",
          "height": 0
        },
        "outputId": "abdd00b1-a570-4bf2-bf7c-a0b44c913f8c"
      },
      "source": [
        "model.summary()"
      ],
      "execution_count": 24,
      "outputs": [
        {
          "output_type": "stream",
          "text": [
            "Model: \"sequential_1\"\n",
            "_________________________________________________________________\n",
            "Layer (type)                 Output Shape              Param #   \n",
            "=================================================================\n",
            "conv2d_2 (Conv2D)            (None, 32, 32, 32)        896       \n",
            "_________________________________________________________________\n",
            "max_pooling2d_2 (MaxPooling2 (None, 16, 16, 32)        0         \n",
            "_________________________________________________________________\n",
            "conv2d_3 (Conv2D)            (None, 16, 16, 64)        18496     \n",
            "_________________________________________________________________\n",
            "max_pooling2d_3 (MaxPooling2 (None, 8, 8, 64)          0         \n",
            "_________________________________________________________________\n",
            "flatten (Flatten)            (None, 4096)              0         \n",
            "_________________________________________________________________\n",
            "dense (Dense)                (None, 100)               409700    \n",
            "_________________________________________________________________\n",
            "dropout (Dropout)            (None, 100)               0         \n",
            "_________________________________________________________________\n",
            "dense_1 (Dense)              (None, 10)                1010      \n",
            "=================================================================\n",
            "Total params: 430,102\n",
            "Trainable params: 430,102\n",
            "Non-trainable params: 0\n",
            "_________________________________________________________________\n"
          ],
          "name": "stdout"
        }
      ]
    },
    {
      "cell_type": "markdown",
      "metadata": {
        "id": "lTs-Kqz5os1Q"
      },
      "source": [
        "##utils.plot_model()을 사용하여 모델이 잘 구성되었는지 확인"
      ]
    },
    {
      "cell_type": "code",
      "metadata": {
        "id": "uO2xZfrF5QcD",
        "colab": {
          "base_uri": "https://localhost:8080/",
          "height": 856
        },
        "outputId": "a2c825d8-714c-4b95-ca09-8e6bbed1a445"
      },
      "source": [
        "keras.utils.plot_model(model)"
      ],
      "execution_count": 25,
      "outputs": [
        {
          "output_type": "execute_result",
          "data": {
            "image/png": "[encoded data removed]",
            "text/plain": [
              "<IPython.core.display.Image object>"
            ]
          },
          "metadata": {
            "tags": []
          },
          "execution_count": 25
        }
      ]
    },
    {
      "cell_type": "markdown",
      "metadata": {
        "id": "7sO3by845QcE"
      },
      "source": [
        "## 모델 컴파일과 훈련\n",
        "optimizer: adam\\\n",
        "손실함수: 다중분류를 위한 함수로 지정\\\n",
        "accuract 메트릭 추가\\"
      ]
    },
    {
      "cell_type": "code",
      "metadata": {
        "id": "Msys0HQp5QcE"
      },
      "source": [
        "model.compile(optimizer='adam', loss='sparse_categorical_crossentropy', \n",
        "              metrics='accuracy')\n"
      ],
      "execution_count": 26,
      "outputs": []
    },
    {
      "cell_type": "markdown",
      "metadata": {
        "id": "Mj-qRH6UpXAv"
      },
      "source": [
        "## ModelCheckPoint 콜백 및 Early_stopping 콜백 사용을 사용하여 최적의 모델을 찾고 저장하시오."
      ]
    },
    {
      "cell_type": "code",
      "metadata": {
        "colab": {
          "base_uri": "https://localhost:8080/",
          "height": 0
        },
        "id": "YHHkTF1h969M",
        "outputId": "b9b5beab-ace2-4132-b6ec-5e8b023b0806"
      },
      "source": [
        "\n",
        "checkpoint_cb = keras.callbacks.ModelCheckpoint('best-cnn-model.h5', \n",
        "                                                save_best_only=True)\n",
        "early_stopping_cb = keras.callbacks.EarlyStopping(patience=2,\n",
        "                                                  restore_best_weights=True)\n",
        "\n",
        "history = model.fit(train_scaled, train_target, epochs=20,\n",
        "                    validation_data=(val_scaled, val_target),\n",
        "                    callbacks=[checkpoint_cb, early_stopping_cb])"
      ],
      "execution_count": 27,
      "outputs": [
        {
          "output_type": "stream",
          "text": [
            "Epoch 1/20\n",
            "1250/1250 [==============================] - 36s 4ms/step - loss: 1.6047 - accuracy: 0.4162 - val_loss: 1.2672 - val_accuracy: 0.5518\n",
            "Epoch 2/20\n",
            "1250/1250 [==============================] - 4s 3ms/step - loss: 1.2596 - accuracy: 0.5507 - val_loss: 1.0840 - val_accuracy: 0.6086\n",
            "Epoch 3/20\n",
            "1250/1250 [==============================] - 4s 3ms/step - loss: 1.1145 - accuracy: 0.6047 - val_loss: 1.0123 - val_accuracy: 0.6437\n",
            "Epoch 4/20\n",
            "1250/1250 [==============================] - 4s 3ms/step - loss: 1.0424 - accuracy: 0.6332 - val_loss: 1.0188 - val_accuracy: 0.6435\n",
            "Epoch 5/20\n",
            "1250/1250 [==============================] - 4s 3ms/step - loss: 0.9695 - accuracy: 0.6557 - val_loss: 0.9487 - val_accuracy: 0.6675\n",
            "Epoch 6/20\n",
            "1250/1250 [==============================] - 4s 3ms/step - loss: 0.9176 - accuracy: 0.6756 - val_loss: 0.9276 - val_accuracy: 0.6720\n",
            "Epoch 7/20\n",
            "1250/1250 [==============================] - 4s 3ms/step - loss: 0.8578 - accuracy: 0.6944 - val_loss: 0.8989 - val_accuracy: 0.6854\n",
            "Epoch 8/20\n",
            "1250/1250 [==============================] - 4s 3ms/step - loss: 0.8132 - accuracy: 0.7089 - val_loss: 0.8968 - val_accuracy: 0.6893\n",
            "Epoch 9/20\n",
            "1250/1250 [==============================] - 4s 3ms/step - loss: 0.7708 - accuracy: 0.7244 - val_loss: 0.8926 - val_accuracy: 0.6939\n",
            "Epoch 10/20\n",
            "1250/1250 [==============================] - 5s 4ms/step - loss: 0.7280 - accuracy: 0.7350 - val_loss: 0.8993 - val_accuracy: 0.6888\n",
            "Epoch 11/20\n",
            "1250/1250 [==============================] - 5s 4ms/step - loss: 0.6886 - accuracy: 0.7513 - val_loss: 0.9033 - val_accuracy: 0.6916\n"
          ],
          "name": "stdout"
        }
      ]
    },
    {
      "cell_type": "markdown",
      "metadata": {
        "id": "WIwHswz8qm-X"
      },
      "source": [
        "## matplotlib를 사용하여 학습 세트와 검증세트의 Loss율을 확인하시오."
      ]
    },
    {
      "cell_type": "code",
      "metadata": {
        "id": "1JaC-KDn5QcF",
        "colab": {
          "base_uri": "https://localhost:8080/",
          "height": 279
        },
        "outputId": "9085bf11-4040-407b-cdbe-5b2183de2f29"
      },
      "source": [
        "plt.plot(history.history['loss'])\n",
        "plt.plot(history.history['val_loss'])\n",
        "plt.xlabel('epoch')\n",
        "plt.ylabel('loss')\n",
        "plt.legend(['train', 'val'])\n",
        "plt.show()"
      ],
      "execution_count": 28,
      "outputs": [
        {
          "output_type": "display_data",
          "data": {
            "image/png": "[encoded data removed]",
            "text/plain": [
              "<Figure size 432x288 with 1 Axes>"
            ]
          },
          "metadata": {
            "tags": [],
            "needs_background": "light"
          }
        }
      ]
    },
    {
      "cell_type": "markdown",
      "metadata": {
        "id": "9YLs-RdDq34t"
      },
      "source": [
        "## model.evaluate()를 사용하여 검증 세트에 대한 성능을 측정하시오"
      ]
    },
    {
      "cell_type": "code",
      "metadata": {
        "id": "W3pWBHLK5QcF",
        "colab": {
          "base_uri": "https://localhost:8080/",
          "height": 0
        },
        "outputId": "773d0a0c-cd0c-426b-ead9-6007e7e12284"
      },
      "source": [
        "model.evaluate(val_scaled, val_target)"
      ],
      "execution_count": 29,
      "outputs": [
        {
          "output_type": "stream",
          "text": [
            "313/313 [==============================] - 1s 2ms/step - loss: 0.8926 - accuracy: 0.6939\n"
          ],
          "name": "stdout"
        },
        {
          "output_type": "execute_result",
          "data": {
            "text/plain": [
              "[0.892554521560669, 0.6938999891281128]"
            ]
          },
          "metadata": {
            "tags": []
          },
          "execution_count": 29
        }
      ]
    },
    {
      "cell_type": "markdown",
      "metadata": {
        "id": "1uBrYDK2rU-j"
      },
      "source": [
        "##검증세트의 두번째 (인덱스 1) 이미지 출력"
      ]
    },
    {
      "cell_type": "code",
      "metadata": {
        "id": "a9wUbDQL5QcG",
        "colab": {
          "base_uri": "https://localhost:8080/",
          "height": 269
        },
        "outputId": "3b440d56-35ea-4ffb-9e0e-5a09eb224753"
      },
      "source": [
        "plt.imshow(val_scaled[1])\n",
        "plt.colorbar()\n",
        "plt.show()"
      ],
      "execution_count": 31,
      "outputs": [
        {
          "output_type": "display_data",
          "data": {
            "image/png": "[encoded data removed]",
            "text/plain": [
              "<Figure size 432x288 with 2 Axes>"
            ]
          },
          "metadata": {
            "tags": [],
            "needs_background": "light"
          }
        }
      ]
    },
    {
      "cell_type": "markdown",
      "metadata": {
        "id": "BeZTLqEMtp-3"
      },
      "source": [
        "## 검증세트 두번째 (인덱스 1) 샘플의 예측결과를 확인"
      ]
    },
    {
      "cell_type": "code",
      "metadata": {
        "scrolled": true,
        "id": "nRe6TDpw5QcG",
        "colab": {
          "base_uri": "https://localhost:8080/",
          "height": 0
        },
        "outputId": "1af45d2e-59d0-4bfd-8549-a061058f2b06"
      },
      "source": [
        "preds = model.predict(val_scaled[1:2])\n",
        "print(preds)"
      ],
      "execution_count": 32,
      "outputs": [
        {
          "output_type": "stream",
          "text": [
            "[[1.5097238e-03 1.4554007e-05 3.3733988e-06 1.5311361e-05 7.7622026e-08\n",
            "  5.3349908e-08 5.3381791e-07 1.6370414e-08 9.9773431e-01 7.2211144e-04]]\n"
          ],
          "name": "stdout"
        }
      ]
    },
    {
      "cell_type": "markdown",
      "metadata": {
        "id": "42edfvKLtyRW"
      },
      "source": [
        "## 위 예측결과를 그래프로 출력 후 확인"
      ]
    },
    {
      "cell_type": "code",
      "metadata": {
        "id": "bOBfv6De5QcG",
        "colab": {
          "base_uri": "https://localhost:8080/",
          "height": 279
        },
        "outputId": "e64bbdba-c795-417a-a94e-135123883528"
      },
      "source": [
        "plt.bar(range(1, 11), preds[0])\n",
        "plt.xlabel('class')\n",
        "plt.ylabel('prob.')\n",
        "plt.show()"
      ],
      "execution_count": 33,
      "outputs": [
        {
          "output_type": "display_data",
          "data": {
            "image/png": "[encoded data removed]",
            "text/plain": [
              "<Figure size 432x288 with 1 Axes>"
            ]
          },
          "metadata": {
            "tags": [],
            "needs_background": "light"
          }
        }
      ]
    },
    {
      "cell_type": "code",
      "metadata": {
        "id": "917fZGHu5QcG"
      },
      "source": [
        "classes = ['비행기', '자동차', '새', '고양이', '사슴',\n",
        "           '강아지', '개구리', '말', '배', '트럭']"
      ],
      "execution_count": 34,
      "outputs": []
    },
    {
      "cell_type": "code",
      "metadata": {
        "id": "h1JqgKgk5QcH",
        "colab": {
          "base_uri": "https://localhost:8080/",
          "height": 0
        },
        "outputId": "c25de395-a3e4-47c7-b4fb-c68f0e73b7e4"
      },
      "source": [
        "import numpy as np\n",
        "print(classes[np.argmax(preds)])"
      ],
      "execution_count": 35,
      "outputs": [
        {
          "output_type": "stream",
          "text": [
            "배\n"
          ],
          "name": "stdout"
        }
      ]
    },
    {
      "cell_type": "markdown",
      "metadata": {
        "id": "GNAS06H0uoLV"
      },
      "source": [
        "##테스트 세트에 대한 성능을 평가해보자 (evaluate() 사용)"
      ]
    },
    {
      "cell_type": "code",
      "metadata": {
        "id": "G2ihSV-l5QcH"
      },
      "source": [
        "test_scaled = test_input/ 255.0"
      ],
      "execution_count": 37,
      "outputs": []
    },
    {
      "cell_type": "code",
      "metadata": {
        "id": "1AHKDd2U5QcH",
        "colab": {
          "base_uri": "https://localhost:8080/",
          "height": 0
        },
        "outputId": "1ab1ff8c-564d-44e1-d0d1-80535e497587"
      },
      "source": [
        "model.evaluate(test_scaled, test_target)"
      ],
      "execution_count": 38,
      "outputs": [
        {
          "output_type": "stream",
          "text": [
            "313/313 [==============================] - 1s 2ms/step - loss: 0.9097 - accuracy: 0.6904\n"
          ],
          "name": "stdout"
        },
        {
          "output_type": "execute_result",
          "data": {
            "text/plain": [
              "[0.9096720814704895, 0.6904000043869019]"
            ]
          },
          "metadata": {
            "tags": []
          },
          "execution_count": 38
        }
      ]
    },
    {
      "cell_type": "markdown",
      "metadata": {
        "id": "bhPBXfauusnu"
      },
      "source": [
        "## 성능을 향상시켜보자 (레이어 추가 등)"
      ]
    }
  ]
}