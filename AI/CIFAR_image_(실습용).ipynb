{
  "nbformat": 4,
  "nbformat_minor": 0,
  "metadata": {
    "kernelspec": {
      "display_name": "TensorFlow 2.3 on Python 3.6 (CUDA 10.1)",
      "language": "python",
      "name": "python3"
    },
    "language_info": {
      "codemirror_mode": {
        "name": "ipython",
        "version": 3
      },
      "file_extension": ".py",
      "mimetype": "text/x-python",
      "name": "python",
      "nbconvert_exporter": "python",
      "pygments_lexer": "ipython3",
      "version": "3.6.9"
    },
    "colab": {
      "name": "CIFAR image (실습용)",
      "provenance": [],
      "collapsed_sections": []
    },
    "accelerator": "GPU"
  },
  "cells": [
    {
      "cell_type": "markdown",
      "metadata": {
        "id": "VsZV03UD5Qb5"
      },
      "source": [
        "# 합성곱 신경망을 사용한 이미지 분류"
      ]
    },
    {
      "cell_type": "markdown",
      "metadata": {
        "id": "MiG7uEQF5QcA"
      },
      "source": [
        "<table align=\"left\">\n",
        "  <td>\n",
        "    <a target=\"_blank\" href=\"https://colab.research.google.com/github/rickiepark/hg-mldl/blob/master/8-2.ipynb\"><img src=\"https://www.tensorflow.org/images/colab_logo_32px.png\" />구글 코랩에서 실행하기</a>\n",
        "  </td>\n",
        "</table>"
      ]
    },
    {
      "cell_type": "markdown",
      "metadata": {
        "id": "TpIIAufevWMJ"
      },
      "source": [
        "#수업시간에 배운 CNN을 이용하여 이미지를 분류해 보자!!!\n",
        "\n",
        "\n",
        "데이터 셋 정보: https://www.cs.toronto.edu/~kriz/cifar.html"
      ]
    },
    {
      "cell_type": "markdown",
      "metadata": {
        "id": "fQSb0wK85QcA"
      },
      "source": [
        "## CIFAR-10 데이터 셋 읽어오기"
      ]
    },
    {
      "cell_type": "code",
      "metadata": {
        "id": "BGJBttQs5QcA"
      },
      "source": [
        "from tensorflow import keras\n",
        "from sklearn.model_selection import train_test_split\n",
        "from keras.datasets import cifar10\n",
        "import numpy as np\n",
        "import matplotlib.pyplot as plt\n",
        "\n",
        "\n",
        "(train_input, train_target), (test_input, test_target) = \\\n",
        "    cifar10.load_data()\n"
      ],
      "execution_count": null,
      "outputs": []
    },
    {
      "cell_type": "markdown",
      "metadata": {
        "id": "wdB_26i5ialq"
      },
      "source": [
        "##로드한 데이터의 shape을 확인하시오 (샘플 수: 50000, 32 x 32, RGB format).\n",
        "##데이터 셋의 클래스 수를 확인하시오 (numpy unique() 활용 - 7일차 교육 MNIST 실습의 데이터 준비 슬라이드 참고)"
      ]
    },
    {
      "cell_type": "code",
      "metadata": {
        "id": "zsMU5_gfiVYJ"
      },
      "source": [
        ""
      ],
      "execution_count": null,
      "outputs": []
    },
    {
      "cell_type": "markdown",
      "metadata": {
        "id": "gPnsEbQgiGpR"
      },
      "source": [
        "## 이미지의 픽셀값을 0~1값으로 정규화하시오"
      ]
    },
    {
      "cell_type": "code",
      "metadata": {
        "id": "Vidbah1lg9da"
      },
      "source": [
        "#이미지 정규화 (전체 픽셀을 각각 255로 나눔, Numpy Braodcast 특성 활용)"
      ],
      "execution_count": null,
      "outputs": []
    },
    {
      "cell_type": "markdown",
      "metadata": {
        "id": "Xgk3xLuTivWj"
      },
      "source": [
        "##데이터 세트를 훈련데이터 (80%)와 검증세트로 분리하시오"
      ]
    },
    {
      "cell_type": "code",
      "metadata": {
        "id": "tL5LSy-MiwRh"
      },
      "source": [
        ""
      ],
      "execution_count": null,
      "outputs": []
    },
    {
      "cell_type": "markdown",
      "metadata": {
        "id": "fKb9dsbniF5H"
      },
      "source": [
        "#분류가 잘 되었는지 확인하시오 (훈련 세트 = 40000, 검증세트 = 10000)"
      ]
    },
    {
      "cell_type": "code",
      "metadata": {
        "id": "oc0FkyJTgJD6"
      },
      "source": [
        "#shape를 출력"
      ],
      "execution_count": null,
      "outputs": []
    },
    {
      "cell_type": "markdown",
      "metadata": {
        "id": "enGr7A9ijGY8"
      },
      "source": [
        "## matplotlib의 imshow() 메소드를 사용하여 정규화된 훈련세트의 0번째 인덱스의 이미지를 color bar와 함께 출력하시오. "
      ]
    },
    {
      "cell_type": "code",
      "metadata": {
        "colab": {
          "base_uri": "https://localhost:8080/",
          "height": 266
        },
        "id": "kh_66oiXgT-1",
        "outputId": "c314c5ce-74cd-4dbd-ff20-52ac7c4810d0"
      },
      "source": [
        "import matplotlib.pyplot as plt\n",
        "plt.imshow(train_scaled[0]) #변수명은 변경 가능\n",
        "plt.colorbar()\n",
        "plt.show()"
      ],
      "execution_count": null,
      "outputs": [
        {
          "output_type": "display_data",
          "data": {
            "image/png": "[encoded data removed]",
            "text/plain": [
              "<Figure size 432x288 with 2 Axes>"
            ]
          },
          "metadata": {
            "tags": [],
            "needs_background": "light"
          }
        }
      ]
    },
    {
      "cell_type": "markdown",
      "metadata": {
        "id": "Y4m7l2115QcB"
      },
      "source": [
        "## 합성곱 신경망 만들기"
      ]
    },
    {
      "cell_type": "code",
      "metadata": {
        "id": "wubmkM6q5QcB"
      },
      "source": [
        "model = keras.Sequential()"
      ],
      "execution_count": null,
      "outputs": []
    },
    {
      "cell_type": "markdown",
      "metadata": {
        "id": "e9yvL06sjfXk"
      },
      "source": [
        "##첫번째 합성곱 층을 생성후 모델에 추가하시오.\n",
        "필터 수: 32개\\\n",
        "필터 (커널) 사이즈: 3 x 3 x 3\\\n",
        "활성화 함수: ReLU\\\n",
        "패딩: same padding\\\n",
        "stride: 1\\\n",
        "input_shape는 데이터 특성에 맞게 지정"
      ]
    },
    {
      "cell_type": "code",
      "metadata": {
        "id": "fcuXinil5QcB"
      },
      "source": [
        ""
      ],
      "execution_count": null,
      "outputs": []
    },
    {
      "cell_type": "markdown",
      "metadata": {
        "id": "X7k5QVzikIJH"
      },
      "source": [
        "## 2x2 최대 풀링 (max pooling) 층을 추가하시오\n",
        "stride: 2"
      ]
    },
    {
      "cell_type": "code",
      "metadata": {
        "id": "ddZAIUwJ5QcB"
      },
      "source": [
        ""
      ],
      "execution_count": null,
      "outputs": []
    },
    {
      "cell_type": "markdown",
      "metadata": {
        "id": "z6xxkMhKkSmV"
      },
      "source": [
        "##두번째 합성곱 층을 생성 후 모델에 추가하시오\n",
        "필터 수: 64개\\\n",
        "필터 (커널) 사이즈: 3 x 3 x 32\\\n",
        "활성화 함수: ReLU\\\n",
        "패딩: same padding\\\n",
        "stride: 1"
      ]
    },
    {
      "cell_type": "code",
      "metadata": {
        "id": "6NbO08605QcC"
      },
      "source": [
        ""
      ],
      "execution_count": null,
      "outputs": []
    },
    {
      "cell_type": "markdown",
      "metadata": {
        "id": "NZlCRKk4kY0-"
      },
      "source": [
        "## 2x2 최대 풀링 (max pooling) 층을 추가하시오.\n",
        "stride: 2"
      ]
    },
    {
      "cell_type": "code",
      "metadata": {
        "id": "c0DNfw7hkX_C"
      },
      "source": [
        ""
      ],
      "execution_count": null,
      "outputs": []
    },
    {
      "cell_type": "markdown",
      "metadata": {
        "id": "hI85QelAkwRq"
      },
      "source": [
        "## Flatten 층을 추가하고, 출력을 위한 Dense 층 두개를 추가하시오.\n",
        "## Flatten 층과 첫번째 Dense 층 사이에 Dropout 층을 추가하시오 (Dropout율: 30%) \n",
        "첫번째 Dense 층의 뉴런 갯수: 100개\\\n",
        "첫번째 Dense 층의 활성화 함수: ReLU\\\n",
        "두번째 Dense 층의 뉴런 갯수: 데이터 특성에 맞게 설정\\\n",
        "두번째 Dense 층의 활성화 함수: Softmax\n"
      ]
    },
    {
      "cell_type": "code",
      "metadata": {
        "id": "sxlx0yyS5QcC"
      },
      "source": [
        ""
      ],
      "execution_count": null,
      "outputs": []
    },
    {
      "cell_type": "markdown",
      "metadata": {
        "id": "kmSRg6bJnxU6"
      },
      "source": [
        "##model.summary()를 사용하여 모델이 잘 구성되었는지 확인"
      ]
    },
    {
      "cell_type": "code",
      "metadata": {
        "id": "1CFKlE-B5QcC"
      },
      "source": [
        ""
      ],
      "execution_count": null,
      "outputs": []
    },
    {
      "cell_type": "markdown",
      "metadata": {
        "id": "lTs-Kqz5os1Q"
      },
      "source": [
        "##utils.plot_model()을 사용하여 모델이 잘 구성되었는지 확인"
      ]
    },
    {
      "cell_type": "code",
      "metadata": {
        "id": "uO2xZfrF5QcD"
      },
      "source": [
        ""
      ],
      "execution_count": null,
      "outputs": []
    },
    {
      "cell_type": "markdown",
      "metadata": {
        "id": "7sO3by845QcE"
      },
      "source": [
        "## 모델 컴파일과 훈련\n",
        "optimizer: adam\\\n",
        "손실함수: 다중분류를 위한 함수로 지정\\\n",
        "accuracy 메트릭 추가"
      ]
    },
    {
      "cell_type": "code",
      "metadata": {
        "id": "Msys0HQp5QcE"
      },
      "source": [
        "#accuracy는 매개변수를 통해 별도 추가"
      ],
      "execution_count": null,
      "outputs": []
    },
    {
      "cell_type": "markdown",
      "metadata": {
        "id": "Mj-qRH6UpXAv"
      },
      "source": [
        "## ModelCheckPoint 콜백 및 Early_stopping 콜백 사용을 사용하여 최적의 모델을 찾고 저장하시오."
      ]
    },
    {
      "cell_type": "code",
      "metadata": {
        "id": "YHHkTF1h969M"
      },
      "source": [
        "##modelCheckPoint 콜백과 Early_stopping 콜백은 리스트로 동시에 전달 가능"
      ],
      "execution_count": null,
      "outputs": []
    },
    {
      "cell_type": "markdown",
      "metadata": {
        "id": "WIwHswz8qm-X"
      },
      "source": [
        "## matplotlib를 사용하여 학습 세트와 검증세트의 Loss율을 확인하시오."
      ]
    },
    {
      "cell_type": "code",
      "metadata": {
        "id": "1JaC-KDn5QcF"
      },
      "source": [
        ""
      ],
      "execution_count": null,
      "outputs": []
    },
    {
      "cell_type": "markdown",
      "metadata": {
        "id": "9YLs-RdDq34t"
      },
      "source": [
        "## model.evaluate()를 사용하여 검증 세트에 대한 성능을 측정하시오"
      ]
    },
    {
      "cell_type": "code",
      "metadata": {
        "id": "W3pWBHLK5QcF"
      },
      "source": [
        ""
      ],
      "execution_count": null,
      "outputs": []
    },
    {
      "cell_type": "markdown",
      "metadata": {
        "id": "1uBrYDK2rU-j"
      },
      "source": [
        "##검증세트의 두번째 (인덱스 1) 이미지 출력"
      ]
    },
    {
      "cell_type": "code",
      "metadata": {
        "id": "a9wUbDQL5QcG",
        "colab": {
          "base_uri": "https://localhost:8080/",
          "height": 269
        },
        "outputId": "69de9671-0b5c-482a-c720-347f5f3c7740"
      },
      "source": [
        "plt.imshow(val_scaled[1]) #변수명은 변경 가능\n",
        "plt.colorbar()\n",
        "plt.show()"
      ],
      "execution_count": null,
      "outputs": [
        {
          "output_type": "display_data",
          "data": {
            "image/png": "[encoded data removed]",
            "text/plain": [
              "<Figure size 432x288 with 2 Axes>"
            ]
          },
          "metadata": {
            "tags": [],
            "needs_background": "light"
          }
        }
      ]
    },
    {
      "cell_type": "markdown",
      "metadata": {
        "id": "BeZTLqEMtp-3"
      },
      "source": [
        "## 검증세트 두번째 (인덱스 1) 샘플의 예측결과를 확인"
      ]
    },
    {
      "cell_type": "code",
      "metadata": {
        "scrolled": true,
        "id": "nRe6TDpw5QcG"
      },
      "source": [
        "#predict()메소드를 사용하면 됩니다. \n",
        "#val_scaled[1:2] --> 검증데이터의 인덱스 1에 해당하는 샘플\n"
      ],
      "execution_count": null,
      "outputs": []
    },
    {
      "cell_type": "markdown",
      "metadata": {
        "id": "42edfvKLtyRW"
      },
      "source": [
        "## 위 예측결과를 그래프로 출력 후 확인"
      ]
    },
    {
      "cell_type": "code",
      "metadata": {
        "id": "bOBfv6De5QcG",
        "colab": {
          "base_uri": "https://localhost:8080/",
          "height": 279
        },
        "outputId": "e4866299-d8e3-420f-ec04-7a32fdc767ef"
      },
      "source": [
        ""
      ],
      "execution_count": null,
      "outputs": [
        {
          "output_type": "display_data",
          "data": {
            "image/png": "[encoded data removed]",
            "text/plain": [
              "<Figure size 432x288 with 1 Axes>"
            ]
          },
          "metadata": {
            "tags": [],
            "needs_background": "light"
          }
        }
      ]
    },
    {
      "cell_type": "markdown",
      "metadata": {
        "id": "0rkqG2Udp3B0"
      },
      "source": [
        "##예측결과를 보기좋게 출력"
      ]
    },
    {
      "cell_type": "code",
      "metadata": {
        "id": "917fZGHu5QcG"
      },
      "source": [
        "classes = ['비행기', '자동차', '새', '고양이', '사슴',\n",
        "           '강아지', '개구리', '말', '배', '트럭']"
      ],
      "execution_count": null,
      "outputs": []
    },
    {
      "cell_type": "code",
      "metadata": {
        "id": "h1JqgKgk5QcH",
        "colab": {
          "base_uri": "https://localhost:8080/"
        },
        "outputId": "2dc4f5c3-b8d1-4ede-f5cf-6c5ae14909a1"
      },
      "source": [
        "import numpy as np\n",
        "print(classes[np.argmax(preds)])"
      ],
      "execution_count": null,
      "outputs": [
        {
          "output_type": "stream",
          "text": [
            "배\n"
          ],
          "name": "stdout"
        }
      ]
    },
    {
      "cell_type": "markdown",
      "metadata": {
        "id": "GNAS06H0uoLV"
      },
      "source": [
        "##테스트 세트에 대한 성능을 평가해보자 (evaluate() 사용)"
      ]
    },
    {
      "cell_type": "code",
      "metadata": {
        "id": "G2ihSV-l5QcH"
      },
      "source": [
        "#테스트 데이터도 정규화가 필요합니다.\n",
        "#성능평가시 evaluate()를 사용합니다."
      ],
      "execution_count": null,
      "outputs": []
    },
    {
      "cell_type": "markdown",
      "metadata": {
        "id": "bhPBXfauusnu"
      },
      "source": [
        "## 성능을 향상시켜보자 (레이어 추가 등)"
      ]
    }
  ]
}