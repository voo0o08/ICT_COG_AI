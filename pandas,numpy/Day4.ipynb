{
 "cells": [
  {
   "cell_type": "markdown",
   "metadata": {},
   "source": [
    "### 최근 10년간 대구 기온 데이터를 사용해서..\n",
    "각 연도별 최고기온, 최저기온, 최고 평균 기온, 최저 평균 기온을 구해보시오.\n",
    "\n",
    "Hint) date_index -> csv를 읽어 올 때 parse_date를 사용..\n"
   ]
  },
  {
   "cell_type": "code",
   "execution_count": 3,
   "metadata": {},
   "outputs": [],
   "source": [
    "import pandas as pd"
   ]
  },
  {
   "cell_type": "code",
   "execution_count": 4,
   "metadata": {},
   "outputs": [],
   "source": [
    "dg_temp = pd.read_csv( 'daegu_20210712.csv', encoding='ms949', \n",
    "                      index_col ='날짜', parse_dates=['날짜'], skiprows=7 )"
   ]
  },
  {
   "cell_type": "code",
   "execution_count": 5,
   "metadata": {},
   "outputs": [
    {
     "data": {
      "text/html": [
       "<div>\n",
       "<style scoped>\n",
       "    .dataframe tbody tr th:only-of-type {\n",
       "        vertical-align: middle;\n",
       "    }\n",
       "\n",
       "    .dataframe tbody tr th {\n",
       "        vertical-align: top;\n",
       "    }\n",
       "\n",
       "    .dataframe thead th {\n",
       "        text-align: right;\n",
       "    }\n",
       "</style>\n",
       "<table border=\"1\" class=\"dataframe\">\n",
       "  <thead>\n",
       "    <tr style=\"text-align: right;\">\n",
       "      <th></th>\n",
       "      <th>지점</th>\n",
       "      <th>평균기온(℃)</th>\n",
       "      <th>최저기온(℃)</th>\n",
       "      <th>최고기온(℃)</th>\n",
       "    </tr>\n",
       "    <tr>\n",
       "      <th>날짜</th>\n",
       "      <th></th>\n",
       "      <th></th>\n",
       "      <th></th>\n",
       "      <th></th>\n",
       "    </tr>\n",
       "  </thead>\n",
       "  <tbody>\n",
       "    <tr>\n",
       "      <th>2011-06-12</th>\n",
       "      <td>143</td>\n",
       "      <td>24.6</td>\n",
       "      <td>20.8</td>\n",
       "      <td>29.7</td>\n",
       "    </tr>\n",
       "    <tr>\n",
       "      <th>2011-06-13</th>\n",
       "      <td>143</td>\n",
       "      <td>23.7</td>\n",
       "      <td>19.6</td>\n",
       "      <td>29.4</td>\n",
       "    </tr>\n",
       "    <tr>\n",
       "      <th>2011-06-14</th>\n",
       "      <td>143</td>\n",
       "      <td>24.1</td>\n",
       "      <td>19.2</td>\n",
       "      <td>29.4</td>\n",
       "    </tr>\n",
       "    <tr>\n",
       "      <th>2011-06-15</th>\n",
       "      <td>143</td>\n",
       "      <td>23.4</td>\n",
       "      <td>19.7</td>\n",
       "      <td>27.8</td>\n",
       "    </tr>\n",
       "    <tr>\n",
       "      <th>2011-06-16</th>\n",
       "      <td>143</td>\n",
       "      <td>22.5</td>\n",
       "      <td>19.0</td>\n",
       "      <td>27.7</td>\n",
       "    </tr>\n",
       "  </tbody>\n",
       "</table>\n",
       "</div>"
      ],
      "text/plain": [
       "             지점  평균기온(℃)  최저기온(℃)  최고기온(℃)\n",
       "날짜                                        \n",
       "2011-06-12  143     24.6     20.8     29.7\n",
       "2011-06-13  143     23.7     19.6     29.4\n",
       "2011-06-14  143     24.1     19.2     29.4\n",
       "2011-06-15  143     23.4     19.7     27.8\n",
       "2011-06-16  143     22.5     19.0     27.7"
      ]
     },
     "execution_count": 5,
     "metadata": {},
     "output_type": "execute_result"
    }
   ],
   "source": [
    "dg_temp.head()"
   ]
  },
  {
   "cell_type": "code",
   "execution_count": 6,
   "metadata": {},
   "outputs": [
    {
     "data": {
      "text/html": [
       "<div>\n",
       "<style scoped>\n",
       "    .dataframe tbody tr th:only-of-type {\n",
       "        vertical-align: middle;\n",
       "    }\n",
       "\n",
       "    .dataframe tbody tr th {\n",
       "        vertical-align: top;\n",
       "    }\n",
       "\n",
       "    .dataframe thead th {\n",
       "        text-align: right;\n",
       "    }\n",
       "</style>\n",
       "<table border=\"1\" class=\"dataframe\">\n",
       "  <thead>\n",
       "    <tr style=\"text-align: right;\">\n",
       "      <th></th>\n",
       "      <th>지점</th>\n",
       "      <th>평균기온(℃)</th>\n",
       "      <th>최저기온(℃)</th>\n",
       "      <th>최고기온(℃)</th>\n",
       "    </tr>\n",
       "    <tr>\n",
       "      <th>날짜</th>\n",
       "      <th></th>\n",
       "      <th></th>\n",
       "      <th></th>\n",
       "      <th></th>\n",
       "    </tr>\n",
       "  </thead>\n",
       "  <tbody>\n",
       "    <tr>\n",
       "      <th>2020-01-01</th>\n",
       "      <td>143</td>\n",
       "      <td>0.2</td>\n",
       "      <td>-4.9</td>\n",
       "      <td>4.6</td>\n",
       "    </tr>\n",
       "    <tr>\n",
       "      <th>2020-01-02</th>\n",
       "      <td>143</td>\n",
       "      <td>3.4</td>\n",
       "      <td>-1.7</td>\n",
       "      <td>7.3</td>\n",
       "    </tr>\n",
       "    <tr>\n",
       "      <th>2020-01-03</th>\n",
       "      <td>143</td>\n",
       "      <td>3.6</td>\n",
       "      <td>-0.8</td>\n",
       "      <td>8.6</td>\n",
       "    </tr>\n",
       "    <tr>\n",
       "      <th>2020-01-04</th>\n",
       "      <td>143</td>\n",
       "      <td>2.7</td>\n",
       "      <td>-2.3</td>\n",
       "      <td>8.6</td>\n",
       "    </tr>\n",
       "    <tr>\n",
       "      <th>2020-01-05</th>\n",
       "      <td>143</td>\n",
       "      <td>2.2</td>\n",
       "      <td>-4.3</td>\n",
       "      <td>10.2</td>\n",
       "    </tr>\n",
       "    <tr>\n",
       "      <th>...</th>\n",
       "      <td>...</td>\n",
       "      <td>...</td>\n",
       "      <td>...</td>\n",
       "      <td>...</td>\n",
       "    </tr>\n",
       "    <tr>\n",
       "      <th>2020-12-27</th>\n",
       "      <td>143</td>\n",
       "      <td>2.4</td>\n",
       "      <td>-2.1</td>\n",
       "      <td>6.8</td>\n",
       "    </tr>\n",
       "    <tr>\n",
       "      <th>2020-12-28</th>\n",
       "      <td>143</td>\n",
       "      <td>3.8</td>\n",
       "      <td>0.4</td>\n",
       "      <td>12.6</td>\n",
       "    </tr>\n",
       "    <tr>\n",
       "      <th>2020-12-29</th>\n",
       "      <td>143</td>\n",
       "      <td>3.2</td>\n",
       "      <td>-1.6</td>\n",
       "      <td>11.9</td>\n",
       "    </tr>\n",
       "    <tr>\n",
       "      <th>2020-12-30</th>\n",
       "      <td>143</td>\n",
       "      <td>-5.6</td>\n",
       "      <td>-8.6</td>\n",
       "      <td>0.9</td>\n",
       "    </tr>\n",
       "    <tr>\n",
       "      <th>2020-12-31</th>\n",
       "      <td>143</td>\n",
       "      <td>-5.1</td>\n",
       "      <td>-10.3</td>\n",
       "      <td>-0.6</td>\n",
       "    </tr>\n",
       "  </tbody>\n",
       "</table>\n",
       "<p>366 rows × 4 columns</p>\n",
       "</div>"
      ],
      "text/plain": [
       "             지점  평균기온(℃)  최저기온(℃)  최고기온(℃)\n",
       "날짜                                        \n",
       "2020-01-01  143      0.2     -4.9      4.6\n",
       "2020-01-02  143      3.4     -1.7      7.3\n",
       "2020-01-03  143      3.6     -0.8      8.6\n",
       "2020-01-04  143      2.7     -2.3      8.6\n",
       "2020-01-05  143      2.2     -4.3     10.2\n",
       "...         ...      ...      ...      ...\n",
       "2020-12-27  143      2.4     -2.1      6.8\n",
       "2020-12-28  143      3.8      0.4     12.6\n",
       "2020-12-29  143      3.2     -1.6     11.9\n",
       "2020-12-30  143     -5.6     -8.6      0.9\n",
       "2020-12-31  143     -5.1    -10.3     -0.6\n",
       "\n",
       "[366 rows x 4 columns]"
      ]
     },
     "execution_count": 6,
     "metadata": {},
     "output_type": "execute_result"
    }
   ],
   "source": [
    "dg_temp['2020']"
   ]
  },
  {
   "cell_type": "code",
   "execution_count": 7,
   "metadata": {},
   "outputs": [
    {
     "data": {
      "text/plain": [
       "지점         143.0\n",
       "평균기온(℃)     31.4\n",
       "최저기온(℃)     27.1\n",
       "최고기온(℃)     37.0\n",
       "dtype: float64"
      ]
     },
     "execution_count": 7,
     "metadata": {},
     "output_type": "execute_result"
    }
   ],
   "source": [
    "dg_temp['2020'].max()"
   ]
  },
  {
   "cell_type": "code",
   "execution_count": 8,
   "metadata": {},
   "outputs": [
    {
     "data": {
      "text/plain": [
       "날짜\n",
       "2020-01-01     4.6\n",
       "2020-01-02     7.3\n",
       "2020-01-03     8.6\n",
       "2020-01-04     8.6\n",
       "2020-01-05    10.2\n",
       "              ... \n",
       "2020-12-27     6.8\n",
       "2020-12-28    12.6\n",
       "2020-12-29    11.9\n",
       "2020-12-30     0.9\n",
       "2020-12-31    -0.6\n",
       "Name: 최고기온(℃), Length: 366, dtype: float64"
      ]
     },
     "execution_count": 8,
     "metadata": {},
     "output_type": "execute_result"
    }
   ],
   "source": [
    "dg_temp['2020']['최고기온(℃)']"
   ]
  },
  {
   "cell_type": "code",
   "execution_count": 9,
   "metadata": {},
   "outputs": [
    {
     "data": {
      "text/plain": [
       "37.0"
      ]
     },
     "execution_count": 9,
     "metadata": {},
     "output_type": "execute_result"
    }
   ],
   "source": [
    "dg_temp['2020']['최고기온(℃)'].max()"
   ]
  },
  {
   "cell_type": "code",
   "execution_count": 10,
   "metadata": {},
   "outputs": [
    {
     "data": {
      "text/html": [
       "<div>\n",
       "<style scoped>\n",
       "    .dataframe tbody tr th:only-of-type {\n",
       "        vertical-align: middle;\n",
       "    }\n",
       "\n",
       "    .dataframe tbody tr th {\n",
       "        vertical-align: top;\n",
       "    }\n",
       "\n",
       "    .dataframe thead th {\n",
       "        text-align: right;\n",
       "    }\n",
       "</style>\n",
       "<table border=\"1\" class=\"dataframe\">\n",
       "  <thead>\n",
       "    <tr style=\"text-align: right;\">\n",
       "      <th></th>\n",
       "      <th>지점</th>\n",
       "      <th>평균기온(℃)</th>\n",
       "      <th>최저기온(℃)</th>\n",
       "      <th>최고기온(℃)</th>\n",
       "    </tr>\n",
       "    <tr>\n",
       "      <th>날짜</th>\n",
       "      <th></th>\n",
       "      <th></th>\n",
       "      <th></th>\n",
       "      <th></th>\n",
       "    </tr>\n",
       "  </thead>\n",
       "  <tbody>\n",
       "    <tr>\n",
       "      <th>2011</th>\n",
       "      <td>143</td>\n",
       "      <td>24.6</td>\n",
       "      <td>20.8</td>\n",
       "      <td>29.7</td>\n",
       "    </tr>\n",
       "    <tr>\n",
       "      <th>2011</th>\n",
       "      <td>143</td>\n",
       "      <td>23.7</td>\n",
       "      <td>19.6</td>\n",
       "      <td>29.4</td>\n",
       "    </tr>\n",
       "    <tr>\n",
       "      <th>2011</th>\n",
       "      <td>143</td>\n",
       "      <td>24.1</td>\n",
       "      <td>19.2</td>\n",
       "      <td>29.4</td>\n",
       "    </tr>\n",
       "    <tr>\n",
       "      <th>2011</th>\n",
       "      <td>143</td>\n",
       "      <td>23.4</td>\n",
       "      <td>19.7</td>\n",
       "      <td>27.8</td>\n",
       "    </tr>\n",
       "    <tr>\n",
       "      <th>2011</th>\n",
       "      <td>143</td>\n",
       "      <td>22.5</td>\n",
       "      <td>19.0</td>\n",
       "      <td>27.7</td>\n",
       "    </tr>\n",
       "    <tr>\n",
       "      <th>...</th>\n",
       "      <td>...</td>\n",
       "      <td>...</td>\n",
       "      <td>...</td>\n",
       "      <td>...</td>\n",
       "    </tr>\n",
       "    <tr>\n",
       "      <th>2021</th>\n",
       "      <td>143</td>\n",
       "      <td>24.2</td>\n",
       "      <td>22.6</td>\n",
       "      <td>26.2</td>\n",
       "    </tr>\n",
       "    <tr>\n",
       "      <th>2021</th>\n",
       "      <td>143</td>\n",
       "      <td>24.9</td>\n",
       "      <td>22.5</td>\n",
       "      <td>29.6</td>\n",
       "    </tr>\n",
       "    <tr>\n",
       "      <th>2021</th>\n",
       "      <td>143</td>\n",
       "      <td>24.7</td>\n",
       "      <td>22.1</td>\n",
       "      <td>29.1</td>\n",
       "    </tr>\n",
       "    <tr>\n",
       "      <th>2021</th>\n",
       "      <td>143</td>\n",
       "      <td>25.6</td>\n",
       "      <td>NaN</td>\n",
       "      <td>32.6</td>\n",
       "    </tr>\n",
       "    <tr>\n",
       "      <th>2021</th>\n",
       "      <td>143</td>\n",
       "      <td>25.7</td>\n",
       "      <td>21.1</td>\n",
       "      <td>33.8</td>\n",
       "    </tr>\n",
       "  </tbody>\n",
       "</table>\n",
       "<p>3683 rows × 4 columns</p>\n",
       "</div>"
      ],
      "text/plain": [
       "       지점  평균기온(℃)  최저기온(℃)  최고기온(℃)\n",
       "날짜                                  \n",
       "2011  143     24.6     20.8     29.7\n",
       "2011  143     23.7     19.6     29.4\n",
       "2011  143     24.1     19.2     29.4\n",
       "2011  143     23.4     19.7     27.8\n",
       "2011  143     22.5     19.0     27.7\n",
       "...   ...      ...      ...      ...\n",
       "2021  143     24.2     22.6     26.2\n",
       "2021  143     24.9     22.5     29.6\n",
       "2021  143     24.7     22.1     29.1\n",
       "2021  143     25.6      NaN     32.6\n",
       "2021  143     25.7     21.1     33.8\n",
       "\n",
       "[3683 rows x 4 columns]"
      ]
     },
     "execution_count": 10,
     "metadata": {},
     "output_type": "execute_result"
    }
   ],
   "source": [
    "dg_temp.to_period('A')"
   ]
  },
  {
   "cell_type": "code",
   "execution_count": 11,
   "metadata": {},
   "outputs": [],
   "source": [
    "dg_annual_temp = dg_temp.to_period('A')"
   ]
  },
  {
   "cell_type": "code",
   "execution_count": 12,
   "metadata": {
    "collapsed": true
   },
   "outputs": [
    {
     "data": {
      "text/html": [
       "<div>\n",
       "<style scoped>\n",
       "    .dataframe tbody tr th:only-of-type {\n",
       "        vertical-align: middle;\n",
       "    }\n",
       "\n",
       "    .dataframe tbody tr th {\n",
       "        vertical-align: top;\n",
       "    }\n",
       "\n",
       "    .dataframe thead th {\n",
       "        text-align: right;\n",
       "    }\n",
       "</style>\n",
       "<table border=\"1\" class=\"dataframe\">\n",
       "  <thead>\n",
       "    <tr style=\"text-align: right;\">\n",
       "      <th></th>\n",
       "      <th>지점</th>\n",
       "      <th>평균기온(℃)</th>\n",
       "      <th>최저기온(℃)</th>\n",
       "      <th>최고기온(℃)</th>\n",
       "    </tr>\n",
       "    <tr>\n",
       "      <th>날짜</th>\n",
       "      <th></th>\n",
       "      <th></th>\n",
       "      <th></th>\n",
       "      <th></th>\n",
       "    </tr>\n",
       "  </thead>\n",
       "  <tbody>\n",
       "    <tr>\n",
       "      <th>2011</th>\n",
       "      <td>143</td>\n",
       "      <td>24.6</td>\n",
       "      <td>20.8</td>\n",
       "      <td>29.7</td>\n",
       "    </tr>\n",
       "    <tr>\n",
       "      <th>2011</th>\n",
       "      <td>143</td>\n",
       "      <td>23.7</td>\n",
       "      <td>19.6</td>\n",
       "      <td>29.4</td>\n",
       "    </tr>\n",
       "    <tr>\n",
       "      <th>2011</th>\n",
       "      <td>143</td>\n",
       "      <td>24.1</td>\n",
       "      <td>19.2</td>\n",
       "      <td>29.4</td>\n",
       "    </tr>\n",
       "    <tr>\n",
       "      <th>2011</th>\n",
       "      <td>143</td>\n",
       "      <td>23.4</td>\n",
       "      <td>19.7</td>\n",
       "      <td>27.8</td>\n",
       "    </tr>\n",
       "    <tr>\n",
       "      <th>2011</th>\n",
       "      <td>143</td>\n",
       "      <td>22.5</td>\n",
       "      <td>19.0</td>\n",
       "      <td>27.7</td>\n",
       "    </tr>\n",
       "  </tbody>\n",
       "</table>\n",
       "</div>"
      ],
      "text/plain": [
       "       지점  평균기온(℃)  최저기온(℃)  최고기온(℃)\n",
       "날짜                                  \n",
       "2011  143     24.6     20.8     29.7\n",
       "2011  143     23.7     19.6     29.4\n",
       "2011  143     24.1     19.2     29.4\n",
       "2011  143     23.4     19.7     27.8\n",
       "2011  143     22.5     19.0     27.7"
      ]
     },
     "execution_count": 12,
     "metadata": {},
     "output_type": "execute_result"
    }
   ],
   "source": [
    "dg_annual_temp.head()"
   ]
  },
  {
   "cell_type": "code",
   "execution_count": 13,
   "metadata": {},
   "outputs": [
    {
     "data": {
      "text/html": [
       "<div>\n",
       "<style scoped>\n",
       "    .dataframe tbody tr th:only-of-type {\n",
       "        vertical-align: middle;\n",
       "    }\n",
       "\n",
       "    .dataframe tbody tr th {\n",
       "        vertical-align: top;\n",
       "    }\n",
       "\n",
       "    .dataframe thead th {\n",
       "        text-align: right;\n",
       "    }\n",
       "</style>\n",
       "<table border=\"1\" class=\"dataframe\">\n",
       "  <thead>\n",
       "    <tr style=\"text-align: right;\">\n",
       "      <th></th>\n",
       "      <th>지점</th>\n",
       "      <th>평균기온(℃)</th>\n",
       "      <th>최저기온(℃)</th>\n",
       "      <th>최고기온(℃)</th>\n",
       "    </tr>\n",
       "    <tr>\n",
       "      <th>날짜</th>\n",
       "      <th></th>\n",
       "      <th></th>\n",
       "      <th></th>\n",
       "      <th></th>\n",
       "    </tr>\n",
       "  </thead>\n",
       "  <tbody>\n",
       "    <tr>\n",
       "      <th>2011</th>\n",
       "      <td>143</td>\n",
       "      <td>29.4</td>\n",
       "      <td>27.5</td>\n",
       "      <td>35.5</td>\n",
       "    </tr>\n",
       "    <tr>\n",
       "      <th>2012</th>\n",
       "      <td>143</td>\n",
       "      <td>32.3</td>\n",
       "      <td>27.8</td>\n",
       "      <td>37.2</td>\n",
       "    </tr>\n",
       "    <tr>\n",
       "      <th>2013</th>\n",
       "      <td>143</td>\n",
       "      <td>32.9</td>\n",
       "      <td>28.2</td>\n",
       "      <td>37.9</td>\n",
       "    </tr>\n",
       "    <tr>\n",
       "      <th>2014</th>\n",
       "      <td>143</td>\n",
       "      <td>31.0</td>\n",
       "      <td>27.5</td>\n",
       "      <td>37.5</td>\n",
       "    </tr>\n",
       "    <tr>\n",
       "      <th>2015</th>\n",
       "      <td>143</td>\n",
       "      <td>31.3</td>\n",
       "      <td>26.6</td>\n",
       "      <td>38.3</td>\n",
       "    </tr>\n",
       "    <tr>\n",
       "      <th>2016</th>\n",
       "      <td>143</td>\n",
       "      <td>32.4</td>\n",
       "      <td>27.3</td>\n",
       "      <td>38.1</td>\n",
       "    </tr>\n",
       "    <tr>\n",
       "      <th>2017</th>\n",
       "      <td>143</td>\n",
       "      <td>31.8</td>\n",
       "      <td>27.5</td>\n",
       "      <td>38.4</td>\n",
       "    </tr>\n",
       "    <tr>\n",
       "      <th>2018</th>\n",
       "      <td>143</td>\n",
       "      <td>33.1</td>\n",
       "      <td>28.6</td>\n",
       "      <td>39.2</td>\n",
       "    </tr>\n",
       "    <tr>\n",
       "      <th>2019</th>\n",
       "      <td>143</td>\n",
       "      <td>31.6</td>\n",
       "      <td>27.1</td>\n",
       "      <td>36.9</td>\n",
       "    </tr>\n",
       "    <tr>\n",
       "      <th>2020</th>\n",
       "      <td>143</td>\n",
       "      <td>31.4</td>\n",
       "      <td>27.1</td>\n",
       "      <td>37.0</td>\n",
       "    </tr>\n",
       "    <tr>\n",
       "      <th>2021</th>\n",
       "      <td>143</td>\n",
       "      <td>27.8</td>\n",
       "      <td>22.6</td>\n",
       "      <td>33.9</td>\n",
       "    </tr>\n",
       "  </tbody>\n",
       "</table>\n",
       "</div>"
      ],
      "text/plain": [
       "       지점  평균기온(℃)  최저기온(℃)  최고기온(℃)\n",
       "날짜                                  \n",
       "2011  143     29.4     27.5     35.5\n",
       "2012  143     32.3     27.8     37.2\n",
       "2013  143     32.9     28.2     37.9\n",
       "2014  143     31.0     27.5     37.5\n",
       "2015  143     31.3     26.6     38.3\n",
       "2016  143     32.4     27.3     38.1\n",
       "2017  143     31.8     27.5     38.4\n",
       "2018  143     33.1     28.6     39.2\n",
       "2019  143     31.6     27.1     36.9\n",
       "2020  143     31.4     27.1     37.0\n",
       "2021  143     27.8     22.6     33.9"
      ]
     },
     "execution_count": 13,
     "metadata": {},
     "output_type": "execute_result"
    }
   ],
   "source": [
    "dg_annual_temp.groupby('날짜').max()"
   ]
  },
  {
   "cell_type": "code",
   "execution_count": 14,
   "metadata": {
    "collapsed": true
   },
   "outputs": [
    {
     "data": {
      "text/plain": [
       "날짜\n",
       "2011    35.5\n",
       "2012    37.2\n",
       "2013    37.9\n",
       "2014    37.5\n",
       "2015    38.3\n",
       "2016    38.1\n",
       "2017    38.4\n",
       "2018    39.2\n",
       "2019    36.9\n",
       "2020    37.0\n",
       "2021    33.9\n",
       "Freq: A-DEC, Name: 최고기온(℃), dtype: float64"
      ]
     },
     "execution_count": 14,
     "metadata": {},
     "output_type": "execute_result"
    }
   ],
   "source": [
    "dg_annual_temp.groupby('날짜').max()['최고기온(℃)']"
   ]
  },
  {
   "cell_type": "code",
   "execution_count": 15,
   "metadata": {
    "collapsed": true
   },
   "outputs": [
    {
     "data": {
      "text/html": [
       "<div>\n",
       "<style scoped>\n",
       "    .dataframe tbody tr th:only-of-type {\n",
       "        vertical-align: middle;\n",
       "    }\n",
       "\n",
       "    .dataframe tbody tr th {\n",
       "        vertical-align: top;\n",
       "    }\n",
       "\n",
       "    .dataframe thead th {\n",
       "        text-align: right;\n",
       "    }\n",
       "</style>\n",
       "<table border=\"1\" class=\"dataframe\">\n",
       "  <thead>\n",
       "    <tr style=\"text-align: right;\">\n",
       "      <th></th>\n",
       "      <th>지점</th>\n",
       "      <th>평균기온(℃)</th>\n",
       "      <th>최저기온(℃)</th>\n",
       "      <th>최고기온(℃)</th>\n",
       "    </tr>\n",
       "    <tr>\n",
       "      <th>날짜</th>\n",
       "      <th></th>\n",
       "      <th></th>\n",
       "      <th></th>\n",
       "      <th></th>\n",
       "    </tr>\n",
       "  </thead>\n",
       "  <tbody>\n",
       "    <tr>\n",
       "      <th>2011</th>\n",
       "      <td>143</td>\n",
       "      <td>-2.8</td>\n",
       "      <td>-6.8</td>\n",
       "      <td>1.1</td>\n",
       "    </tr>\n",
       "    <tr>\n",
       "      <th>2012</th>\n",
       "      <td>143</td>\n",
       "      <td>-8.7</td>\n",
       "      <td>-12.4</td>\n",
       "      <td>-4.6</td>\n",
       "    </tr>\n",
       "    <tr>\n",
       "      <th>2013</th>\n",
       "      <td>143</td>\n",
       "      <td>-7.8</td>\n",
       "      <td>-12.5</td>\n",
       "      <td>-4.2</td>\n",
       "    </tr>\n",
       "    <tr>\n",
       "      <th>2014</th>\n",
       "      <td>143</td>\n",
       "      <td>-4.7</td>\n",
       "      <td>-7.4</td>\n",
       "      <td>-1.4</td>\n",
       "    </tr>\n",
       "    <tr>\n",
       "      <th>2015</th>\n",
       "      <td>143</td>\n",
       "      <td>-3.9</td>\n",
       "      <td>-8.9</td>\n",
       "      <td>-0.5</td>\n",
       "    </tr>\n",
       "    <tr>\n",
       "      <th>2016</th>\n",
       "      <td>143</td>\n",
       "      <td>-10.2</td>\n",
       "      <td>-13.0</td>\n",
       "      <td>-7.6</td>\n",
       "    </tr>\n",
       "    <tr>\n",
       "      <th>2017</th>\n",
       "      <td>143</td>\n",
       "      <td>-4.8</td>\n",
       "      <td>-10.2</td>\n",
       "      <td>-1.0</td>\n",
       "    </tr>\n",
       "    <tr>\n",
       "      <th>2018</th>\n",
       "      <td>143</td>\n",
       "      <td>-9.4</td>\n",
       "      <td>-13.9</td>\n",
       "      <td>-6.1</td>\n",
       "    </tr>\n",
       "    <tr>\n",
       "      <th>2019</th>\n",
       "      <td>143</td>\n",
       "      <td>-2.5</td>\n",
       "      <td>-7.2</td>\n",
       "      <td>2.6</td>\n",
       "    </tr>\n",
       "    <tr>\n",
       "      <th>2020</th>\n",
       "      <td>143</td>\n",
       "      <td>-5.6</td>\n",
       "      <td>-10.3</td>\n",
       "      <td>-0.6</td>\n",
       "    </tr>\n",
       "    <tr>\n",
       "      <th>2021</th>\n",
       "      <td>143</td>\n",
       "      <td>-10.4</td>\n",
       "      <td>-13.6</td>\n",
       "      <td>-5.8</td>\n",
       "    </tr>\n",
       "  </tbody>\n",
       "</table>\n",
       "</div>"
      ],
      "text/plain": [
       "       지점  평균기온(℃)  최저기온(℃)  최고기온(℃)\n",
       "날짜                                  \n",
       "2011  143     -2.8     -6.8      1.1\n",
       "2012  143     -8.7    -12.4     -4.6\n",
       "2013  143     -7.8    -12.5     -4.2\n",
       "2014  143     -4.7     -7.4     -1.4\n",
       "2015  143     -3.9     -8.9     -0.5\n",
       "2016  143    -10.2    -13.0     -7.6\n",
       "2017  143     -4.8    -10.2     -1.0\n",
       "2018  143     -9.4    -13.9     -6.1\n",
       "2019  143     -2.5     -7.2      2.6\n",
       "2020  143     -5.6    -10.3     -0.6\n",
       "2021  143    -10.4    -13.6     -5.8"
      ]
     },
     "execution_count": 15,
     "metadata": {},
     "output_type": "execute_result"
    }
   ],
   "source": [
    "dg_annual_temp.groupby('날짜').min()"
   ]
  },
  {
   "cell_type": "code",
   "execution_count": 16,
   "metadata": {
    "collapsed": true
   },
   "outputs": [
    {
     "data": {
      "text/plain": [
       "날짜\n",
       "2011    -6.8\n",
       "2012   -12.4\n",
       "2013   -12.5\n",
       "2014    -7.4\n",
       "2015    -8.9\n",
       "2016   -13.0\n",
       "2017   -10.2\n",
       "2018   -13.9\n",
       "2019    -7.2\n",
       "2020   -10.3\n",
       "2021   -13.6\n",
       "Freq: A-DEC, Name: 최저기온(℃), dtype: float64"
      ]
     },
     "execution_count": 16,
     "metadata": {},
     "output_type": "execute_result"
    }
   ],
   "source": [
    "dg_annual_temp.groupby('날짜').min()['최저기온(℃)']"
   ]
  },
  {
   "cell_type": "code",
   "execution_count": 18,
   "metadata": {},
   "outputs": [
    {
     "data": {
      "text/html": [
       "<div>\n",
       "<style scoped>\n",
       "    .dataframe tbody tr th:only-of-type {\n",
       "        vertical-align: middle;\n",
       "    }\n",
       "\n",
       "    .dataframe tbody tr th {\n",
       "        vertical-align: top;\n",
       "    }\n",
       "\n",
       "    .dataframe thead th {\n",
       "        text-align: right;\n",
       "    }\n",
       "</style>\n",
       "<table border=\"1\" class=\"dataframe\">\n",
       "  <thead>\n",
       "    <tr style=\"text-align: right;\">\n",
       "      <th></th>\n",
       "      <th>평균기온(℃)</th>\n",
       "      <th>최고기온(℃)</th>\n",
       "    </tr>\n",
       "    <tr>\n",
       "      <th>날짜</th>\n",
       "      <th></th>\n",
       "      <th></th>\n",
       "    </tr>\n",
       "  </thead>\n",
       "  <tbody>\n",
       "    <tr>\n",
       "      <th>2011</th>\n",
       "      <td>29.4</td>\n",
       "      <td>35.5</td>\n",
       "    </tr>\n",
       "    <tr>\n",
       "      <th>2012</th>\n",
       "      <td>32.3</td>\n",
       "      <td>37.2</td>\n",
       "    </tr>\n",
       "    <tr>\n",
       "      <th>2013</th>\n",
       "      <td>32.9</td>\n",
       "      <td>37.9</td>\n",
       "    </tr>\n",
       "    <tr>\n",
       "      <th>2014</th>\n",
       "      <td>31.0</td>\n",
       "      <td>37.5</td>\n",
       "    </tr>\n",
       "    <tr>\n",
       "      <th>2015</th>\n",
       "      <td>31.3</td>\n",
       "      <td>38.3</td>\n",
       "    </tr>\n",
       "    <tr>\n",
       "      <th>2016</th>\n",
       "      <td>32.4</td>\n",
       "      <td>38.1</td>\n",
       "    </tr>\n",
       "    <tr>\n",
       "      <th>2017</th>\n",
       "      <td>31.8</td>\n",
       "      <td>38.4</td>\n",
       "    </tr>\n",
       "    <tr>\n",
       "      <th>2018</th>\n",
       "      <td>33.1</td>\n",
       "      <td>39.2</td>\n",
       "    </tr>\n",
       "    <tr>\n",
       "      <th>2019</th>\n",
       "      <td>31.6</td>\n",
       "      <td>36.9</td>\n",
       "    </tr>\n",
       "    <tr>\n",
       "      <th>2020</th>\n",
       "      <td>31.4</td>\n",
       "      <td>37.0</td>\n",
       "    </tr>\n",
       "    <tr>\n",
       "      <th>2021</th>\n",
       "      <td>27.8</td>\n",
       "      <td>33.9</td>\n",
       "    </tr>\n",
       "  </tbody>\n",
       "</table>\n",
       "</div>"
      ],
      "text/plain": [
       "      평균기온(℃)  최고기온(℃)\n",
       "날짜                    \n",
       "2011     29.4     35.5\n",
       "2012     32.3     37.2\n",
       "2013     32.9     37.9\n",
       "2014     31.0     37.5\n",
       "2015     31.3     38.3\n",
       "2016     32.4     38.1\n",
       "2017     31.8     38.4\n",
       "2018     33.1     39.2\n",
       "2019     31.6     36.9\n",
       "2020     31.4     37.0\n",
       "2021     27.8     33.9"
      ]
     },
     "execution_count": 18,
     "metadata": {},
     "output_type": "execute_result"
    }
   ],
   "source": [
    "dg_annual_temp.groupby('날짜').max()[['평균기온(℃)','최고기온(℃)']]"
   ]
  },
  {
   "cell_type": "code",
   "execution_count": 19,
   "metadata": {},
   "outputs": [
    {
     "data": {
      "text/html": [
       "<div>\n",
       "<style scoped>\n",
       "    .dataframe tbody tr th:only-of-type {\n",
       "        vertical-align: middle;\n",
       "    }\n",
       "\n",
       "    .dataframe tbody tr th {\n",
       "        vertical-align: top;\n",
       "    }\n",
       "\n",
       "    .dataframe thead th {\n",
       "        text-align: right;\n",
       "    }\n",
       "</style>\n",
       "<table border=\"1\" class=\"dataframe\">\n",
       "  <thead>\n",
       "    <tr style=\"text-align: right;\">\n",
       "      <th></th>\n",
       "      <th>평균기온(℃)</th>\n",
       "      <th>최저기온(℃)</th>\n",
       "    </tr>\n",
       "    <tr>\n",
       "      <th>날짜</th>\n",
       "      <th></th>\n",
       "      <th></th>\n",
       "    </tr>\n",
       "  </thead>\n",
       "  <tbody>\n",
       "    <tr>\n",
       "      <th>2011</th>\n",
       "      <td>-2.8</td>\n",
       "      <td>-6.8</td>\n",
       "    </tr>\n",
       "    <tr>\n",
       "      <th>2012</th>\n",
       "      <td>-8.7</td>\n",
       "      <td>-12.4</td>\n",
       "    </tr>\n",
       "    <tr>\n",
       "      <th>2013</th>\n",
       "      <td>-7.8</td>\n",
       "      <td>-12.5</td>\n",
       "    </tr>\n",
       "    <tr>\n",
       "      <th>2014</th>\n",
       "      <td>-4.7</td>\n",
       "      <td>-7.4</td>\n",
       "    </tr>\n",
       "    <tr>\n",
       "      <th>2015</th>\n",
       "      <td>-3.9</td>\n",
       "      <td>-8.9</td>\n",
       "    </tr>\n",
       "    <tr>\n",
       "      <th>2016</th>\n",
       "      <td>-10.2</td>\n",
       "      <td>-13.0</td>\n",
       "    </tr>\n",
       "    <tr>\n",
       "      <th>2017</th>\n",
       "      <td>-4.8</td>\n",
       "      <td>-10.2</td>\n",
       "    </tr>\n",
       "    <tr>\n",
       "      <th>2018</th>\n",
       "      <td>-9.4</td>\n",
       "      <td>-13.9</td>\n",
       "    </tr>\n",
       "    <tr>\n",
       "      <th>2019</th>\n",
       "      <td>-2.5</td>\n",
       "      <td>-7.2</td>\n",
       "    </tr>\n",
       "    <tr>\n",
       "      <th>2020</th>\n",
       "      <td>-5.6</td>\n",
       "      <td>-10.3</td>\n",
       "    </tr>\n",
       "    <tr>\n",
       "      <th>2021</th>\n",
       "      <td>-10.4</td>\n",
       "      <td>-13.6</td>\n",
       "    </tr>\n",
       "  </tbody>\n",
       "</table>\n",
       "</div>"
      ],
      "text/plain": [
       "      평균기온(℃)  최저기온(℃)\n",
       "날짜                    \n",
       "2011     -2.8     -6.8\n",
       "2012     -8.7    -12.4\n",
       "2013     -7.8    -12.5\n",
       "2014     -4.7     -7.4\n",
       "2015     -3.9     -8.9\n",
       "2016    -10.2    -13.0\n",
       "2017     -4.8    -10.2\n",
       "2018     -9.4    -13.9\n",
       "2019     -2.5     -7.2\n",
       "2020     -5.6    -10.3\n",
       "2021    -10.4    -13.6"
      ]
     },
     "execution_count": 19,
     "metadata": {},
     "output_type": "execute_result"
    }
   ],
   "source": [
    "dg_annual_temp.groupby('날짜').min()[ ['평균기온(℃)','최저기온(℃)'] ]"
   ]
  },
  {
   "cell_type": "code",
   "execution_count": 20,
   "metadata": {},
   "outputs": [],
   "source": [
    "high_temp = dg_annual_temp.groupby('날짜').max()[['평균기온(℃)','최고기온(℃)']]"
   ]
  },
  {
   "cell_type": "code",
   "execution_count": 21,
   "metadata": {},
   "outputs": [],
   "source": [
    "low_temp = dg_annual_temp.groupby('날짜').min()[ ['평균기온(℃)','최저기온(℃)'] ]"
   ]
  },
  {
   "cell_type": "code",
   "execution_count": 22,
   "metadata": {},
   "outputs": [
    {
     "data": {
      "text/html": [
       "<div>\n",
       "<style scoped>\n",
       "    .dataframe tbody tr th:only-of-type {\n",
       "        vertical-align: middle;\n",
       "    }\n",
       "\n",
       "    .dataframe tbody tr th {\n",
       "        vertical-align: top;\n",
       "    }\n",
       "\n",
       "    .dataframe thead th {\n",
       "        text-align: right;\n",
       "    }\n",
       "</style>\n",
       "<table border=\"1\" class=\"dataframe\">\n",
       "  <thead>\n",
       "    <tr style=\"text-align: right;\">\n",
       "      <th></th>\n",
       "      <th>평균기온(℃)</th>\n",
       "      <th>최고기온(℃)</th>\n",
       "    </tr>\n",
       "    <tr>\n",
       "      <th>날짜</th>\n",
       "      <th></th>\n",
       "      <th></th>\n",
       "    </tr>\n",
       "  </thead>\n",
       "  <tbody>\n",
       "    <tr>\n",
       "      <th>2011</th>\n",
       "      <td>29.4</td>\n",
       "      <td>35.5</td>\n",
       "    </tr>\n",
       "    <tr>\n",
       "      <th>2012</th>\n",
       "      <td>32.3</td>\n",
       "      <td>37.2</td>\n",
       "    </tr>\n",
       "    <tr>\n",
       "      <th>2013</th>\n",
       "      <td>32.9</td>\n",
       "      <td>37.9</td>\n",
       "    </tr>\n",
       "    <tr>\n",
       "      <th>2014</th>\n",
       "      <td>31.0</td>\n",
       "      <td>37.5</td>\n",
       "    </tr>\n",
       "    <tr>\n",
       "      <th>2015</th>\n",
       "      <td>31.3</td>\n",
       "      <td>38.3</td>\n",
       "    </tr>\n",
       "    <tr>\n",
       "      <th>2016</th>\n",
       "      <td>32.4</td>\n",
       "      <td>38.1</td>\n",
       "    </tr>\n",
       "    <tr>\n",
       "      <th>2017</th>\n",
       "      <td>31.8</td>\n",
       "      <td>38.4</td>\n",
       "    </tr>\n",
       "    <tr>\n",
       "      <th>2018</th>\n",
       "      <td>33.1</td>\n",
       "      <td>39.2</td>\n",
       "    </tr>\n",
       "    <tr>\n",
       "      <th>2019</th>\n",
       "      <td>31.6</td>\n",
       "      <td>36.9</td>\n",
       "    </tr>\n",
       "    <tr>\n",
       "      <th>2020</th>\n",
       "      <td>31.4</td>\n",
       "      <td>37.0</td>\n",
       "    </tr>\n",
       "    <tr>\n",
       "      <th>2021</th>\n",
       "      <td>27.8</td>\n",
       "      <td>33.9</td>\n",
       "    </tr>\n",
       "  </tbody>\n",
       "</table>\n",
       "</div>"
      ],
      "text/plain": [
       "      평균기온(℃)  최고기온(℃)\n",
       "날짜                    \n",
       "2011     29.4     35.5\n",
       "2012     32.3     37.2\n",
       "2013     32.9     37.9\n",
       "2014     31.0     37.5\n",
       "2015     31.3     38.3\n",
       "2016     32.4     38.1\n",
       "2017     31.8     38.4\n",
       "2018     33.1     39.2\n",
       "2019     31.6     36.9\n",
       "2020     31.4     37.0\n",
       "2021     27.8     33.9"
      ]
     },
     "execution_count": 22,
     "metadata": {},
     "output_type": "execute_result"
    }
   ],
   "source": [
    "high_temp"
   ]
  },
  {
   "cell_type": "code",
   "execution_count": 23,
   "metadata": {},
   "outputs": [
    {
     "data": {
      "text/html": [
       "<div>\n",
       "<style scoped>\n",
       "    .dataframe tbody tr th:only-of-type {\n",
       "        vertical-align: middle;\n",
       "    }\n",
       "\n",
       "    .dataframe tbody tr th {\n",
       "        vertical-align: top;\n",
       "    }\n",
       "\n",
       "    .dataframe thead th {\n",
       "        text-align: right;\n",
       "    }\n",
       "</style>\n",
       "<table border=\"1\" class=\"dataframe\">\n",
       "  <thead>\n",
       "    <tr style=\"text-align: right;\">\n",
       "      <th></th>\n",
       "      <th>평균기온(℃)</th>\n",
       "      <th>최저기온(℃)</th>\n",
       "    </tr>\n",
       "    <tr>\n",
       "      <th>날짜</th>\n",
       "      <th></th>\n",
       "      <th></th>\n",
       "    </tr>\n",
       "  </thead>\n",
       "  <tbody>\n",
       "    <tr>\n",
       "      <th>2011</th>\n",
       "      <td>-2.8</td>\n",
       "      <td>-6.8</td>\n",
       "    </tr>\n",
       "    <tr>\n",
       "      <th>2012</th>\n",
       "      <td>-8.7</td>\n",
       "      <td>-12.4</td>\n",
       "    </tr>\n",
       "    <tr>\n",
       "      <th>2013</th>\n",
       "      <td>-7.8</td>\n",
       "      <td>-12.5</td>\n",
       "    </tr>\n",
       "    <tr>\n",
       "      <th>2014</th>\n",
       "      <td>-4.7</td>\n",
       "      <td>-7.4</td>\n",
       "    </tr>\n",
       "    <tr>\n",
       "      <th>2015</th>\n",
       "      <td>-3.9</td>\n",
       "      <td>-8.9</td>\n",
       "    </tr>\n",
       "    <tr>\n",
       "      <th>2016</th>\n",
       "      <td>-10.2</td>\n",
       "      <td>-13.0</td>\n",
       "    </tr>\n",
       "    <tr>\n",
       "      <th>2017</th>\n",
       "      <td>-4.8</td>\n",
       "      <td>-10.2</td>\n",
       "    </tr>\n",
       "    <tr>\n",
       "      <th>2018</th>\n",
       "      <td>-9.4</td>\n",
       "      <td>-13.9</td>\n",
       "    </tr>\n",
       "    <tr>\n",
       "      <th>2019</th>\n",
       "      <td>-2.5</td>\n",
       "      <td>-7.2</td>\n",
       "    </tr>\n",
       "    <tr>\n",
       "      <th>2020</th>\n",
       "      <td>-5.6</td>\n",
       "      <td>-10.3</td>\n",
       "    </tr>\n",
       "    <tr>\n",
       "      <th>2021</th>\n",
       "      <td>-10.4</td>\n",
       "      <td>-13.6</td>\n",
       "    </tr>\n",
       "  </tbody>\n",
       "</table>\n",
       "</div>"
      ],
      "text/plain": [
       "      평균기온(℃)  최저기온(℃)\n",
       "날짜                    \n",
       "2011     -2.8     -6.8\n",
       "2012     -8.7    -12.4\n",
       "2013     -7.8    -12.5\n",
       "2014     -4.7     -7.4\n",
       "2015     -3.9     -8.9\n",
       "2016    -10.2    -13.0\n",
       "2017     -4.8    -10.2\n",
       "2018     -9.4    -13.9\n",
       "2019     -2.5     -7.2\n",
       "2020     -5.6    -10.3\n",
       "2021    -10.4    -13.6"
      ]
     },
     "execution_count": 23,
     "metadata": {},
     "output_type": "execute_result"
    }
   ],
   "source": [
    "low_temp"
   ]
  },
  {
   "cell_type": "code",
   "execution_count": 24,
   "metadata": {},
   "outputs": [
    {
     "data": {
      "text/html": [
       "<div>\n",
       "<style scoped>\n",
       "    .dataframe tbody tr th:only-of-type {\n",
       "        vertical-align: middle;\n",
       "    }\n",
       "\n",
       "    .dataframe tbody tr th {\n",
       "        vertical-align: top;\n",
       "    }\n",
       "\n",
       "    .dataframe thead th {\n",
       "        text-align: right;\n",
       "    }\n",
       "</style>\n",
       "<table border=\"1\" class=\"dataframe\">\n",
       "  <thead>\n",
       "    <tr style=\"text-align: right;\">\n",
       "      <th></th>\n",
       "      <th>평균기온(℃)</th>\n",
       "      <th>최고기온(℃)</th>\n",
       "      <th>최저기온(℃)</th>\n",
       "    </tr>\n",
       "  </thead>\n",
       "  <tbody>\n",
       "  </tbody>\n",
       "</table>\n",
       "</div>"
      ],
      "text/plain": [
       "Empty DataFrame\n",
       "Columns: [평균기온(℃), 최고기온(℃), 최저기온(℃)]\n",
       "Index: []"
      ]
     },
     "execution_count": 24,
     "metadata": {},
     "output_type": "execute_result"
    }
   ],
   "source": [
    "pd.merge(high_temp, low_temp)"
   ]
  },
  {
   "cell_type": "code",
   "execution_count": 25,
   "metadata": {},
   "outputs": [
    {
     "data": {
      "text/html": [
       "<div>\n",
       "<style scoped>\n",
       "    .dataframe tbody tr th:only-of-type {\n",
       "        vertical-align: middle;\n",
       "    }\n",
       "\n",
       "    .dataframe tbody tr th {\n",
       "        vertical-align: top;\n",
       "    }\n",
       "\n",
       "    .dataframe thead th {\n",
       "        text-align: right;\n",
       "    }\n",
       "</style>\n",
       "<table border=\"1\" class=\"dataframe\">\n",
       "  <thead>\n",
       "    <tr style=\"text-align: right;\">\n",
       "      <th></th>\n",
       "      <th>평균기온(℃)_x</th>\n",
       "      <th>최고기온(℃)</th>\n",
       "      <th>평균기온(℃)_y</th>\n",
       "      <th>최저기온(℃)</th>\n",
       "    </tr>\n",
       "    <tr>\n",
       "      <th>날짜</th>\n",
       "      <th></th>\n",
       "      <th></th>\n",
       "      <th></th>\n",
       "      <th></th>\n",
       "    </tr>\n",
       "  </thead>\n",
       "  <tbody>\n",
       "    <tr>\n",
       "      <th>2011</th>\n",
       "      <td>29.4</td>\n",
       "      <td>35.5</td>\n",
       "      <td>-2.8</td>\n",
       "      <td>-6.8</td>\n",
       "    </tr>\n",
       "    <tr>\n",
       "      <th>2012</th>\n",
       "      <td>32.3</td>\n",
       "      <td>37.2</td>\n",
       "      <td>-8.7</td>\n",
       "      <td>-12.4</td>\n",
       "    </tr>\n",
       "    <tr>\n",
       "      <th>2013</th>\n",
       "      <td>32.9</td>\n",
       "      <td>37.9</td>\n",
       "      <td>-7.8</td>\n",
       "      <td>-12.5</td>\n",
       "    </tr>\n",
       "    <tr>\n",
       "      <th>2014</th>\n",
       "      <td>31.0</td>\n",
       "      <td>37.5</td>\n",
       "      <td>-4.7</td>\n",
       "      <td>-7.4</td>\n",
       "    </tr>\n",
       "    <tr>\n",
       "      <th>2015</th>\n",
       "      <td>31.3</td>\n",
       "      <td>38.3</td>\n",
       "      <td>-3.9</td>\n",
       "      <td>-8.9</td>\n",
       "    </tr>\n",
       "    <tr>\n",
       "      <th>2016</th>\n",
       "      <td>32.4</td>\n",
       "      <td>38.1</td>\n",
       "      <td>-10.2</td>\n",
       "      <td>-13.0</td>\n",
       "    </tr>\n",
       "    <tr>\n",
       "      <th>2017</th>\n",
       "      <td>31.8</td>\n",
       "      <td>38.4</td>\n",
       "      <td>-4.8</td>\n",
       "      <td>-10.2</td>\n",
       "    </tr>\n",
       "    <tr>\n",
       "      <th>2018</th>\n",
       "      <td>33.1</td>\n",
       "      <td>39.2</td>\n",
       "      <td>-9.4</td>\n",
       "      <td>-13.9</td>\n",
       "    </tr>\n",
       "    <tr>\n",
       "      <th>2019</th>\n",
       "      <td>31.6</td>\n",
       "      <td>36.9</td>\n",
       "      <td>-2.5</td>\n",
       "      <td>-7.2</td>\n",
       "    </tr>\n",
       "    <tr>\n",
       "      <th>2020</th>\n",
       "      <td>31.4</td>\n",
       "      <td>37.0</td>\n",
       "      <td>-5.6</td>\n",
       "      <td>-10.3</td>\n",
       "    </tr>\n",
       "    <tr>\n",
       "      <th>2021</th>\n",
       "      <td>27.8</td>\n",
       "      <td>33.9</td>\n",
       "      <td>-10.4</td>\n",
       "      <td>-13.6</td>\n",
       "    </tr>\n",
       "  </tbody>\n",
       "</table>\n",
       "</div>"
      ],
      "text/plain": [
       "      평균기온(℃)_x  최고기온(℃)  평균기온(℃)_y  최저기온(℃)\n",
       "날짜                                          \n",
       "2011       29.4     35.5       -2.8     -6.8\n",
       "2012       32.3     37.2       -8.7    -12.4\n",
       "2013       32.9     37.9       -7.8    -12.5\n",
       "2014       31.0     37.5       -4.7     -7.4\n",
       "2015       31.3     38.3       -3.9     -8.9\n",
       "2016       32.4     38.1      -10.2    -13.0\n",
       "2017       31.8     38.4       -4.8    -10.2\n",
       "2018       33.1     39.2       -9.4    -13.9\n",
       "2019       31.6     36.9       -2.5     -7.2\n",
       "2020       31.4     37.0       -5.6    -10.3\n",
       "2021       27.8     33.9      -10.4    -13.6"
      ]
     },
     "execution_count": 25,
     "metadata": {},
     "output_type": "execute_result"
    }
   ],
   "source": [
    "pd.merge(high_temp, low_temp, on='날짜')"
   ]
  },
  {
   "cell_type": "code",
   "execution_count": 26,
   "metadata": {},
   "outputs": [],
   "source": [
    "result = pd.merge(high_temp, low_temp, on='날짜')"
   ]
  },
  {
   "cell_type": "code",
   "execution_count": 27,
   "metadata": {},
   "outputs": [
    {
     "data": {
      "text/html": [
       "<div>\n",
       "<style scoped>\n",
       "    .dataframe tbody tr th:only-of-type {\n",
       "        vertical-align: middle;\n",
       "    }\n",
       "\n",
       "    .dataframe tbody tr th {\n",
       "        vertical-align: top;\n",
       "    }\n",
       "\n",
       "    .dataframe thead th {\n",
       "        text-align: right;\n",
       "    }\n",
       "</style>\n",
       "<table border=\"1\" class=\"dataframe\">\n",
       "  <thead>\n",
       "    <tr style=\"text-align: right;\">\n",
       "      <th></th>\n",
       "      <th>평균기온(℃)_x</th>\n",
       "      <th>최고기온(℃)</th>\n",
       "      <th>평균기온(℃)_y</th>\n",
       "      <th>최저기온(℃)</th>\n",
       "    </tr>\n",
       "    <tr>\n",
       "      <th>날짜</th>\n",
       "      <th></th>\n",
       "      <th></th>\n",
       "      <th></th>\n",
       "      <th></th>\n",
       "    </tr>\n",
       "  </thead>\n",
       "  <tbody>\n",
       "    <tr>\n",
       "      <th>2011</th>\n",
       "      <td>29.4</td>\n",
       "      <td>35.5</td>\n",
       "      <td>-2.8</td>\n",
       "      <td>-6.8</td>\n",
       "    </tr>\n",
       "    <tr>\n",
       "      <th>2012</th>\n",
       "      <td>32.3</td>\n",
       "      <td>37.2</td>\n",
       "      <td>-8.7</td>\n",
       "      <td>-12.4</td>\n",
       "    </tr>\n",
       "    <tr>\n",
       "      <th>2013</th>\n",
       "      <td>32.9</td>\n",
       "      <td>37.9</td>\n",
       "      <td>-7.8</td>\n",
       "      <td>-12.5</td>\n",
       "    </tr>\n",
       "    <tr>\n",
       "      <th>2014</th>\n",
       "      <td>31.0</td>\n",
       "      <td>37.5</td>\n",
       "      <td>-4.7</td>\n",
       "      <td>-7.4</td>\n",
       "    </tr>\n",
       "    <tr>\n",
       "      <th>2015</th>\n",
       "      <td>31.3</td>\n",
       "      <td>38.3</td>\n",
       "      <td>-3.9</td>\n",
       "      <td>-8.9</td>\n",
       "    </tr>\n",
       "    <tr>\n",
       "      <th>2016</th>\n",
       "      <td>32.4</td>\n",
       "      <td>38.1</td>\n",
       "      <td>-10.2</td>\n",
       "      <td>-13.0</td>\n",
       "    </tr>\n",
       "    <tr>\n",
       "      <th>2017</th>\n",
       "      <td>31.8</td>\n",
       "      <td>38.4</td>\n",
       "      <td>-4.8</td>\n",
       "      <td>-10.2</td>\n",
       "    </tr>\n",
       "    <tr>\n",
       "      <th>2018</th>\n",
       "      <td>33.1</td>\n",
       "      <td>39.2</td>\n",
       "      <td>-9.4</td>\n",
       "      <td>-13.9</td>\n",
       "    </tr>\n",
       "    <tr>\n",
       "      <th>2019</th>\n",
       "      <td>31.6</td>\n",
       "      <td>36.9</td>\n",
       "      <td>-2.5</td>\n",
       "      <td>-7.2</td>\n",
       "    </tr>\n",
       "    <tr>\n",
       "      <th>2020</th>\n",
       "      <td>31.4</td>\n",
       "      <td>37.0</td>\n",
       "      <td>-5.6</td>\n",
       "      <td>-10.3</td>\n",
       "    </tr>\n",
       "    <tr>\n",
       "      <th>2021</th>\n",
       "      <td>27.8</td>\n",
       "      <td>33.9</td>\n",
       "      <td>-10.4</td>\n",
       "      <td>-13.6</td>\n",
       "    </tr>\n",
       "  </tbody>\n",
       "</table>\n",
       "</div>"
      ],
      "text/plain": [
       "      평균기온(℃)_x  최고기온(℃)  평균기온(℃)_y  최저기온(℃)\n",
       "날짜                                          \n",
       "2011       29.4     35.5       -2.8     -6.8\n",
       "2012       32.3     37.2       -8.7    -12.4\n",
       "2013       32.9     37.9       -7.8    -12.5\n",
       "2014       31.0     37.5       -4.7     -7.4\n",
       "2015       31.3     38.3       -3.9     -8.9\n",
       "2016       32.4     38.1      -10.2    -13.0\n",
       "2017       31.8     38.4       -4.8    -10.2\n",
       "2018       33.1     39.2       -9.4    -13.9\n",
       "2019       31.6     36.9       -2.5     -7.2\n",
       "2020       31.4     37.0       -5.6    -10.3\n",
       "2021       27.8     33.9      -10.4    -13.6"
      ]
     },
     "execution_count": 27,
     "metadata": {},
     "output_type": "execute_result"
    }
   ],
   "source": [
    "result "
   ]
  },
  {
   "cell_type": "code",
   "execution_count": 28,
   "metadata": {},
   "outputs": [
    {
     "data": {
      "text/plain": [
       "Index(['평균기온(℃)_x', '최고기온(℃)', '평균기온(℃)_y', '최저기온(℃)'], dtype='object')"
      ]
     },
     "execution_count": 28,
     "metadata": {},
     "output_type": "execute_result"
    }
   ],
   "source": [
    "result.columns"
   ]
  },
  {
   "cell_type": "code",
   "execution_count": 29,
   "metadata": {},
   "outputs": [],
   "source": [
    "result.columns = ['최고평균기온(℃)', '최고기온(℃)', '최저평균기온(℃)', '최저기온(℃)']"
   ]
  },
  {
   "cell_type": "code",
   "execution_count": 30,
   "metadata": {},
   "outputs": [
    {
     "data": {
      "text/html": [
       "<div>\n",
       "<style scoped>\n",
       "    .dataframe tbody tr th:only-of-type {\n",
       "        vertical-align: middle;\n",
       "    }\n",
       "\n",
       "    .dataframe tbody tr th {\n",
       "        vertical-align: top;\n",
       "    }\n",
       "\n",
       "    .dataframe thead th {\n",
       "        text-align: right;\n",
       "    }\n",
       "</style>\n",
       "<table border=\"1\" class=\"dataframe\">\n",
       "  <thead>\n",
       "    <tr style=\"text-align: right;\">\n",
       "      <th></th>\n",
       "      <th>최고평균기온(℃)</th>\n",
       "      <th>최고기온(℃)</th>\n",
       "      <th>최저평균기온(℃)</th>\n",
       "      <th>최저기온(℃)</th>\n",
       "    </tr>\n",
       "    <tr>\n",
       "      <th>날짜</th>\n",
       "      <th></th>\n",
       "      <th></th>\n",
       "      <th></th>\n",
       "      <th></th>\n",
       "    </tr>\n",
       "  </thead>\n",
       "  <tbody>\n",
       "    <tr>\n",
       "      <th>2011</th>\n",
       "      <td>29.4</td>\n",
       "      <td>35.5</td>\n",
       "      <td>-2.8</td>\n",
       "      <td>-6.8</td>\n",
       "    </tr>\n",
       "    <tr>\n",
       "      <th>2012</th>\n",
       "      <td>32.3</td>\n",
       "      <td>37.2</td>\n",
       "      <td>-8.7</td>\n",
       "      <td>-12.4</td>\n",
       "    </tr>\n",
       "    <tr>\n",
       "      <th>2013</th>\n",
       "      <td>32.9</td>\n",
       "      <td>37.9</td>\n",
       "      <td>-7.8</td>\n",
       "      <td>-12.5</td>\n",
       "    </tr>\n",
       "    <tr>\n",
       "      <th>2014</th>\n",
       "      <td>31.0</td>\n",
       "      <td>37.5</td>\n",
       "      <td>-4.7</td>\n",
       "      <td>-7.4</td>\n",
       "    </tr>\n",
       "    <tr>\n",
       "      <th>2015</th>\n",
       "      <td>31.3</td>\n",
       "      <td>38.3</td>\n",
       "      <td>-3.9</td>\n",
       "      <td>-8.9</td>\n",
       "    </tr>\n",
       "    <tr>\n",
       "      <th>2016</th>\n",
       "      <td>32.4</td>\n",
       "      <td>38.1</td>\n",
       "      <td>-10.2</td>\n",
       "      <td>-13.0</td>\n",
       "    </tr>\n",
       "    <tr>\n",
       "      <th>2017</th>\n",
       "      <td>31.8</td>\n",
       "      <td>38.4</td>\n",
       "      <td>-4.8</td>\n",
       "      <td>-10.2</td>\n",
       "    </tr>\n",
       "    <tr>\n",
       "      <th>2018</th>\n",
       "      <td>33.1</td>\n",
       "      <td>39.2</td>\n",
       "      <td>-9.4</td>\n",
       "      <td>-13.9</td>\n",
       "    </tr>\n",
       "    <tr>\n",
       "      <th>2019</th>\n",
       "      <td>31.6</td>\n",
       "      <td>36.9</td>\n",
       "      <td>-2.5</td>\n",
       "      <td>-7.2</td>\n",
       "    </tr>\n",
       "    <tr>\n",
       "      <th>2020</th>\n",
       "      <td>31.4</td>\n",
       "      <td>37.0</td>\n",
       "      <td>-5.6</td>\n",
       "      <td>-10.3</td>\n",
       "    </tr>\n",
       "    <tr>\n",
       "      <th>2021</th>\n",
       "      <td>27.8</td>\n",
       "      <td>33.9</td>\n",
       "      <td>-10.4</td>\n",
       "      <td>-13.6</td>\n",
       "    </tr>\n",
       "  </tbody>\n",
       "</table>\n",
       "</div>"
      ],
      "text/plain": [
       "      최고평균기온(℃)  최고기온(℃)  최저평균기온(℃)  최저기온(℃)\n",
       "날짜                                          \n",
       "2011       29.4     35.5       -2.8     -6.8\n",
       "2012       32.3     37.2       -8.7    -12.4\n",
       "2013       32.9     37.9       -7.8    -12.5\n",
       "2014       31.0     37.5       -4.7     -7.4\n",
       "2015       31.3     38.3       -3.9     -8.9\n",
       "2016       32.4     38.1      -10.2    -13.0\n",
       "2017       31.8     38.4       -4.8    -10.2\n",
       "2018       33.1     39.2       -9.4    -13.9\n",
       "2019       31.6     36.9       -2.5     -7.2\n",
       "2020       31.4     37.0       -5.6    -10.3\n",
       "2021       27.8     33.9      -10.4    -13.6"
      ]
     },
     "execution_count": 30,
     "metadata": {},
     "output_type": "execute_result"
    }
   ],
   "source": [
    "result"
   ]
  },
  {
   "cell_type": "code",
   "execution_count": 31,
   "metadata": {},
   "outputs": [],
   "source": [
    "import matplotlib.pyplot as plt"
   ]
  },
  {
   "cell_type": "code",
   "execution_count": 32,
   "metadata": {},
   "outputs": [
    {
     "name": "stderr",
     "output_type": "stream",
     "text": [
      "C:\\Users\\IT\\Anaconda3\\lib\\site-packages\\matplotlib\\backends\\backend_agg.py:211: RuntimeWarning: Glyph 45216 missing from current font.\n",
      "  font.set_text(s, 0.0, flags=flags)\n",
      "C:\\Users\\IT\\Anaconda3\\lib\\site-packages\\matplotlib\\backends\\backend_agg.py:211: RuntimeWarning: Glyph 51676 missing from current font.\n",
      "  font.set_text(s, 0.0, flags=flags)\n",
      "C:\\Users\\IT\\Anaconda3\\lib\\site-packages\\matplotlib\\backends\\backend_agg.py:180: RuntimeWarning: Glyph 45216 missing from current font.\n",
      "  font.set_text(s, 0, flags=flags)\n",
      "C:\\Users\\IT\\Anaconda3\\lib\\site-packages\\matplotlib\\backends\\backend_agg.py:180: RuntimeWarning: Glyph 51676 missing from current font.\n",
      "  font.set_text(s, 0, flags=flags)\n",
      "C:\\Users\\IT\\Anaconda3\\lib\\site-packages\\matplotlib\\backends\\backend_agg.py:211: RuntimeWarning: Glyph 52572 missing from current font.\n",
      "  font.set_text(s, 0.0, flags=flags)\n",
      "C:\\Users\\IT\\Anaconda3\\lib\\site-packages\\matplotlib\\backends\\backend_agg.py:211: RuntimeWarning: Glyph 44256 missing from current font.\n",
      "  font.set_text(s, 0.0, flags=flags)\n",
      "C:\\Users\\IT\\Anaconda3\\lib\\site-packages\\matplotlib\\backends\\backend_agg.py:211: RuntimeWarning: Glyph 54217 missing from current font.\n",
      "  font.set_text(s, 0.0, flags=flags)\n",
      "C:\\Users\\IT\\Anaconda3\\lib\\site-packages\\matplotlib\\backends\\backend_agg.py:211: RuntimeWarning: Glyph 44512 missing from current font.\n",
      "  font.set_text(s, 0.0, flags=flags)\n",
      "C:\\Users\\IT\\Anaconda3\\lib\\site-packages\\matplotlib\\backends\\backend_agg.py:211: RuntimeWarning: Glyph 44592 missing from current font.\n",
      "  font.set_text(s, 0.0, flags=flags)\n",
      "C:\\Users\\IT\\Anaconda3\\lib\\site-packages\\matplotlib\\backends\\backend_agg.py:211: RuntimeWarning: Glyph 50728 missing from current font.\n",
      "  font.set_text(s, 0.0, flags=flags)\n",
      "C:\\Users\\IT\\Anaconda3\\lib\\site-packages\\matplotlib\\backends\\backend_agg.py:211: RuntimeWarning: Glyph 51200 missing from current font.\n",
      "  font.set_text(s, 0.0, flags=flags)\n",
      "C:\\Users\\IT\\Anaconda3\\lib\\site-packages\\matplotlib\\backends\\backend_agg.py:180: RuntimeWarning: Glyph 52572 missing from current font.\n",
      "  font.set_text(s, 0, flags=flags)\n",
      "C:\\Users\\IT\\Anaconda3\\lib\\site-packages\\matplotlib\\backends\\backend_agg.py:180: RuntimeWarning: Glyph 44256 missing from current font.\n",
      "  font.set_text(s, 0, flags=flags)\n",
      "C:\\Users\\IT\\Anaconda3\\lib\\site-packages\\matplotlib\\backends\\backend_agg.py:180: RuntimeWarning: Glyph 54217 missing from current font.\n",
      "  font.set_text(s, 0, flags=flags)\n",
      "C:\\Users\\IT\\Anaconda3\\lib\\site-packages\\matplotlib\\backends\\backend_agg.py:180: RuntimeWarning: Glyph 44512 missing from current font.\n",
      "  font.set_text(s, 0, flags=flags)\n",
      "C:\\Users\\IT\\Anaconda3\\lib\\site-packages\\matplotlib\\backends\\backend_agg.py:180: RuntimeWarning: Glyph 44592 missing from current font.\n",
      "  font.set_text(s, 0, flags=flags)\n",
      "C:\\Users\\IT\\Anaconda3\\lib\\site-packages\\matplotlib\\backends\\backend_agg.py:180: RuntimeWarning: Glyph 50728 missing from current font.\n",
      "  font.set_text(s, 0, flags=flags)\n",
      "C:\\Users\\IT\\Anaconda3\\lib\\site-packages\\matplotlib\\backends\\backend_agg.py:180: RuntimeWarning: Glyph 51200 missing from current font.\n",
      "  font.set_text(s, 0, flags=flags)\n"
     ]
    },
    {
     "data": {
      "image/png": "[encoded data removed]",
      "text/plain": [
       "<Figure size 432x288 with 1 Axes>"
      ]
     },
     "metadata": {
      "needs_background": "light"
     },
     "output_type": "display_data"
    }
   ],
   "source": [
    "result.plot(kind='bar')\n",
    "plt.show()"
   ]
  },
  {
   "cell_type": "code",
   "execution_count": 33,
   "metadata": {},
   "outputs": [],
   "source": [
    "df = pd.DataFrame( {'a':[1,2,3], 'b':[4,5,6], 'c': [7,8,9], 'd':[3,4,5], 'e':[5,6,7]})"
   ]
  },
  {
   "cell_type": "code",
   "execution_count": 34,
   "metadata": {},
   "outputs": [
    {
     "data": {
      "text/html": [
       "<div>\n",
       "<style scoped>\n",
       "    .dataframe tbody tr th:only-of-type {\n",
       "        vertical-align: middle;\n",
       "    }\n",
       "\n",
       "    .dataframe tbody tr th {\n",
       "        vertical-align: top;\n",
       "    }\n",
       "\n",
       "    .dataframe thead th {\n",
       "        text-align: right;\n",
       "    }\n",
       "</style>\n",
       "<table border=\"1\" class=\"dataframe\">\n",
       "  <thead>\n",
       "    <tr style=\"text-align: right;\">\n",
       "      <th></th>\n",
       "      <th>a</th>\n",
       "      <th>b</th>\n",
       "      <th>c</th>\n",
       "      <th>d</th>\n",
       "      <th>e</th>\n",
       "    </tr>\n",
       "  </thead>\n",
       "  <tbody>\n",
       "    <tr>\n",
       "      <th>0</th>\n",
       "      <td>1</td>\n",
       "      <td>4</td>\n",
       "      <td>7</td>\n",
       "      <td>3</td>\n",
       "      <td>5</td>\n",
       "    </tr>\n",
       "    <tr>\n",
       "      <th>1</th>\n",
       "      <td>2</td>\n",
       "      <td>5</td>\n",
       "      <td>8</td>\n",
       "      <td>4</td>\n",
       "      <td>6</td>\n",
       "    </tr>\n",
       "    <tr>\n",
       "      <th>2</th>\n",
       "      <td>3</td>\n",
       "      <td>6</td>\n",
       "      <td>9</td>\n",
       "      <td>5</td>\n",
       "      <td>7</td>\n",
       "    </tr>\n",
       "  </tbody>\n",
       "</table>\n",
       "</div>"
      ],
      "text/plain": [
       "   a  b  c  d  e\n",
       "0  1  4  7  3  5\n",
       "1  2  5  8  4  6\n",
       "2  3  6  9  5  7"
      ]
     },
     "execution_count": 34,
     "metadata": {},
     "output_type": "execute_result"
    }
   ],
   "source": [
    "df"
   ]
  },
  {
   "cell_type": "code",
   "execution_count": 35,
   "metadata": {},
   "outputs": [
    {
     "data": {
      "text/plain": [
       "a     6\n",
       "b    15\n",
       "c    24\n",
       "d    12\n",
       "e    18\n",
       "dtype: int64"
      ]
     },
     "execution_count": 35,
     "metadata": {},
     "output_type": "execute_result"
    }
   ],
   "source": [
    "df.sum()"
   ]
  },
  {
   "cell_type": "code",
   "execution_count": 36,
   "metadata": {},
   "outputs": [
    {
     "data": {
      "text/plain": [
       "0    20\n",
       "1    25\n",
       "2    30\n",
       "dtype: int64"
      ]
     },
     "execution_count": 36,
     "metadata": {},
     "output_type": "execute_result"
    }
   ],
   "source": [
    "df.sum(axis=1)"
   ]
  },
  {
   "cell_type": "code",
   "execution_count": 37,
   "metadata": {
    "scrolled": true
   },
   "outputs": [
    {
     "data": {
      "text/plain": [
       "0    14\n",
       "1    17\n",
       "2    20\n",
       "dtype: int64"
      ]
     },
     "execution_count": 37,
     "metadata": {},
     "output_type": "execute_result"
    }
   ],
   "source": [
    "df[ ['b','c','d']].sum(axis=1)"
   ]
  },
  {
   "cell_type": "code",
   "execution_count": 38,
   "metadata": {},
   "outputs": [
    {
     "data": {
      "text/html": [
       "<div>\n",
       "<style scoped>\n",
       "    .dataframe tbody tr th:only-of-type {\n",
       "        vertical-align: middle;\n",
       "    }\n",
       "\n",
       "    .dataframe tbody tr th {\n",
       "        vertical-align: top;\n",
       "    }\n",
       "\n",
       "    .dataframe thead th {\n",
       "        text-align: right;\n",
       "    }\n",
       "</style>\n",
       "<table border=\"1\" class=\"dataframe\">\n",
       "  <thead>\n",
       "    <tr style=\"text-align: right;\">\n",
       "      <th></th>\n",
       "      <th>b</th>\n",
       "      <th>c</th>\n",
       "      <th>d</th>\n",
       "    </tr>\n",
       "  </thead>\n",
       "  <tbody>\n",
       "    <tr>\n",
       "      <th>0</th>\n",
       "      <td>4</td>\n",
       "      <td>7</td>\n",
       "      <td>3</td>\n",
       "    </tr>\n",
       "    <tr>\n",
       "      <th>1</th>\n",
       "      <td>5</td>\n",
       "      <td>8</td>\n",
       "      <td>4</td>\n",
       "    </tr>\n",
       "    <tr>\n",
       "      <th>2</th>\n",
       "      <td>6</td>\n",
       "      <td>9</td>\n",
       "      <td>5</td>\n",
       "    </tr>\n",
       "  </tbody>\n",
       "</table>\n",
       "</div>"
      ],
      "text/plain": [
       "   b  c  d\n",
       "0  4  7  3\n",
       "1  5  8  4\n",
       "2  6  9  5"
      ]
     },
     "execution_count": 38,
     "metadata": {},
     "output_type": "execute_result"
    }
   ],
   "source": [
    "df[ ['b','c','d'] ]"
   ]
  },
  {
   "cell_type": "code",
   "execution_count": 39,
   "metadata": {},
   "outputs": [
    {
     "ename": "SyntaxError",
     "evalue": "invalid syntax (<ipython-input-39-26470389dcf8>, line 1)",
     "output_type": "error",
     "traceback": [
      "\u001b[1;36m  File \u001b[1;32m\"<ipython-input-39-26470389dcf8>\"\u001b[1;36m, line \u001b[1;32m1\u001b[0m\n\u001b[1;33m    df[ ['b':'e']]\u001b[0m\n\u001b[1;37m            ^\u001b[0m\n\u001b[1;31mSyntaxError\u001b[0m\u001b[1;31m:\u001b[0m invalid syntax\n"
     ]
    }
   ],
   "source": [
    "df[ ['b':'e']]"
   ]
  },
  {
   "cell_type": "code",
   "execution_count": 41,
   "metadata": {},
   "outputs": [
    {
     "data": {
      "text/plain": [
       "a    1\n",
       "b    4\n",
       "c    7\n",
       "d    3\n",
       "e    5\n",
       "Name: 0, dtype: int64"
      ]
     },
     "execution_count": 41,
     "metadata": {},
     "output_type": "execute_result"
    }
   ],
   "source": [
    "df.loc[ 0 ]"
   ]
  },
  {
   "cell_type": "code",
   "execution_count": 42,
   "metadata": {},
   "outputs": [
    {
     "data": {
      "text/plain": [
       "a    1\n",
       "b    4\n",
       "c    7\n",
       "d    3\n",
       "e    5\n",
       "Name: 0, dtype: int64"
      ]
     },
     "execution_count": 42,
     "metadata": {},
     "output_type": "execute_result"
    }
   ],
   "source": [
    "df.iloc[0]"
   ]
  },
  {
   "cell_type": "code",
   "execution_count": 43,
   "metadata": {},
   "outputs": [
    {
     "data": {
      "text/plain": [
       "1"
      ]
     },
     "execution_count": 43,
     "metadata": {},
     "output_type": "execute_result"
    }
   ],
   "source": [
    "df.loc[0, 'a']"
   ]
  },
  {
   "cell_type": "code",
   "execution_count": 44,
   "metadata": {},
   "outputs": [
    {
     "data": {
      "text/plain": [
       "0    1\n",
       "1    2\n",
       "2    3\n",
       "Name: a, dtype: int64"
      ]
     },
     "execution_count": 44,
     "metadata": {},
     "output_type": "execute_result"
    }
   ],
   "source": [
    "df.loc[ : , 'a' ]"
   ]
  },
  {
   "cell_type": "code",
   "execution_count": 46,
   "metadata": {},
   "outputs": [
    {
     "data": {
      "text/html": [
       "<div>\n",
       "<style scoped>\n",
       "    .dataframe tbody tr th:only-of-type {\n",
       "        vertical-align: middle;\n",
       "    }\n",
       "\n",
       "    .dataframe tbody tr th {\n",
       "        vertical-align: top;\n",
       "    }\n",
       "\n",
       "    .dataframe thead th {\n",
       "        text-align: right;\n",
       "    }\n",
       "</style>\n",
       "<table border=\"1\" class=\"dataframe\">\n",
       "  <thead>\n",
       "    <tr style=\"text-align: right;\">\n",
       "      <th></th>\n",
       "      <th>b</th>\n",
       "      <th>c</th>\n",
       "      <th>d</th>\n",
       "    </tr>\n",
       "  </thead>\n",
       "  <tbody>\n",
       "    <tr>\n",
       "      <th>0</th>\n",
       "      <td>4</td>\n",
       "      <td>7</td>\n",
       "      <td>3</td>\n",
       "    </tr>\n",
       "    <tr>\n",
       "      <th>1</th>\n",
       "      <td>5</td>\n",
       "      <td>8</td>\n",
       "      <td>4</td>\n",
       "    </tr>\n",
       "    <tr>\n",
       "      <th>2</th>\n",
       "      <td>6</td>\n",
       "      <td>9</td>\n",
       "      <td>5</td>\n",
       "    </tr>\n",
       "  </tbody>\n",
       "</table>\n",
       "</div>"
      ],
      "text/plain": [
       "   b  c  d\n",
       "0  4  7  3\n",
       "1  5  8  4\n",
       "2  6  9  5"
      ]
     },
     "execution_count": 46,
     "metadata": {},
     "output_type": "execute_result"
    }
   ],
   "source": [
    "df.loc[ : , 'b':'d']"
   ]
  },
  {
   "cell_type": "code",
   "execution_count": 49,
   "metadata": {},
   "outputs": [
    {
     "data": {
      "text/plain": [
       "0    14\n",
       "1    17\n",
       "2    20\n",
       "dtype: int64"
      ]
     },
     "execution_count": 49,
     "metadata": {},
     "output_type": "execute_result"
    }
   ],
   "source": [
    "df.iloc[ : , 1:4].sum(axis=1)"
   ]
  },
  {
   "cell_type": "code",
   "execution_count": 50,
   "metadata": {},
   "outputs": [
    {
     "data": {
      "text/html": [
       "<div>\n",
       "<style scoped>\n",
       "    .dataframe tbody tr th:only-of-type {\n",
       "        vertical-align: middle;\n",
       "    }\n",
       "\n",
       "    .dataframe tbody tr th {\n",
       "        vertical-align: top;\n",
       "    }\n",
       "\n",
       "    .dataframe thead th {\n",
       "        text-align: right;\n",
       "    }\n",
       "</style>\n",
       "<table border=\"1\" class=\"dataframe\">\n",
       "  <thead>\n",
       "    <tr style=\"text-align: right;\">\n",
       "      <th></th>\n",
       "      <th>a</th>\n",
       "      <th>b</th>\n",
       "      <th>c</th>\n",
       "      <th>d</th>\n",
       "      <th>e</th>\n",
       "    </tr>\n",
       "  </thead>\n",
       "  <tbody>\n",
       "    <tr>\n",
       "      <th>0</th>\n",
       "      <td>1</td>\n",
       "      <td>4</td>\n",
       "      <td>7</td>\n",
       "      <td>3</td>\n",
       "      <td>5</td>\n",
       "    </tr>\n",
       "    <tr>\n",
       "      <th>1</th>\n",
       "      <td>2</td>\n",
       "      <td>5</td>\n",
       "      <td>8</td>\n",
       "      <td>4</td>\n",
       "      <td>6</td>\n",
       "    </tr>\n",
       "    <tr>\n",
       "      <th>2</th>\n",
       "      <td>3</td>\n",
       "      <td>6</td>\n",
       "      <td>9</td>\n",
       "      <td>5</td>\n",
       "      <td>7</td>\n",
       "    </tr>\n",
       "  </tbody>\n",
       "</table>\n",
       "</div>"
      ],
      "text/plain": [
       "   a  b  c  d  e\n",
       "0  1  4  7  3  5\n",
       "1  2  5  8  4  6\n",
       "2  3  6  9  5  7"
      ]
     },
     "execution_count": 50,
     "metadata": {},
     "output_type": "execute_result"
    }
   ],
   "source": [
    "df"
   ]
  },
  {
   "cell_type": "code",
   "execution_count": 51,
   "metadata": {},
   "outputs": [
    {
     "data": {
      "text/plain": [
       "0    2.333333\n",
       "1    2.125000\n",
       "2    2.000000\n",
       "dtype: float64"
      ]
     },
     "execution_count": 51,
     "metadata": {},
     "output_type": "execute_result"
    }
   ],
   "source": [
    "df[ ['b','c','d']].sum(axis=1) / df[ ['a', 'e']].sum(axis=1)"
   ]
  },
  {
   "cell_type": "code",
   "execution_count": 52,
   "metadata": {},
   "outputs": [],
   "source": [
    "df['x'] = df[ ['b','c','d']].sum(axis=1) / df[ ['a', 'e']].sum(axis=1)"
   ]
  },
  {
   "cell_type": "code",
   "execution_count": 53,
   "metadata": {},
   "outputs": [
    {
     "data": {
      "text/html": [
       "<div>\n",
       "<style scoped>\n",
       "    .dataframe tbody tr th:only-of-type {\n",
       "        vertical-align: middle;\n",
       "    }\n",
       "\n",
       "    .dataframe tbody tr th {\n",
       "        vertical-align: top;\n",
       "    }\n",
       "\n",
       "    .dataframe thead th {\n",
       "        text-align: right;\n",
       "    }\n",
       "</style>\n",
       "<table border=\"1\" class=\"dataframe\">\n",
       "  <thead>\n",
       "    <tr style=\"text-align: right;\">\n",
       "      <th></th>\n",
       "      <th>a</th>\n",
       "      <th>b</th>\n",
       "      <th>c</th>\n",
       "      <th>d</th>\n",
       "      <th>e</th>\n",
       "      <th>x</th>\n",
       "    </tr>\n",
       "  </thead>\n",
       "  <tbody>\n",
       "    <tr>\n",
       "      <th>0</th>\n",
       "      <td>1</td>\n",
       "      <td>4</td>\n",
       "      <td>7</td>\n",
       "      <td>3</td>\n",
       "      <td>5</td>\n",
       "      <td>2.333333</td>\n",
       "    </tr>\n",
       "    <tr>\n",
       "      <th>1</th>\n",
       "      <td>2</td>\n",
       "      <td>5</td>\n",
       "      <td>8</td>\n",
       "      <td>4</td>\n",
       "      <td>6</td>\n",
       "      <td>2.125000</td>\n",
       "    </tr>\n",
       "    <tr>\n",
       "      <th>2</th>\n",
       "      <td>3</td>\n",
       "      <td>6</td>\n",
       "      <td>9</td>\n",
       "      <td>5</td>\n",
       "      <td>7</td>\n",
       "      <td>2.000000</td>\n",
       "    </tr>\n",
       "  </tbody>\n",
       "</table>\n",
       "</div>"
      ],
      "text/plain": [
       "   a  b  c  d  e         x\n",
       "0  1  4  7  3  5  2.333333\n",
       "1  2  5  8  4  6  2.125000\n",
       "2  3  6  9  5  7  2.000000"
      ]
     },
     "execution_count": 53,
     "metadata": {},
     "output_type": "execute_result"
    }
   ],
   "source": [
    "df"
   ]
  },
  {
   "cell_type": "markdown",
   "metadata": {},
   "source": [
    "# 그래프 그리기!!"
   ]
  },
  {
   "cell_type": "code",
   "execution_count": 54,
   "metadata": {},
   "outputs": [],
   "source": [
    "import matplotlib.pyplot as plt"
   ]
  },
  {
   "cell_type": "code",
   "execution_count": 55,
   "metadata": {},
   "outputs": [
    {
     "data": {
      "image/png": "[encoded data removed]",
      "text/plain": [
       "<Figure size 432x288 with 1 Axes>"
      ]
     },
     "metadata": {
      "needs_background": "light"
     },
     "output_type": "display_data"
    }
   ],
   "source": [
    "plt.plot([1,2,3,4])\n",
    "plt.show()"
   ]
  },
  {
   "cell_type": "code",
   "execution_count": 56,
   "metadata": {},
   "outputs": [
    {
     "data": {
      "image/png": "[encoded data removed]",
      "text/plain": [
       "<Figure size 432x288 with 1 Axes>"
      ]
     },
     "metadata": {
      "needs_background": "light"
     },
     "output_type": "display_data"
    }
   ],
   "source": [
    "plt.plot([1,2,3,4], [10,20,30,40])\n",
    "plt.show()"
   ]
  },
  {
   "cell_type": "code",
   "execution_count": 58,
   "metadata": {},
   "outputs": [
    {
     "data": {
      "image/png": "[encoded data removed]",
      "text/plain": [
       "<Figure size 432x288 with 1 Axes>"
      ]
     },
     "metadata": {
      "needs_background": "light"
     },
     "output_type": "display_data"
    }
   ],
   "source": [
    "plt.plot([1,2,3,4], [10,40,18,60])\n",
    "plt.show()"
   ]
  },
  {
   "cell_type": "code",
   "execution_count": 59,
   "metadata": {},
   "outputs": [
    {
     "data": {
      "image/png": "[encoded data removed]",
      "text/plain": [
       "<Figure size 432x288 with 1 Axes>"
      ]
     },
     "metadata": {
      "needs_background": "light"
     },
     "output_type": "display_data"
    }
   ],
   "source": [
    "plt.plot([1,2,3,4], [10,40,18,60])\n",
    "plt.ylabel('yyy')\n",
    "plt.xlabel('xxx')\n",
    "plt.show()"
   ]
  },
  {
   "cell_type": "code",
   "execution_count": 60,
   "metadata": {},
   "outputs": [
    {
     "name": "stderr",
     "output_type": "stream",
     "text": [
      "C:\\Users\\IT\\Anaconda3\\lib\\site-packages\\matplotlib\\backends\\backend_agg.py:211: RuntimeWarning: Glyph 44277 missing from current font.\n",
      "  font.set_text(s, 0.0, flags=flags)\n",
      "C:\\Users\\IT\\Anaconda3\\lib\\site-packages\\matplotlib\\backends\\backend_agg.py:211: RuntimeWarning: Glyph 48512 missing from current font.\n",
      "  font.set_text(s, 0.0, flags=flags)\n",
      "C:\\Users\\IT\\Anaconda3\\lib\\site-packages\\matplotlib\\backends\\backend_agg.py:211: RuntimeWarning: Glyph 49884 missing from current font.\n",
      "  font.set_text(s, 0.0, flags=flags)\n",
      "C:\\Users\\IT\\Anaconda3\\lib\\site-packages\\matplotlib\\backends\\backend_agg.py:211: RuntimeWarning: Glyph 44036 missing from current font.\n",
      "  font.set_text(s, 0.0, flags=flags)\n",
      "C:\\Users\\IT\\Anaconda3\\lib\\site-packages\\matplotlib\\backends\\backend_agg.py:180: RuntimeWarning: Glyph 44277 missing from current font.\n",
      "  font.set_text(s, 0, flags=flags)\n",
      "C:\\Users\\IT\\Anaconda3\\lib\\site-packages\\matplotlib\\backends\\backend_agg.py:180: RuntimeWarning: Glyph 48512 missing from current font.\n",
      "  font.set_text(s, 0, flags=flags)\n",
      "C:\\Users\\IT\\Anaconda3\\lib\\site-packages\\matplotlib\\backends\\backend_agg.py:180: RuntimeWarning: Glyph 49884 missing from current font.\n",
      "  font.set_text(s, 0, flags=flags)\n",
      "C:\\Users\\IT\\Anaconda3\\lib\\site-packages\\matplotlib\\backends\\backend_agg.py:180: RuntimeWarning: Glyph 44036 missing from current font.\n",
      "  font.set_text(s, 0, flags=flags)\n",
      "C:\\Users\\IT\\Anaconda3\\lib\\site-packages\\matplotlib\\backends\\backend_agg.py:211: RuntimeWarning: Glyph 49457 missing from current font.\n",
      "  font.set_text(s, 0.0, flags=flags)\n",
      "C:\\Users\\IT\\Anaconda3\\lib\\site-packages\\matplotlib\\backends\\backend_agg.py:211: RuntimeWarning: Glyph 51201 missing from current font.\n",
      "  font.set_text(s, 0.0, flags=flags)\n",
      "C:\\Users\\IT\\Anaconda3\\lib\\site-packages\\matplotlib\\backends\\backend_agg.py:180: RuntimeWarning: Glyph 49457 missing from current font.\n",
      "  font.set_text(s, 0, flags=flags)\n",
      "C:\\Users\\IT\\Anaconda3\\lib\\site-packages\\matplotlib\\backends\\backend_agg.py:180: RuntimeWarning: Glyph 51201 missing from current font.\n",
      "  font.set_text(s, 0, flags=flags)\n"
     ]
    },
    {
     "data": {
      "image/png": "[encoded data removed]",
      "text/plain": [
       "<Figure size 432x288 with 1 Axes>"
      ]
     },
     "metadata": {
      "needs_background": "light"
     },
     "output_type": "display_data"
    }
   ],
   "source": [
    "plt.plot([1,2,3,4], [10,40,18,60])\n",
    "plt.ylabel('성적')\n",
    "plt.xlabel('공부시간')\n",
    "plt.show()"
   ]
  },
  {
   "cell_type": "markdown",
   "metadata": {},
   "source": [
    "## 한글을 사용할 수 있게 해보자.."
   ]
  },
  {
   "cell_type": "code",
   "execution_count": 61,
   "metadata": {},
   "outputs": [],
   "source": [
    "# 시스템에 설치된 폰트를 확인해보자.\n",
    "\n",
    "import matplotlib.font_manager as fm"
   ]
  },
  {
   "cell_type": "code",
   "execution_count": 62,
   "metadata": {},
   "outputs": [],
   "source": [
    "font_list = fm.findSystemFonts() # 시스템에 설치된 폰트의 리스트를 구한다."
   ]
  },
  {
   "cell_type": "code",
   "execution_count": 63,
   "metadata": {
    "collapsed": true
   },
   "outputs": [
    {
     "data": {
      "text/plain": [
       "['C:\\\\WINDOWS\\\\Fonts\\\\BRUSHSCI.TTF',\n",
       " 'C:\\\\Windows\\\\Fonts\\\\PER_____.TTF',\n",
       " 'C:\\\\Windows\\\\Fonts\\\\HMFMMUEX.TTC',\n",
       " 'C:\\\\Windows\\\\Fonts\\\\GLECB.TTF',\n",
       " 'C:\\\\WINDOWS\\\\Fonts\\\\micross.ttf',\n",
       " 'C:\\\\Windows\\\\Fonts\\\\경기천년바탕_Bold.ttf',\n",
       " 'C:\\\\Windows\\\\Fonts\\\\couri.ttf',\n",
       " 'C:\\\\Windows\\\\Fonts\\\\comic.ttf',\n",
       " 'C:\\\\Windows\\\\Fonts\\\\msyi.ttf',\n",
       " 'C:\\\\WINDOWS\\\\Fonts\\\\BOD_CB.TTF',\n",
       " 'C:\\\\Windows\\\\Fonts\\\\H2PORL.TTF',\n",
       " 'C:\\\\WINDOWS\\\\Fonts\\\\GLSNECB.TTF',\n",
       " 'C:\\\\WINDOWS\\\\Fonts\\\\ebrima.ttf',\n",
       " 'C:\\\\Windows\\\\Fonts\\\\전주완판본 순B.ttf',\n",
       " 'C:\\\\WINDOWS\\\\Fonts\\\\simhei.ttf',\n",
       " 'C:\\\\WINDOWS\\\\Fonts\\\\HMKMAMI.TTF',\n",
       " 'C:\\\\Windows\\\\Fonts\\\\GILSANUB.TTF',\n",
       " 'C:\\\\WINDOWS\\\\Fonts\\\\ROCKB.TTF',\n",
       " 'C:\\\\WINDOWS\\\\Fonts\\\\mingliub.ttc',\n",
       " 'C:\\\\Windows\\\\Fonts\\\\ebrimabd.ttf',\n",
       " 'C:\\\\Windows\\\\Fonts\\\\yumin.ttf',\n",
       " 'C:\\\\Windows\\\\Fonts\\\\segoepr.ttf',\n",
       " 'C:\\\\Windows\\\\Fonts\\\\timesbd.ttf',\n",
       " 'C:\\\\Windows\\\\Fonts\\\\simfang.ttf',\n",
       " 'C:\\\\Windows\\\\Fonts\\\\ROCKEB.TTF',\n",
       " 'C:\\\\Windows\\\\Fonts\\\\BOOKOSI.TTF',\n",
       " 'C:\\\\Windows\\\\Fonts\\\\cour.ttf',\n",
       " 'C:\\\\Windows\\\\Fonts\\\\HGRMB.TTC',\n",
       " 'C:\\\\Windows\\\\Fonts\\\\BOD_CI.TTF',\n",
       " 'C:\\\\WINDOWS\\\\Fonts\\\\seguisbi.ttf',\n",
       " 'C:\\\\Windows\\\\Fonts\\\\seguisym.ttf',\n",
       " 'C:\\\\Windows\\\\Fonts\\\\Gabriola.ttf',\n",
       " 'C:\\\\WINDOWS\\\\Fonts\\\\Candarab.ttf',\n",
       " 'C:\\\\Windows\\\\Fonts\\\\ALGER.TTF',\n",
       " 'C:\\\\Windows\\\\Fonts\\\\consola.ttf',\n",
       " 'C:\\\\WINDOWS\\\\Fonts\\\\NIAGSOL.TTF',\n",
       " 'C:\\\\WINDOWS\\\\Fonts\\\\ITCEDSCR.TTF',\n",
       " 'C:\\\\Windows\\\\Fonts\\\\NirmalaB.ttf',\n",
       " 'C:\\\\Windows\\\\Fonts\\\\verdana.ttf',\n",
       " 'C:\\\\Windows\\\\Fonts\\\\micross.ttf',\n",
       " 'C:\\\\WINDOWS\\\\Fonts\\\\courbi.ttf',\n",
       " 'C:\\\\Windows\\\\Fonts\\\\FRADMIT.TTF',\n",
       " 'C:\\\\WINDOWS\\\\Fonts\\\\GIL_____.TTF',\n",
       " 'C:\\\\Windows\\\\Fonts\\\\tahomabd.ttf',\n",
       " 'C:\\\\WINDOWS\\\\Fonts\\\\LFAXDI.TTF',\n",
       " 'C:\\\\WINDOWS\\\\Fonts\\\\msjh.ttc',\n",
       " 'C:\\\\WINDOWS\\\\Fonts\\\\TCM_____.TTF',\n",
       " 'C:\\\\Windows\\\\Fonts\\\\consolaz.ttf',\n",
       " 'C:\\\\WINDOWS\\\\Fonts\\\\HTOWERT.TTF',\n",
       " 'C:\\\\WINDOWS\\\\Fonts\\\\HANDotumExt.ttf',\n",
       " 'C:\\\\WINDOWS\\\\Fonts\\\\cambria.ttc',\n",
       " 'C:\\\\WINDOWS\\\\Fonts\\\\CALISTBI.TTF',\n",
       " 'C:\\\\WINDOWS\\\\Fonts\\\\impact.ttf',\n",
       " 'C:\\\\Windows\\\\Fonts\\\\LFAXI.TTF',\n",
       " 'C:\\\\WINDOWS\\\\Fonts\\\\MT.TTF',\n",
       " 'C:\\\\Windows\\\\Fonts\\\\STENCIL.TTF',\n",
       " 'C:\\\\Windows\\\\Fonts\\\\comicbd.ttf',\n",
       " 'C:\\\\WINDOWS\\\\Fonts\\\\FRADMIT.TTF',\n",
       " 'C:\\\\WINDOWS\\\\Fonts\\\\ONYX.TTF',\n",
       " 'C:\\\\WINDOWS\\\\Fonts\\\\전주완판본 순L.ttf',\n",
       " 'C:\\\\WINDOWS\\\\Fonts\\\\H2PORM.TTF',\n",
       " 'C:\\\\WINDOWS\\\\Fonts\\\\HYHWPEQ.TTF',\n",
       " 'C:\\\\Windows\\\\Fonts\\\\seguili.ttf',\n",
       " 'C:\\\\WINDOWS\\\\Fonts\\\\FZYTK.TTF',\n",
       " 'C:\\\\WINDOWS\\\\Fonts\\\\STKAITI.TTF',\n",
       " 'C:\\\\Windows\\\\Fonts\\\\BELLI.TTF',\n",
       " 'C:\\\\WINDOWS\\\\Fonts\\\\FRAHV.TTF',\n",
       " 'C:\\\\Windows\\\\Fonts\\\\STHUPO.TTF',\n",
       " 'C:\\\\Windows\\\\Fonts\\\\LSANSDI.TTF',\n",
       " 'C:\\\\WINDOWS\\\\Fonts\\\\seguibli.ttf',\n",
       " 'C:\\\\Windows\\\\Fonts\\\\MOD20.TTF',\n",
       " 'C:\\\\WINDOWS\\\\Fonts\\\\TCB_____.TTF',\n",
       " 'C:\\\\Windows\\\\Fonts\\\\mmrtext.ttf',\n",
       " 'C:\\\\Windows\\\\Fonts\\\\malgunsl.ttf',\n",
       " 'C:\\\\Windows\\\\Fonts\\\\STKAITI.TTF',\n",
       " 'C:\\\\Windows\\\\Fonts\\\\impact.ttf',\n",
       " 'C:\\\\Windows\\\\Fonts\\\\segoeuiz.ttf',\n",
       " 'C:\\\\Windows\\\\Fonts\\\\H2GPRM.TTF',\n",
       " 'C:\\\\Windows\\\\Fonts\\\\RAVIE.TTF',\n",
       " 'C:\\\\Windows\\\\Fonts\\\\phagspa.ttf',\n",
       " 'C:\\\\WINDOWS\\\\Fonts\\\\AGENCYR.TTF',\n",
       " 'C:\\\\WINDOWS\\\\Fonts\\\\FRSCRIPT.TTF',\n",
       " 'C:\\\\WINDOWS\\\\Fonts\\\\Candaraz.ttf',\n",
       " 'C:\\\\WINDOWS\\\\Fonts\\\\JOKERMAN.TTF',\n",
       " 'C:\\\\Windows\\\\Fonts\\\\FRABK.TTF',\n",
       " 'C:\\\\WINDOWS\\\\Fonts\\\\simfang.ttf',\n",
       " 'C:\\\\Windows\\\\Fonts\\\\HANBatangExtBB.ttf',\n",
       " 'C:\\\\Windows\\\\Fonts\\\\BAUHS93.TTF',\n",
       " 'C:\\\\Windows\\\\Fonts\\\\GILBI___.TTF',\n",
       " 'C:\\\\Windows\\\\Fonts\\\\FRABKIT.TTF',\n",
       " 'C:\\\\WINDOWS\\\\Fonts\\\\lucon.ttf',\n",
       " 'C:\\\\WINDOWS\\\\Fonts\\\\전주완판본 각B.ttf',\n",
       " 'C:\\\\WINDOWS\\\\Fonts\\\\BOD_CR.TTF',\n",
       " 'C:\\\\Windows\\\\Fonts\\\\FRSCRIPT.TTF',\n",
       " 'C:\\\\WINDOWS\\\\Fonts\\\\trebucit.ttf',\n",
       " 'C:\\\\Windows\\\\Fonts\\\\monbaiti.ttf',\n",
       " 'C:\\\\Windows\\\\Fonts\\\\Deng.ttf',\n",
       " 'C:\\\\WINDOWS\\\\Fonts\\\\경기천년제목_Light.ttf',\n",
       " 'C:\\\\Windows\\\\Fonts\\\\ntailu.ttf',\n",
       " 'C:\\\\Windows\\\\Fonts\\\\MATURASC.TTF',\n",
       " 'C:\\\\Windows\\\\Fonts\\\\mingliub.ttc',\n",
       " 'C:\\\\WINDOWS\\\\Fonts\\\\pala.ttf',\n",
       " 'C:\\\\Windows\\\\Fonts\\\\seguibl.ttf',\n",
       " 'C:\\\\Windows\\\\Fonts\\\\FORTE.TTF',\n",
       " 'C:\\\\Windows\\\\Fonts\\\\HARNGTON.TTF',\n",
       " 'C:\\\\Windows\\\\Fonts\\\\BRITANIC.TTF',\n",
       " 'C:\\\\WINDOWS\\\\Fonts\\\\BOD_PSTC.TTF',\n",
       " 'C:\\\\WINDOWS\\\\Fonts\\\\comici.ttf',\n",
       " 'C:\\\\Windows\\\\Fonts\\\\BRADHITC.TTF',\n",
       " 'C:\\\\WINDOWS\\\\Fonts\\\\경기천년제목_Bold.ttf',\n",
       " 'C:\\\\Windows\\\\Fonts\\\\MT.TTF',\n",
       " 'C:\\\\Windows\\\\Fonts\\\\YuGothL.ttc',\n",
       " 'C:\\\\Windows\\\\Fonts\\\\HANBatang.ttf',\n",
       " 'C:\\\\WINDOWS\\\\Fonts\\\\corbell.ttf',\n",
       " 'C:\\\\WINDOWS\\\\Fonts\\\\NirmalaS.ttf',\n",
       " 'C:\\\\WINDOWS\\\\Fonts\\\\consolab.ttf',\n",
       " 'C:\\\\WINDOWS\\\\Fonts\\\\sylfaen.ttf',\n",
       " 'C:\\\\Windows\\\\Fonts\\\\ARIALNBI.TTF',\n",
       " 'C:\\\\WINDOWS\\\\Fonts\\\\LBRITEDI.TTF',\n",
       " 'C:\\\\Windows\\\\Fonts\\\\arialbd.ttf',\n",
       " 'C:\\\\WINDOWS\\\\Fonts\\\\ANTQUABI.TTF',\n",
       " 'C:\\\\WINDOWS\\\\Fonts\\\\ariblk.ttf',\n",
       " 'C:\\\\WINDOWS\\\\Fonts\\\\comic.ttf',\n",
       " 'C:\\\\Windows\\\\Fonts\\\\SCRIPTBL.TTF',\n",
       " 'C:\\\\Windows\\\\Fonts\\\\msgothic.ttc',\n",
       " 'C:\\\\Windows\\\\Fonts\\\\BIZ-UDGothicB.ttc',\n",
       " 'C:\\\\Windows\\\\Fonts\\\\malgun.ttf',\n",
       " 'C:\\\\WINDOWS\\\\Fonts\\\\BOD_CBI.TTF',\n",
       " 'C:\\\\Windows\\\\Fonts\\\\OLDENGL.TTF',\n",
       " 'C:\\\\Windows\\\\Fonts\\\\ITCEDSCR.TTF',\n",
       " 'C:\\\\WINDOWS\\\\Fonts\\\\msjhbd.ttc',\n",
       " 'C:\\\\Windows\\\\Fonts\\\\FRAMDCN.TTF',\n",
       " 'C:\\\\WINDOWS\\\\Fonts\\\\ANTQUAB.TTF',\n",
       " 'C:\\\\Windows\\\\Fonts\\\\H2HDRM.TTF',\n",
       " 'C:\\\\Windows\\\\Fonts\\\\SCHLBKI.TTF',\n",
       " 'C:\\\\WINDOWS\\\\Fonts\\\\PER_____.TTF',\n",
       " 'C:\\\\WINDOWS\\\\Fonts\\\\FRAHVIT.TTF',\n",
       " 'C:\\\\Windows\\\\Fonts\\\\ITCKRIST.TTF',\n",
       " 'C:\\\\WINDOWS\\\\Fonts\\\\INFROMAN.TTF',\n",
       " 'C:\\\\Windows\\\\Fonts\\\\HMFMPYUN.TTF',\n",
       " 'C:\\\\WINDOWS\\\\Fonts\\\\CALISTB.TTF',\n",
       " 'C:\\\\Windows\\\\Fonts\\\\PRISTINA.TTF',\n",
       " 'C:\\\\WINDOWS\\\\Fonts\\\\REFSPCL.TTF',\n",
       " 'C:\\\\Windows\\\\Fonts\\\\CALIST.TTF',\n",
       " 'C:\\\\WINDOWS\\\\Fonts\\\\BRLNSB.TTF',\n",
       " 'C:\\\\WINDOWS\\\\Fonts\\\\STHUPO.TTF',\n",
       " 'C:\\\\WINDOWS\\\\Fonts\\\\gadugi.ttf',\n",
       " 'C:\\\\Windows\\\\Fonts\\\\FZSTK.TTF',\n",
       " 'C:\\\\Windows\\\\Fonts\\\\cambriai.ttf',\n",
       " 'C:\\\\WINDOWS\\\\Fonts\\\\LeelaUIb.ttf',\n",
       " 'C:\\\\Windows\\\\Fonts\\\\ERASLGHT.TTF',\n",
       " 'C:\\\\Windows\\\\Fonts\\\\SHOWG.TTF',\n",
       " 'C:\\\\WINDOWS\\\\Fonts\\\\FRAMDCN.TTF',\n",
       " 'C:\\\\Windows\\\\Fonts\\\\ebrima.ttf',\n",
       " 'C:\\\\Windows\\\\Fonts\\\\FELIXTI.TTF',\n",
       " 'C:\\\\WINDOWS\\\\Fonts\\\\BRADHITC.TTF',\n",
       " 'C:\\\\WINDOWS\\\\Fonts\\\\GOUDYSTO.TTF',\n",
       " 'C:\\\\WINDOWS\\\\Fonts\\\\tahoma.ttf',\n",
       " 'C:\\\\WINDOWS\\\\Fonts\\\\OLDENGL.TTF',\n",
       " 'C:\\\\Windows\\\\Fonts\\\\ARIALNB.TTF',\n",
       " 'C:\\\\Windows\\\\Fonts\\\\ARLRDBD.TTF',\n",
       " 'C:\\\\WINDOWS\\\\Fonts\\\\segmdl2.ttf',\n",
       " 'C:\\\\WINDOWS\\\\Fonts\\\\meiryo.ttc',\n",
       " 'C:\\\\WINDOWS\\\\Fonts\\\\framdit.ttf',\n",
       " 'C:\\\\Windows\\\\Fonts\\\\framdit.ttf',\n",
       " 'C:\\\\WINDOWS\\\\Fonts\\\\MB.TTF',\n",
       " 'C:\\\\WINDOWS\\\\Fonts\\\\LSANS.TTF',\n",
       " 'C:\\\\Windows\\\\Fonts\\\\ariali.ttf',\n",
       " 'C:\\\\WINDOWS\\\\Fonts\\\\ebrimabd.ttf',\n",
       " 'C:\\\\Windows\\\\Fonts\\\\LeelUIsl.ttf',\n",
       " 'C:\\\\Windows\\\\Fonts\\\\corbelz.ttf',\n",
       " 'C:\\\\Windows\\\\Fonts\\\\FRADM.TTF',\n",
       " 'C:\\\\Windows\\\\Fonts\\\\HGRGM.TTC',\n",
       " 'C:\\\\Windows\\\\Fonts\\\\LTYPE.TTF',\n",
       " 'C:\\\\Windows\\\\Fonts\\\\msjhl.ttc',\n",
       " 'C:\\\\WINDOWS\\\\Fonts\\\\IMPRISHA.TTF',\n",
       " 'C:\\\\WINDOWS\\\\Fonts\\\\arialbd.ttf',\n",
       " 'C:\\\\WINDOWS\\\\Fonts\\\\YuGothM.ttc',\n",
       " 'C:\\\\Windows\\\\Fonts\\\\segoeuii.ttf',\n",
       " 'C:\\\\Windows\\\\Fonts\\\\REFSAN.TTF',\n",
       " 'C:\\\\Windows\\\\Fonts\\\\HTOWERT.TTF',\n",
       " 'C:\\\\Windows\\\\Fonts\\\\HTOWERTI.TTF',\n",
       " 'C:\\\\WINDOWS\\\\Fonts\\\\SCHLBKI.TTF',\n",
       " 'C:\\\\Windows\\\\Fonts\\\\PALSCRI.TTF',\n",
       " 'C:\\\\Windows\\\\Fonts\\\\corbeli.ttf',\n",
       " 'C:\\\\Windows\\\\Fonts\\\\BERNHC.TTF',\n",
       " 'C:\\\\WINDOWS\\\\Fonts\\\\전주완판본 순R.ttf',\n",
       " 'C:\\\\Windows\\\\Fonts\\\\STXINWEI.TTF',\n",
       " 'C:\\\\Windows\\\\Fonts\\\\INFROMAN.TTF',\n",
       " 'C:\\\\Windows\\\\Fonts\\\\JUMJA.TTF',\n",
       " 'C:\\\\Windows\\\\Fonts\\\\HGRSMP.TTF',\n",
       " 'C:\\\\WINDOWS\\\\Fonts\\\\GIGI.TTF',\n",
       " 'C:\\\\WINDOWS\\\\Fonts\\\\ROCCB___.TTF',\n",
       " 'C:\\\\WINDOWS\\\\Fonts\\\\BROADW.TTF',\n",
       " 'C:\\\\Windows\\\\Fonts\\\\HMFMOLD.TTF',\n",
       " 'C:\\\\WINDOWS\\\\Fonts\\\\MN.TTF',\n",
       " 'C:\\\\WINDOWS\\\\Fonts\\\\tahomabd.ttf',\n",
       " 'C:\\\\Windows\\\\Fonts\\\\YuGothB.ttc',\n",
       " 'C:\\\\Windows\\\\Fonts\\\\PARCHM.TTF',\n",
       " 'C:\\\\WINDOWS\\\\Fonts\\\\Candara.ttf',\n",
       " 'C:\\\\WINDOWS\\\\Fonts\\\\ROCC____.TTF',\n",
       " 'C:\\\\Windows\\\\Fonts\\\\consolai.ttf',\n",
       " 'C:\\\\Windows\\\\Fonts\\\\gadugib.ttf',\n",
       " 'C:\\\\WINDOWS\\\\Fonts\\\\SCHLBKBI.TTF',\n",
       " 'C:\\\\Windows\\\\Fonts\\\\ERASBD.TTF',\n",
       " 'C:\\\\WINDOWS\\\\Fonts\\\\ROCKI.TTF',\n",
       " 'C:\\\\WINDOWS\\\\Fonts\\\\constanz.ttf',\n",
       " 'C:\\\\WINDOWS\\\\Fonts\\\\simkai.ttf',\n",
       " 'C:\\\\Windows\\\\Fonts\\\\전주완판본 순L.ttf',\n",
       " 'C:\\\\WINDOWS\\\\Fonts\\\\GILLUBCD.TTF',\n",
       " 'C:\\\\Windows\\\\Fonts\\\\BOD_BI.TTF',\n",
       " 'C:\\\\Windows\\\\Fonts\\\\PERB____.TTF',\n",
       " 'C:\\\\Windows\\\\Fonts\\\\simsunb.ttf',\n",
       " 'C:\\\\WINDOWS\\\\Fonts\\\\COOPBL.TTF',\n",
       " 'C:\\\\WINDOWS\\\\Fonts\\\\comicz.ttf',\n",
       " 'C:\\\\WINDOWS\\\\Fonts\\\\LeelawUI.ttf',\n",
       " 'C:\\\\Windows\\\\Fonts\\\\전주완판본 각B.ttf',\n",
       " 'C:\\\\WINDOWS\\\\Fonts\\\\georgiaz.ttf',\n",
       " 'C:\\\\Windows\\\\Fonts\\\\LBRITEI.TTF',\n",
       " 'C:\\\\Windows\\\\Fonts\\\\STFANGSO.TTF',\n",
       " 'C:\\\\Windows\\\\Fonts\\\\segmdl2.ttf',\n",
       " 'C:\\\\Windows\\\\Fonts\\\\cambriab.ttf',\n",
       " 'C:\\\\Windows\\\\Fonts\\\\경기천년제목_Light.ttf',\n",
       " 'C:\\\\WINDOWS\\\\Fonts\\\\gadugib.ttf',\n",
       " 'C:\\\\Windows\\\\Fonts\\\\BOOKOSBI.TTF',\n",
       " 'C:\\\\Windows\\\\Fonts\\\\LSANS.TTF',\n",
       " 'C:\\\\WINDOWS\\\\Fonts\\\\HGRKK.TTC',\n",
       " 'C:\\\\Windows\\\\Fonts\\\\msyh.ttc',\n",
       " 'C:\\\\Windows\\\\Fonts\\\\LCALLIG.TTF',\n",
       " 'C:\\\\Windows\\\\Fonts\\\\georgiab.ttf',\n",
       " 'C:\\\\Windows\\\\Fonts\\\\calibrii.ttf',\n",
       " 'C:\\\\Windows\\\\Fonts\\\\HGRSKP.TTF',\n",
       " 'C:\\\\WINDOWS\\\\Fonts\\\\BOOKOSI.TTF',\n",
       " 'C:\\\\WINDOWS\\\\Fonts\\\\LSANSDI.TTF',\n",
       " 'C:\\\\WINDOWS\\\\Fonts\\\\MAIAN.TTF',\n",
       " 'C:\\\\Windows\\\\Fonts\\\\times.ttf',\n",
       " 'C:\\\\WINDOWS\\\\Fonts\\\\mingliu.ttc',\n",
       " 'C:\\\\WINDOWS\\\\Fonts\\\\times.ttf',\n",
       " 'C:\\\\WINDOWS\\\\Fonts\\\\timesbd.ttf',\n",
       " 'C:\\\\Windows\\\\Fonts\\\\전주완판본 각L.ttf',\n",
       " 'C:\\\\WINDOWS\\\\Fonts\\\\STZHONGS.TTF',\n",
       " 'C:\\\\WINDOWS\\\\Fonts\\\\AGENCYB.TTF',\n",
       " 'C:\\\\WINDOWS\\\\Fonts\\\\segoeuiz.ttf',\n",
       " 'C:\\\\Windows\\\\Fonts\\\\l_10646.ttf',\n",
       " 'C:\\\\WINDOWS\\\\Fonts\\\\SNAP____.TTF',\n",
       " 'C:\\\\Windows\\\\Fonts\\\\HGRPRE.TTC',\n",
       " 'C:\\\\WINDOWS\\\\Fonts\\\\georgia.ttf',\n",
       " 'C:\\\\Windows\\\\Fonts\\\\SitkaI.ttc',\n",
       " 'C:\\\\Windows\\\\Fonts\\\\Candarab.ttf',\n",
       " 'C:\\\\Windows\\\\Fonts\\\\GILB____.TTF',\n",
       " 'C:\\\\WINDOWS\\\\Fonts\\\\CENSCBK.TTF',\n",
       " 'C:\\\\WINDOWS\\\\Fonts\\\\OCRB.TTF',\n",
       " 'C:\\\\WINDOWS\\\\Fonts\\\\courbd.ttf',\n",
       " 'C:\\\\WINDOWS\\\\Fonts\\\\cambriai.ttf',\n",
       " 'C:\\\\WINDOWS\\\\Fonts\\\\segoeuii.ttf',\n",
       " 'C:\\\\WINDOWS\\\\Fonts\\\\verdanab.ttf',\n",
       " 'C:\\\\WINDOWS\\\\Fonts\\\\Gabriola.ttf',\n",
       " 'C:\\\\WINDOWS\\\\Fonts\\\\malgun.ttf',\n",
       " 'C:\\\\WINDOWS\\\\Fonts\\\\H2MKPB.TTF',\n",
       " 'C:\\\\Windows\\\\Fonts\\\\ROCKB.TTF',\n",
       " 'C:\\\\WINDOWS\\\\Fonts\\\\MJ.TTF',\n",
       " 'C:\\\\Windows\\\\Fonts\\\\FRAHV.TTF',\n",
       " 'C:\\\\WINDOWS\\\\Fonts\\\\framd.ttf',\n",
       " 'C:\\\\WINDOWS\\\\Fonts\\\\segoeuib.ttf',\n",
       " 'C:\\\\Windows\\\\Fonts\\\\HANDotumB.ttf',\n",
       " 'C:\\\\WINDOWS\\\\Fonts\\\\JUICE___.TTF',\n",
       " 'C:\\\\Windows\\\\Fonts\\\\VINERITC.TTF',\n",
       " 'C:\\\\WINDOWS\\\\Fonts\\\\msyi.ttf',\n",
       " 'C:\\\\Windows\\\\Fonts\\\\ROCK.TTF',\n",
       " 'C:\\\\WINDOWS\\\\Fonts\\\\Candarai.ttf',\n",
       " 'C:\\\\WINDOWS\\\\Fonts\\\\Inkfree.ttf',\n",
       " 'C:\\\\WINDOWS\\\\Fonts\\\\HTOWERTI.TTF',\n",
       " 'C:\\\\WINDOWS\\\\Fonts\\\\PLAYBILL.TTF',\n",
       " 'C:\\\\Windows\\\\Fonts\\\\gulim.ttc',\n",
       " 'C:\\\\Windows\\\\Fonts\\\\BOD_BLAI.TTF',\n",
       " 'C:\\\\WINDOWS\\\\Fonts\\\\ariali.ttf',\n",
       " 'C:\\\\WINDOWS\\\\Fonts\\\\constani.ttf',\n",
       " 'C:\\\\WINDOWS\\\\Fonts\\\\Dengb.ttf',\n",
       " 'C:\\\\WINDOWS\\\\Fonts\\\\GARAIT.TTF',\n",
       " 'C:\\\\WINDOWS\\\\Fonts\\\\MOD20.TTF',\n",
       " 'C:\\\\WINDOWS\\\\Fonts\\\\segoeuisl.ttf',\n",
       " 'C:\\\\Windows\\\\Fonts\\\\ARIALN.TTF',\n",
       " 'C:\\\\Windows\\\\Fonts\\\\trebucbd.ttf',\n",
       " 'C:\\\\WINDOWS\\\\Fonts\\\\WINGDNG2.TTF',\n",
       " 'C:\\\\Windows\\\\Fonts\\\\FZYTK.TTF',\n",
       " 'C:\\\\WINDOWS\\\\Fonts\\\\SitkaZ.ttc',\n",
       " 'C:\\\\WINDOWS\\\\Fonts\\\\GILC____.TTF',\n",
       " 'C:\\\\Windows\\\\Fonts\\\\HGRGY.TTC',\n",
       " 'C:\\\\Windows\\\\Fonts\\\\H2PORM.TTF',\n",
       " 'C:\\\\Windows\\\\Fonts\\\\ERASDEMI.TTF',\n",
       " 'C:\\\\Windows\\\\Fonts\\\\TCCEB.TTF',\n",
       " 'C:\\\\Windows\\\\Fonts\\\\MAGNETOB.TTF',\n",
       " 'C:\\\\Windows\\\\Fonts\\\\symbol.ttf',\n",
       " 'C:\\\\Windows\\\\Fonts\\\\msyhl.ttc',\n",
       " 'C:\\\\WINDOWS\\\\Fonts\\\\OCRAEXT.TTF',\n",
       " 'C:\\\\WINDOWS\\\\Fonts\\\\segoeuil.ttf',\n",
       " 'C:\\\\Windows\\\\Fonts\\\\calibrib.ttf',\n",
       " 'C:\\\\Windows\\\\Fonts\\\\msjh.ttc',\n",
       " 'C:\\\\Windows\\\\Fonts\\\\경기천년제목_Bold.ttf',\n",
       " 'C:\\\\WINDOWS\\\\Fonts\\\\BRLNSDB.TTF',\n",
       " 'C:\\\\WINDOWS\\\\Fonts\\\\Candaral.ttf',\n",
       " 'C:\\\\Windows\\\\Fonts\\\\seguisli.ttf',\n",
       " 'C:\\\\WINDOWS\\\\Fonts\\\\BOD_BLAI.TTF',\n",
       " 'C:\\\\Windows\\\\Fonts\\\\yumindb.ttf',\n",
       " 'C:\\\\Windows\\\\Fonts\\\\SCHLBKB.TTF',\n",
       " 'C:\\\\WINDOWS\\\\Fonts\\\\ERASMD.TTF',\n",
       " 'C:\\\\WINDOWS\\\\Fonts\\\\H2MJSM.TTF',\n",
       " 'C:\\\\Windows\\\\Fonts\\\\verdanaz.ttf',\n",
       " 'C:\\\\Windows\\\\Fonts\\\\batang.ttc',\n",
       " 'C:\\\\WINDOWS\\\\Fonts\\\\BOD_R.TTF',\n",
       " 'C:\\\\WINDOWS\\\\Fonts\\\\MTEXTRA.TTF',\n",
       " 'C:\\\\WINDOWS\\\\Fonts\\\\ENGR.TTF',\n",
       " 'C:\\\\Windows\\\\Fonts\\\\PERBI___.TTF',\n",
       " 'C:\\\\WINDOWS\\\\Fonts\\\\MISTRAL.TTF',\n",
       " 'C:\\\\WINDOWS\\\\Fonts\\\\FORTE.TTF',\n",
       " 'C:\\\\WINDOWS\\\\Fonts\\\\LATINWD.TTF',\n",
       " 'C:\\\\WINDOWS\\\\Fonts\\\\segoescb.ttf',\n",
       " 'C:\\\\Windows\\\\Fonts\\\\CALISTI.TTF',\n",
       " 'C:\\\\WINDOWS\\\\Fonts\\\\GILI____.TTF',\n",
       " 'C:\\\\Windows\\\\Fonts\\\\LTYPEB.TTF',\n",
       " 'C:\\\\WINDOWS\\\\Fonts\\\\BOOKOSBI.TTF',\n",
       " 'C:\\\\Windows\\\\Fonts\\\\CALIFR.TTF',\n",
       " 'C:\\\\Windows\\\\Fonts\\\\PERI____.TTF',\n",
       " 'C:\\\\WINDOWS\\\\Fonts\\\\arialbi.ttf',\n",
       " 'C:\\\\WINDOWS\\\\Fonts\\\\Dengl.ttf',\n",
       " 'C:\\\\WINDOWS\\\\Fonts\\\\PERB____.TTF',\n",
       " 'C:\\\\WINDOWS\\\\Fonts\\\\taileb.ttf',\n",
       " 'C:\\\\Windows\\\\Fonts\\\\tahoma.ttf',\n",
       " 'C:\\\\WINDOWS\\\\Fonts\\\\ROCKEB.TTF',\n",
       " 'C:\\\\Windows\\\\Fonts\\\\constani.ttf',\n",
       " 'C:\\\\WINDOWS\\\\Fonts\\\\msgothic.ttc',\n",
       " 'C:\\\\WINDOWS\\\\Fonts\\\\HGRPP1.TTC',\n",
       " 'C:\\\\Windows\\\\Fonts\\\\IMPRISHA.TTF',\n",
       " 'C:\\\\WINDOWS\\\\Fonts\\\\LTYPEO.TTF',\n",
       " 'C:\\\\WINDOWS\\\\Fonts\\\\calibrib.ttf',\n",
       " 'C:\\\\WINDOWS\\\\Fonts\\\\CALIFI.TTF',\n",
       " 'C:\\\\Windows\\\\Fonts\\\\framd.ttf',\n",
       " 'C:\\\\Windows\\\\Fonts\\\\SIMYOU.TTF',\n",
       " 'C:\\\\WINDOWS\\\\Fonts\\\\consolai.ttf',\n",
       " 'C:\\\\WINDOWS\\\\Fonts\\\\BELLI.TTF',\n",
       " 'C:\\\\WINDOWS\\\\Fonts\\\\malgunbd.ttf',\n",
       " 'C:\\\\Windows\\\\Fonts\\\\LATINWD.TTF',\n",
       " 'C:\\\\WINDOWS\\\\Fonts\\\\mvboli.ttf',\n",
       " 'C:\\\\Windows\\\\Fonts\\\\CENTAUR.TTF',\n",
       " 'C:\\\\Windows\\\\Fonts\\\\LFAXDI.TTF',\n",
       " 'C:\\\\Windows\\\\Fonts\\\\GARA.TTF',\n",
       " 'C:\\\\WINDOWS\\\\Fonts\\\\cambriaz.ttf',\n",
       " 'C:\\\\Windows\\\\Fonts\\\\COOPBL.TTF',\n",
       " 'C:\\\\WINDOWS\\\\Fonts\\\\constan.ttf',\n",
       " 'C:\\\\Windows\\\\Fonts\\\\BOD_CR.TTF',\n",
       " 'C:\\\\WINDOWS\\\\Fonts\\\\ARIALNBI.TTF',\n",
       " 'C:\\\\Windows\\\\Fonts\\\\FRAHVIT.TTF',\n",
       " 'C:\\\\Windows\\\\Fonts\\\\H2GTRM.TTF',\n",
       " 'C:\\\\Windows\\\\Fonts\\\\wingding.ttf',\n",
       " 'C:\\\\WINDOWS\\\\Fonts\\\\yumin.ttf',\n",
       " 'C:\\\\Windows\\\\Fonts\\\\calibri.ttf',\n",
       " 'C:\\\\WINDOWS\\\\Fonts\\\\경기천년제목V_Bold.ttf',\n",
       " 'C:\\\\WINDOWS\\\\Fonts\\\\GOUDOSB.TTF',\n",
       " 'C:\\\\Windows\\\\Fonts\\\\ONYX.TTF',\n",
       " 'C:\\\\Windows\\\\Fonts\\\\seguibli.ttf',\n",
       " 'C:\\\\Windows\\\\Fonts\\\\TEMPSITC.TTF',\n",
       " 'C:\\\\WINDOWS\\\\Fonts\\\\corbelli.ttf',\n",
       " 'C:\\\\Windows\\\\Fonts\\\\HGRGE.TTC',\n",
       " 'C:\\\\Windows\\\\Fonts\\\\ELEPHNT.TTF',\n",
       " 'C:\\\\Windows\\\\Fonts\\\\MB.TTF',\n",
       " 'C:\\\\Windows\\\\Fonts\\\\mvboli.ttf',\n",
       " 'C:\\\\WINDOWS\\\\Fonts\\\\UDDigiKyokashoN-B.ttc',\n",
       " 'C:\\\\WINDOWS\\\\Fonts\\\\FRADM.TTF',\n",
       " 'C:\\\\Windows\\\\Fonts\\\\GOUDOSB.TTF',\n",
       " 'C:\\\\WINDOWS\\\\Fonts\\\\segoeprb.ttf',\n",
       " 'C:\\\\Windows\\\\Fonts\\\\LBRITE.TTF',\n",
       " 'C:\\\\Windows\\\\Fonts\\\\webdings.ttf',\n",
       " 'C:\\\\WINDOWS\\\\Fonts\\\\calibrii.ttf',\n",
       " 'C:\\\\Windows\\\\Fonts\\\\courbd.ttf',\n",
       " 'C:\\\\WINDOWS\\\\Fonts\\\\ARIALN.TTF',\n",
       " 'C:\\\\Windows\\\\Fonts\\\\BOD_R.TTF',\n",
       " 'C:\\\\WINDOWS\\\\Fonts\\\\PERTILI.TTF',\n",
       " 'C:\\\\WINDOWS\\\\Fonts\\\\seguihis.ttf',\n",
       " 'C:\\\\Windows\\\\Fonts\\\\경기천년제목V_Bold.ttf',\n",
       " 'C:\\\\Windows\\\\Fonts\\\\segoeuib.ttf',\n",
       " 'C:\\\\WINDOWS\\\\Fonts\\\\georgiab.ttf',\n",
       " 'C:\\\\Windows\\\\Fonts\\\\GIL_____.TTF',\n",
       " 'C:\\\\WINDOWS\\\\Fonts\\\\HANBatangExtB.ttf',\n",
       " 'C:\\\\WINDOWS\\\\Fonts\\\\VINERITC.TTF',\n",
       " 'C:\\\\WINDOWS\\\\Fonts\\\\MATURASC.TTF',\n",
       " 'C:\\\\Windows\\\\Fonts\\\\H2MJRE.TTF',\n",
       " 'C:\\\\Windows\\\\Fonts\\\\NIAGSOL.TTF',\n",
       " 'C:\\\\WINDOWS\\\\Fonts\\\\ERASBD.TTF',\n",
       " 'C:\\\\Windows\\\\Fonts\\\\LBRITEDI.TTF',\n",
       " 'C:\\\\WINDOWS\\\\Fonts\\\\CALISTI.TTF',\n",
       " 'C:\\\\WINDOWS\\\\Fonts\\\\SIMYOU.TTF',\n",
       " 'C:\\\\Windows\\\\Fonts\\\\BRLNSR.TTF',\n",
       " 'C:\\\\WINDOWS\\\\Fonts\\\\corbeli.ttf',\n",
       " 'C:\\\\WINDOWS\\\\Fonts\\\\SHOWG.TTF',\n",
       " 'C:\\\\WINDOWS\\\\Fonts\\\\LTYPEBO.TTF',\n",
       " 'C:\\\\Windows\\\\Fonts\\\\seguihis.ttf',\n",
       " 'C:\\\\WINDOWS\\\\Fonts\\\\timesbi.ttf',\n",
       " 'C:\\\\WINDOWS\\\\Fonts\\\\BOD_BLAR.TTF',\n",
       " 'C:\\\\Windows\\\\Fonts\\\\corbelb.ttf',\n",
       " 'C:\\\\Windows\\\\Fonts\\\\FRADMCN.TTF',\n",
       " 'C:\\\\WINDOWS\\\\Fonts\\\\H2GSRB.TTF',\n",
       " 'C:\\\\WINDOWS\\\\Fonts\\\\wingding.ttf',\n",
       " 'C:\\\\Windows\\\\Fonts\\\\timesi.ttf',\n",
       " 'C:\\\\Windows\\\\Fonts\\\\trebucbi.ttf',\n",
       " 'C:\\\\WINDOWS\\\\Fonts\\\\TCBI____.TTF',\n",
       " 'C:\\\\WINDOWS\\\\Fonts\\\\kaiu.ttf',\n",
       " 'C:\\\\WINDOWS\\\\Fonts\\\\H2HDRM.TTF',\n",
       " 'C:\\\\WINDOWS\\\\Fonts\\\\seguiemj.ttf',\n",
       " 'C:\\\\Windows\\\\Fonts\\\\segoescb.ttf',\n",
       " 'C:\\\\WINDOWS\\\\Fonts\\\\FRABKIT.TTF',\n",
       " 'C:\\\\WINDOWS\\\\Fonts\\\\MP.TTF',\n",
       " 'C:\\\\WINDOWS\\\\Fonts\\\\Sitka.ttc',\n",
       " 'C:\\\\WINDOWS\\\\Fonts\\\\HGRPRE.TTC',\n",
       " 'C:\\\\Windows\\\\Fonts\\\\corbelli.ttf',\n",
       " 'C:\\\\WINDOWS\\\\Fonts\\\\ARIALNB.TTF',\n",
       " 'C:\\\\Windows\\\\Fonts\\\\CENSCBK.TTF',\n",
       " 'C:\\\\WINDOWS\\\\Fonts\\\\consolaz.ttf',\n",
       " 'C:\\\\WINDOWS\\\\Fonts\\\\H2GTRM.TTF',\n",
       " 'C:\\\\Windows\\\\Fonts\\\\Nirmala.ttf',\n",
       " 'C:\\\\Windows\\\\Fonts\\\\CASTELAR.TTF',\n",
       " 'C:\\\\Windows\\\\Fonts\\\\LFAXD.TTF',\n",
       " 'C:\\\\WINDOWS\\\\Fonts\\\\ANTQUAI.TTF',\n",
       " 'C:\\\\WINDOWS\\\\Fonts\\\\GOTHICI.TTF',\n",
       " 'C:\\\\WINDOWS\\\\Fonts\\\\NIAGENG.TTF',\n",
       " 'C:\\\\Windows\\\\Fonts\\\\georgia.ttf',\n",
       " 'C:\\\\Windows\\\\Fonts\\\\WINGDNG3.TTF',\n",
       " 'C:\\\\WINDOWS\\\\Fonts\\\\KUNSTLER.TTF',\n",
       " 'C:\\\\WINDOWS\\\\Fonts\\\\BKANT.TTF',\n",
       " 'C:\\\\WINDOWS\\\\Fonts\\\\전주완판본 각L.ttf',\n",
       " 'C:\\\\WINDOWS\\\\Fonts\\\\FZSTK.TTF',\n",
       " 'C:\\\\WINDOWS\\\\Fonts\\\\CENTURY.TTF',\n",
       " 'C:\\\\WINDOWS\\\\Fonts\\\\HMFMMUEX.TTC',\n",
       " 'C:\\\\WINDOWS\\\\Fonts\\\\H2GPRM.TTF',\n",
       " 'C:\\\\Windows\\\\Fonts\\\\NGULIM.TTF',\n",
       " 'C:\\\\Windows\\\\Fonts\\\\STLITI.TTF',\n",
       " 'C:\\\\WINDOWS\\\\Fonts\\\\HMFMPYUN.TTF',\n",
       " 'C:\\\\WINDOWS\\\\Fonts\\\\GILBI___.TTF',\n",
       " 'C:\\\\Windows\\\\Fonts\\\\MG.TTF',\n",
       " 'C:\\\\Windows\\\\Fonts\\\\georgiai.ttf',\n",
       " 'C:\\\\WINDOWS\\\\Fonts\\\\HANBatangExt.ttf',\n",
       " 'C:\\\\Windows\\\\Fonts\\\\Dengl.ttf',\n",
       " 'C:\\\\Windows\\\\Fonts\\\\CALIFI.TTF',\n",
       " 'C:\\\\WINDOWS\\\\Fonts\\\\taile.ttf',\n",
       " 'C:\\\\Windows\\\\Fonts\\\\PLAYBILL.TTF',\n",
       " 'C:\\\\Windows\\\\Fonts\\\\GLSNECB.TTF',\n",
       " 'C:\\\\Windows\\\\Fonts\\\\BOD_CB.TTF',\n",
       " 'C:\\\\Windows\\\\Fonts\\\\SIMLI.TTF',\n",
       " 'C:\\\\WINDOWS\\\\Fonts\\\\corbel.ttf',\n",
       " 'C:\\\\WINDOWS\\\\Fonts\\\\verdana.ttf',\n",
       " 'C:\\\\WINDOWS\\\\Fonts\\\\REFSAN.TTF',\n",
       " 'C:\\\\WINDOWS\\\\Fonts\\\\MG.TTF',\n",
       " 'C:\\\\WINDOWS\\\\Fonts\\\\BRITANIC.TTF',\n",
       " 'C:\\\\WINDOWS\\\\Fonts\\\\PERI____.TTF',\n",
       " 'C:\\\\Windows\\\\Fonts\\\\meiryo.ttc',\n",
       " 'C:\\\\Windows\\\\Fonts\\\\CALISTBI.TTF',\n",
       " 'C:\\\\Windows\\\\Fonts\\\\TCB_____.TTF',\n",
       " 'C:\\\\WINDOWS\\\\Fonts\\\\HANBatang.ttf',\n",
       " 'C:\\\\Windows\\\\Fonts\\\\BOD_BLAR.TTF',\n",
       " 'C:\\\\Windows\\\\Fonts\\\\경기천년제목_Medium.ttf',\n",
       " 'C:\\\\Windows\\\\Fonts\\\\REFSPCL.TTF',\n",
       " 'C:\\\\Windows\\\\Fonts\\\\TCBI____.TTF',\n",
       " 'C:\\\\WINDOWS\\\\Fonts\\\\phagspa.ttf',\n",
       " 'C:\\\\WINDOWS\\\\Fonts\\\\PRISTINA.TTF',\n",
       " 'C:\\\\WINDOWS\\\\Fonts\\\\ROCKBI.TTF',\n",
       " 'C:\\\\WINDOWS\\\\Fonts\\\\UDDigiKyokashoN-R.ttc',\n",
       " 'C:\\\\WINDOWS\\\\Fonts\\\\SCHLBKB.TTF',\n",
       " 'C:\\\\WINDOWS\\\\Fonts\\\\CALIST.TTF',\n",
       " 'C:\\\\Windows\\\\Fonts\\\\Candaral.ttf',\n",
       " 'C:\\\\Windows\\\\Fonts\\\\MM.TTF',\n",
       " 'C:\\\\Windows\\\\Fonts\\\\STCAIYUN.TTF',\n",
       " 'C:\\\\Windows\\\\Fonts\\\\calibriz.ttf',\n",
       " 'C:\\\\WINDOWS\\\\Fonts\\\\STXINGKA.TTF',\n",
       " 'C:\\\\WINDOWS\\\\Fonts\\\\ARIALNI.TTF',\n",
       " 'C:\\\\Windows\\\\Fonts\\\\TCCB____.TTF',\n",
       " 'C:\\\\WINDOWS\\\\Fonts\\\\BSSYM7.TTF',\n",
       " 'C:\\\\WINDOWS\\\\Fonts\\\\H2SA1M.TTF',\n",
       " 'C:\\\\WINDOWS\\\\Fonts\\\\monbaiti.ttf',\n",
       " 'C:\\\\WINDOWS\\\\Fonts\\\\PARCHM.TTF',\n",
       " 'C:\\\\WINDOWS\\\\Fonts\\\\BASKVILL.TTF',\n",
       " 'C:\\\\WINDOWS\\\\Fonts\\\\LSANSD.TTF',\n",
       " 'C:\\\\Windows\\\\Fonts\\\\kaiu.ttf',\n",
       " 'C:\\\\Windows\\\\Fonts\\\\MK.TTF',\n",
       " 'C:\\\\Windows\\\\Fonts\\\\ROCKI.TTF',\n",
       " 'C:\\\\WINDOWS\\\\Fonts\\\\LTYPE.TTF',\n",
       " 'C:\\\\Windows\\\\Fonts\\\\GOTHICB.TTF',\n",
       " 'C:\\\\WINDOWS\\\\Fonts\\\\HATTEN.TTF',\n",
       " 'C:\\\\WINDOWS\\\\Fonts\\\\ERASLGHT.TTF',\n",
       " 'C:\\\\WINDOWS\\\\Fonts\\\\HMKMMAG.TTF',\n",
       " 'C:\\\\Windows\\\\Fonts\\\\BIZ-UDMinchoM.ttc',\n",
       " 'C:\\\\Windows\\\\Fonts\\\\BOOKOSB.TTF',\n",
       " 'C:\\\\WINDOWS\\\\Fonts\\\\CURLZ___.TTF',\n",
       " 'C:\\\\WINDOWS\\\\Fonts\\\\FRABK.TTF',\n",
       " 'C:\\\\Windows\\\\Fonts\\\\LSANSI.TTF',\n",
       " 'C:\\\\Windows\\\\Fonts\\\\BROADW.TTF',\n",
       " 'C:\\\\WINDOWS\\\\Fonts\\\\malgunsl.ttf',\n",
       " 'C:\\\\Windows\\\\Fonts\\\\GOUDYSTO.TTF',\n",
       " 'C:\\\\Windows\\\\Fonts\\\\seguisb.ttf',\n",
       " 'C:\\\\Windows\\\\Fonts\\\\MISTRAL.TTF',\n",
       " 'C:\\\\WINDOWS\\\\Fonts\\\\georgiai.ttf',\n",
       " 'C:\\\\WINDOWS\\\\Fonts\\\\HARLOWSI.TTF',\n",
       " 'C:\\\\WINDOWS\\\\Fonts\\\\BOD_I.TTF',\n",
       " 'C:\\\\WINDOWS\\\\Fonts\\\\HMKMRHD.TTF',\n",
       " 'C:\\\\WINDOWS\\\\Fonts\\\\HANDotumB.ttf',\n",
       " 'C:\\\\WINDOWS\\\\Fonts\\\\WINGDNG3.TTF',\n",
       " 'C:\\\\Windows\\\\Fonts\\\\CURLZ___.TTF',\n",
       " 'C:\\\\WINDOWS\\\\Fonts\\\\calibril.ttf',\n",
       " 'C:\\\\Windows\\\\Fonts\\\\H2MJSM.TTF',\n",
       " 'C:\\\\Windows\\\\Fonts\\\\arial.ttf',\n",
       " 'C:\\\\WINDOWS\\\\Fonts\\\\LCALLIG.TTF',\n",
       " 'C:\\\\WINDOWS\\\\Fonts\\\\CASTELAR.TTF',\n",
       " 'C:\\\\WINDOWS\\\\Fonts\\\\ITCBLKAD.TTF',\n",
       " 'C:\\\\Windows\\\\Fonts\\\\segoeuil.ttf',\n",
       " 'C:\\\\Windows\\\\Fonts\\\\verdanab.ttf',\n",
       " 'C:\\\\Windows\\\\Fonts\\\\simsun.ttc',\n",
       " 'C:\\\\WINDOWS\\\\Fonts\\\\trebucbi.ttf',\n",
       " 'C:\\\\WINDOWS\\\\Fonts\\\\seguisym.ttf',\n",
       " 'C:\\\\Windows\\\\Fonts\\\\KUNSTLER.TTF',\n",
       " 'C:\\\\Windows\\\\Fonts\\\\LTYPEO.TTF',\n",
       " 'C:\\\\Windows\\\\Fonts\\\\mmrtextb.ttf',\n",
       " 'C:\\\\Windows\\\\Fonts\\\\BIZ-UDGothicR.ttc',\n",
       " 'C:\\\\WINDOWS\\\\Fonts\\\\ERASDEMI.TTF',\n",
       " 'C:\\\\WINDOWS\\\\Fonts\\\\TEMPSITC.TTF',\n",
       " 'C:\\\\Windows\\\\Fonts\\\\comicz.ttf',\n",
       " 'C:\\\\WINDOWS\\\\Fonts\\\\arial.ttf',\n",
       " 'C:\\\\Windows\\\\Fonts\\\\GIGI.TTF',\n",
       " 'C:\\\\Windows\\\\Fonts\\\\경기천년바탕_Regular.ttf',\n",
       " 'C:\\\\WINDOWS\\\\Fonts\\\\seguibl.ttf',\n",
       " 'C:\\\\WINDOWS\\\\Fonts\\\\STXINWEI.TTF',\n",
       " 'C:\\\\WINDOWS\\\\Fonts\\\\STLITI.TTF',\n",
       " 'C:\\\\Windows\\\\Fonts\\\\MAIAN.TTF',\n",
       " 'C:\\\\Windows\\\\Fonts\\\\javatext.ttf',\n",
       " 'C:\\\\Windows\\\\Fonts\\\\SitkaZ.ttc',\n",
       " 'C:\\\\WINDOWS\\\\Fonts\\\\H2GTRE.TTF',\n",
       " 'C:\\\\WINDOWS\\\\Fonts\\\\MTCORSVA.TTF',\n",
       " 'C:\\\\Windows\\\\Fonts\\\\ARIALNI.TTF',\n",
       " 'C:\\\\Windows\\\\Fonts\\\\RAGE.TTF',\n",
       " 'C:\\\\WINDOWS\\\\Fonts\\\\webdings.ttf',\n",
       " 'C:\\\\Windows\\\\Fonts\\\\constanb.ttf',\n",
       " 'C:\\\\WINDOWS\\\\Fonts\\\\palab.ttf',\n",
       " 'C:\\\\Windows\\\\Fonts\\\\전주완판본 각R.ttf',\n",
       " 'C:\\\\Windows\\\\Fonts\\\\H2GTRE.TTF',\n",
       " 'C:\\\\WINDOWS\\\\Fonts\\\\yuminl.ttf',\n",
       " 'C:\\\\Windows\\\\Fonts\\\\FREESCPT.TTF',\n",
       " 'C:\\\\Windows\\\\Fonts\\\\georgiaz.ttf',\n",
       " 'C:\\\\WINDOWS\\\\Fonts\\\\msyhbd.ttc',\n",
       " 'C:\\\\WINDOWS\\\\Fonts\\\\BIZ-UDGothicR.ttc',\n",
       " 'C:\\\\WINDOWS\\\\Fonts\\\\verdanaz.ttf',\n",
       " 'C:\\\\WINDOWS\\\\Fonts\\\\HGRSMP.TTF',\n",
       " 'C:\\\\WINDOWS\\\\Fonts\\\\Candarali.ttf',\n",
       " 'C:\\\\Windows\\\\Fonts\\\\malgunbd.ttf',\n",
       " 'C:\\\\Windows\\\\Fonts\\\\arialbi.ttf',\n",
       " 'C:\\\\Windows\\\\Fonts\\\\LeelawUI.ttf',\n",
       " 'C:\\\\Windows\\\\Fonts\\\\segoeui.ttf',\n",
       " 'C:\\\\Windows\\\\Fonts\\\\seguiemj.ttf',\n",
       " 'C:\\\\Windows\\\\Fonts\\\\BASKVILL.TTF',\n",
       " 'C:\\\\Windows\\\\Fonts\\\\simkai.ttf',\n",
       " 'C:\\\\Windows\\\\Fonts\\\\cambria.ttc',\n",
       " 'C:\\\\Windows\\\\Fonts\\\\courbi.ttf',\n",
       " 'C:\\\\Windows\\\\Fonts\\\\BOOKOS.TTF',\n",
       " 'C:\\\\WINDOWS\\\\Fonts\\\\HGRGE.TTC',\n",
       " 'C:\\\\WINDOWS\\\\Fonts\\\\ROCK.TTF',\n",
       " 'C:\\\\WINDOWS\\\\Fonts\\\\gulim.ttc',\n",
       " 'C:\\\\Windows\\\\Fonts\\\\CHILLER.TTF',\n",
       " 'C:\\\\WINDOWS\\\\Fonts\\\\FELIXTI.TTF',\n",
       " 'C:\\\\WINDOWS\\\\Fonts\\\\msyhl.ttc',\n",
       " 'C:\\\\WINDOWS\\\\Fonts\\\\corbelb.ttf',\n",
       " 'C:\\\\Windows\\\\Fonts\\\\H2GSRB.TTF',\n",
       " 'C:\\\\Windows\\\\Fonts\\\\SCHLBKBI.TTF',\n",
       " 'C:\\\\Windows\\\\Fonts\\\\sylfaen.ttf',\n",
       " 'C:\\\\WINDOWS\\\\Fonts\\\\seguili.ttf',\n",
       " 'C:\\\\Windows\\\\Fonts\\\\VIVALDII.TTF',\n",
       " 'C:\\\\Windows\\\\Fonts\\\\ENGR.TTF',\n",
       " 'C:\\\\Windows\\\\Fonts\\\\BELLB.TTF',\n",
       " 'C:\\\\Windows\\\\Fonts\\\\GILLUBCD.TTF',\n",
       " 'C:\\\\Windows\\\\Fonts\\\\GOTHIC.TTF',\n",
       " 'C:\\\\Windows\\\\Fonts\\\\segoeuisl.ttf',\n",
       " 'C:\\\\WINDOWS\\\\Fonts\\\\RAVIE.TTF',\n",
       " 'C:\\\\WINDOWS\\\\Fonts\\\\VIVALDII.TTF',\n",
       " 'C:\\\\WINDOWS\\\\Fonts\\\\CENTAUR.TTF',\n",
       " 'C:\\\\Windows\\\\Fonts\\\\palabi.ttf',\n",
       " 'C:\\\\Windows\\\\Fonts\\\\GARABD.TTF',\n",
       " 'C:\\\\WINDOWS\\\\Fonts\\\\CALIFR.TTF',\n",
       " 'C:\\\\WINDOWS\\\\Fonts\\\\HGRSGU.TTC',\n",
       " 'C:\\\\WINDOWS\\\\Fonts\\\\HGRMB.TTC',\n",
       " 'C:\\\\WINDOWS\\\\Fonts\\\\calibri.ttf',\n",
       " 'C:\\\\Windows\\\\Fonts\\\\GOTHICBI.TTF',\n",
       " 'C:\\\\Windows\\\\Fonts\\\\YuGothR.ttc',\n",
       " 'C:\\\\Windows\\\\Fonts\\\\calibrili.ttf',\n",
       " 'C:\\\\Windows\\\\Fonts\\\\전주완판본 순R.ttf',\n",
       " 'C:\\\\WINDOWS\\\\Fonts\\\\CALIFB.TTF',\n",
       " 'C:\\\\WINDOWS\\\\Fonts\\\\LBRITED.TTF',\n",
       " 'C:\\\\WINDOWS\\\\Fonts\\\\경기천년바탕_Regular.ttf',\n",
       " 'C:\\\\Windows\\\\Fonts\\\\COPRGTB.TTF',\n",
       " 'C:\\\\WINDOWS\\\\Fonts\\\\phagspab.ttf',\n",
       " 'C:\\\\WINDOWS\\\\Fonts\\\\SCRIPTBL.TTF',\n",
       " 'C:\\\\Users\\\\IT\\\\AppData\\\\Local\\\\Microsoft\\\\Windows\\\\Fonts\\\\210+맨발의청춘R.ttf',\n",
       " 'C:\\\\WINDOWS\\\\Fonts\\\\PERTIBD.TTF',\n",
       " 'C:\\\\WINDOWS\\\\Fonts\\\\MK.TTF',\n",
       " 'C:\\\\Windows\\\\Fonts\\\\HMKMAMI.TTF',\n",
       " 'C:\\\\Windows\\\\Fonts\\\\VLADIMIR.TTF',\n",
       " 'C:\\\\Windows\\\\Fonts\\\\trebucit.ttf',\n",
       " 'C:\\\\WINDOWS\\\\Fonts\\\\POORICH.TTF',\n",
       " 'C:\\\\WINDOWS\\\\Fonts\\\\전주완판본 순B.ttf',\n",
       " 'C:\\\\Windows\\\\Fonts\\\\COLONNA.TTF',\n",
       " 'C:\\\\Windows\\\\Fonts\\\\Inkfree.ttf',\n",
       " 'C:\\\\WINDOWS\\\\Fonts\\\\palai.ttf',\n",
       " 'C:\\\\WINDOWS\\\\Fonts\\\\LFAXI.TTF',\n",
       " 'C:\\\\Windows\\\\Fonts\\\\BELL.TTF',\n",
       " 'C:\\\\WINDOWS\\\\Fonts\\\\LTYPEB.TTF',\n",
       " 'C:\\\\Windows\\\\Fonts\\\\bahnschrift.ttf',\n",
       " 'C:\\\\Windows\\\\Fonts\\\\WINGDNG2.TTF',\n",
       " 'C:\\\\Windows\\\\Fonts\\\\GOUDOSI.TTF',\n",
       " 'C:\\\\Windows\\\\Fonts\\\\MH.TTF',\n",
       " 'C:\\\\Windows\\\\Fonts\\\\trebuc.ttf',\n",
       " 'C:\\\\Windows\\\\Fonts\\\\Candaraz.ttf',\n",
       " 'C:\\\\Windows\\\\Fonts\\\\LBRITED.TTF',\n",
       " 'C:\\\\WINDOWS\\\\Fonts\\\\verdanai.ttf',\n",
       " 'C:\\\\WINDOWS\\\\Fonts\\\\calibriz.ttf',\n",
       " 'C:\\\\Windows\\\\Fonts\\\\BRUSHSCI.TTF',\n",
       " 'C:\\\\Windows\\\\Fonts\\\\constan.ttf',\n",
       " 'C:\\\\Windows\\\\Fonts\\\\himalaya.ttf',\n",
       " 'C:\\\\WINDOWS\\\\Fonts\\\\LFAXD.TTF',\n",
       " 'C:\\\\WINDOWS\\\\Fonts\\\\GILSANUB.TTF',\n",
       " 'C:\\\\WINDOWS\\\\Fonts\\\\H2MJRE.TTF',\n",
       " 'C:\\\\Windows\\\\Fonts\\\\HGRKK.TTC',\n",
       " 'C:\\\\Windows\\\\Fonts\\\\UDDigiKyokashoN-R.ttc',\n",
       " 'C:\\\\Windows\\\\Fonts\\\\AGENCYR.TTF',\n",
       " 'C:\\\\Windows\\\\Fonts\\\\MN.TTF',\n",
       " 'C:\\\\WINDOWS\\\\Fonts\\\\simsun.ttc',\n",
       " 'C:\\\\WINDOWS\\\\Fonts\\\\NirmalaB.ttf',\n",
       " 'C:\\\\WINDOWS\\\\Fonts\\\\TCCM____.TTF',\n",
       " 'C:\\\\WINDOWS\\\\Fonts\\\\Nirmala.ttf',\n",
       " 'C:\\\\WINDOWS\\\\Fonts\\\\STSONG.TTF',\n",
       " 'C:\\\\Windows\\\\Fonts\\\\HMKMRHD.TTF',\n",
       " 'C:\\\\Windows\\\\Fonts\\\\TCCM____.TTF',\n",
       " 'C:\\\\WINDOWS\\\\Fonts\\\\couri.ttf',\n",
       " 'C:\\\\WINDOWS\\\\Fonts\\\\segoesc.ttf',\n",
       " 'C:\\\\WINDOWS\\\\Fonts\\\\ELEPHNT.TTF',\n",
       " 'C:\\\\Windows\\\\Fonts\\\\JOKERMAN.TTF',\n",
       " 'C:\\\\Windows\\\\Fonts\\\\HYHWPEQ.TTF',\n",
       " 'C:\\\\WINDOWS\\\\Fonts\\\\BELL.TTF',\n",
       " 'C:\\\\WINDOWS\\\\Fonts\\\\STCAIYUN.TTF',\n",
       " 'C:\\\\WINDOWS\\\\Fonts\\\\HANBatangExtBB.ttf',\n",
       " 'C:\\\\Windows\\\\Fonts\\\\CALISTB.TTF',\n",
       " 'C:\\\\WINDOWS\\\\Fonts\\\\mmrtext.ttf',\n",
       " 'C:\\\\WINDOWS\\\\Fonts\\\\ARLRDBD.TTF',\n",
       " 'C:\\\\WINDOWS\\\\Fonts\\\\BOOKOSB.TTF',\n",
       " 'C:\\\\WINDOWS\\\\Fonts\\\\l_10646.ttf',\n",
       " 'C:\\\\Windows\\\\Fonts\\\\OCRAEXT.TTF',\n",
       " 'C:\\\\WINDOWS\\\\Fonts\\\\JUMJA.TTF',\n",
       " 'C:\\\\Windows\\\\Fonts\\\\LFAX.TTF',\n",
       " 'C:\\\\WINDOWS\\\\Fonts\\\\simsunb.ttf',\n",
       " 'C:\\\\WINDOWS\\\\Fonts\\\\TCCB____.TTF',\n",
       " 'C:\\\\Windows\\\\Fonts\\\\meiryob.ttc',\n",
       " 'C:\\\\Windows\\\\Fonts\\\\constanz.ttf',\n",
       " 'C:\\\\Windows\\\\Fonts\\\\ROCKBI.TTF',\n",
       " 'C:\\\\WINDOWS\\\\Fonts\\\\corbelz.ttf',\n",
       " 'C:\\\\WINDOWS\\\\Fonts\\\\STENCIL.TTF',\n",
       " 'C:\\\\Windows\\\\Fonts\\\\AGENCYB.TTF',\n",
       " 'C:\\\\WINDOWS\\\\Fonts\\\\BRLNSR.TTF',\n",
       " 'C:\\\\WINDOWS\\\\Fonts\\\\YuGothB.ttc',\n",
       " 'C:\\\\Windows\\\\Fonts\\\\H2MKPB.TTF',\n",
       " 'C:\\\\WINDOWS\\\\Fonts\\\\BAUHS93.TTF',\n",
       " 'C:\\\\WINDOWS\\\\Fonts\\\\GOTHICB.TTF',\n",
       " 'C:\\\\WINDOWS\\\\Fonts\\\\BIZ-UDMinchoM.ttc',\n",
       " 'C:\\\\WINDOWS\\\\Fonts\\\\LHANDW.TTF',\n",
       " 'C:\\\\Windows\\\\Fonts\\\\palab.ttf',\n",
       " 'C:\\\\WINDOWS\\\\Fonts\\\\GOTHICBI.TTF',\n",
       " 'C:\\\\WINDOWS\\\\Fonts\\\\trebucbd.ttf',\n",
       " 'C:\\\\Windows\\\\Fonts\\\\MJ.TTF',\n",
       " 'C:\\\\Windows\\\\Fonts\\\\comici.ttf',\n",
       " 'C:\\\\Windows\\\\Fonts\\\\corbel.ttf',\n",
       " 'C:\\\\Windows\\\\Fonts\\\\YuGothM.ttc',\n",
       " 'C:\\\\Windows\\\\Fonts\\\\NIAGENG.TTF',\n",
       " 'C:\\\\Windows\\\\Fonts\\\\Candarai.ttf',\n",
       " 'C:\\\\Windows\\\\Fonts\\\\msmincho.ttc',\n",
       " 'C:\\\\WINDOWS\\\\Fonts\\\\BOD_CI.TTF',\n",
       " 'C:\\\\Windows\\\\Fonts\\\\Dengb.ttf',\n",
       " 'C:\\\\WINDOWS\\\\Fonts\\\\ITCKRIST.TTF',\n",
       " 'C:\\\\WINDOWS\\\\Fonts\\\\GLECB.TTF',\n",
       " 'C:\\\\Windows\\\\Fonts\\\\HGRSGU.TTC',\n",
       " 'C:\\\\WINDOWS\\\\Fonts\\\\FREESCPT.TTF',\n",
       " 'C:\\\\Windows\\\\Fonts\\\\BKANT.TTF',\n",
       " 'C:\\\\WINDOWS\\\\Fonts\\\\GOUDOSI.TTF',\n",
       " 'C:\\\\WINDOWS\\\\Fonts\\\\msyh.ttc',\n",
       " 'C:\\\\Windows\\\\Fonts\\\\calibril.ttf',\n",
       " 'C:\\\\WINDOWS\\\\Fonts\\\\HANDotum.ttf',\n",
       " 'C:\\\\Windows\\\\Fonts\\\\CALIFB.TTF',\n",
       " 'C:\\\\WINDOWS\\\\Fonts\\\\OUTLOOK.TTF',\n",
       " 'C:\\\\WINDOWS\\\\Fonts\\\\VLADIMIR.TTF',\n",
       " 'C:\\\\Windows\\\\Fonts\\\\ntailub.ttf',\n",
       " 'C:\\\\Windows\\\\Fonts\\\\SitkaB.ttc',\n",
       " 'C:\\\\WINDOWS\\\\Fonts\\\\LSANSI.TTF',\n",
       " 'C:\\\\WINDOWS\\\\Fonts\\\\RAGE.TTF',\n",
       " 'C:\\\\WINDOWS\\\\Fonts\\\\BERNHC.TTF',\n",
       " 'C:\\\\WINDOWS\\\\Fonts\\\\ALGER.TTF',\n",
       " 'C:\\\\WINDOWS\\\\Fonts\\\\BOD_BI.TTF',\n",
       " 'C:\\\\WINDOWS\\\\Fonts\\\\calibrili.ttf',\n",
       " 'C:\\\\Windows\\\\Fonts\\\\gadugi.ttf',\n",
       " 'C:\\\\WINDOWS\\\\Fonts\\\\NGULIM.TTF',\n",
       " 'C:\\\\WINDOWS\\\\Fonts\\\\STXIHEI.TTF',\n",
       " 'C:\\\\Windows\\\\Fonts\\\\OUTLOOK.TTF',\n",
       " 'C:\\\\Windows\\\\Fonts\\\\STXINGKA.TTF',\n",
       " 'C:\\\\Windows\\\\Fonts\\\\ITCBLKAD.TTF',\n",
       " 'C:\\\\Windows\\\\Fonts\\\\HGRPP1.TTC',\n",
       " 'C:\\\\Windows\\\\Fonts\\\\GARAIT.TTF',\n",
       " 'C:\\\\Windows\\\\Fonts\\\\STZHONGS.TTF',\n",
       " 'C:\\\\WINDOWS\\\\Fonts\\\\FTLTLT.TTF',\n",
       " 'C:\\\\Windows\\\\Fonts\\\\H2SA1M.TTF',\n",
       " 'C:\\\\WINDOWS\\\\Fonts\\\\seguisb.ttf',\n",
       " 'C:\\\\WINDOWS\\\\Fonts\\\\consola.ttf',\n",
       " 'C:\\\\Windows\\\\Fonts\\\\TCM_____.TTF',\n",
       " 'C:\\\\Windows\\\\Fonts\\\\PERTIBD.TTF',\n",
       " 'C:\\\\WINDOWS\\\\Fonts\\\\H2PORL.TTF',\n",
       " 'C:\\\\WINDOWS\\\\Fonts\\\\MH.TTF',\n",
       " 'C:\\\\Windows\\\\Fonts\\\\Sitka.ttc',\n",
       " 'C:\\\\WINDOWS\\\\Fonts\\\\COLONNA.TTF',\n",
       " 'C:\\\\WINDOWS\\\\Fonts\\\\COPRGTL.TTF',\n",
       " 'C:\\\\Windows\\\\Fonts\\\\ROCCB___.TTF',\n",
       " 'C:\\\\WINDOWS\\\\Fonts\\\\HANBatangB.ttf',\n",
       " 'C:\\\\Windows\\\\Fonts\\\\ROCC____.TTF',\n",
       " 'C:\\\\WINDOWS\\\\Fonts\\\\GARABD.TTF',\n",
       " 'C:\\\\Windows\\\\Fonts\\\\ANTQUABI.TTF',\n",
       " 'C:\\\\Windows\\\\Fonts\\\\GILC____.TTF',\n",
       " 'C:\\\\WINDOWS\\\\Fonts\\\\holomdl2.ttf',\n",
       " 'C:\\\\WINDOWS\\\\Fonts\\\\LBRITE.TTF',\n",
       " 'C:\\\\WINDOWS\\\\Fonts\\\\palabi.ttf',\n",
       " 'C:\\\\Windows\\\\Fonts\\\\GOTHICI.TTF',\n",
       " 'C:\\\\Windows\\\\Fonts\\\\LTYPEBO.TTF',\n",
       " 'C:\\\\WINDOWS\\\\Fonts\\\\MM.TTF',\n",
       " 'C:\\\\WINDOWS\\\\Fonts\\\\PALSCRI.TTF',\n",
       " 'C:\\\\Windows\\\\Fonts\\\\seguisbi.ttf',\n",
       " 'C:\\\\Users\\\\IT\\\\AppData\\\\Local\\\\Microsoft\\\\Windows\\\\Fonts\\\\210+맨발의청춘L.ttf',\n",
       " 'C:\\\\WINDOWS\\\\Fonts\\\\GILB____.TTF',\n",
       " 'C:\\\\WINDOWS\\\\Fonts\\\\timesi.ttf',\n",
       " 'C:\\\\Windows\\\\Fonts\\\\taile.ttf',\n",
       " 'C:\\\\Windows\\\\Fonts\\\\LHANDW.TTF',\n",
       " 'C:\\\\Windows\\\\Fonts\\\\msjhbd.ttc',\n",
       " 'C:\\\\Windows\\\\Fonts\\\\corbell.ttf',\n",
       " 'C:\\\\Windows\\\\Fonts\\\\HGRME.TTC',\n",
       " 'C:\\\\Windows\\\\Fonts\\\\HANBatangExtB.ttf',\n",
       " 'C:\\\\Windows\\\\Fonts\\\\PAPYRUS.TTF',\n",
       " 'C:\\\\WINDOWS\\\\Fonts\\\\ntailub.ttf',\n",
       " 'C:\\\\Windows\\\\Fonts\\\\MTCORSVA.TTF',\n",
       " 'C:\\\\Windows\\\\Fonts\\\\timesbi.ttf',\n",
       " 'C:\\\\WINDOWS\\\\Fonts\\\\BOOKOS.TTF',\n",
       " 'C:\\\\Windows\\\\Fonts\\\\verdanai.ttf',\n",
       " 'C:\\\\Windows\\\\Fonts\\\\Candara.ttf',\n",
       " 'C:\\\\Windows\\\\Fonts\\\\BSSYM7.TTF',\n",
       " 'C:\\\\Windows\\\\Fonts\\\\MTEXTRA.TTF',\n",
       " 'C:\\\\WINDOWS\\\\Fonts\\\\PAPYRUS.TTF',\n",
       " 'C:\\\\WINDOWS\\\\Fonts\\\\cambriab.ttf',\n",
       " 'C:\\\\WINDOWS\\\\Fonts\\\\meiryob.ttc',\n",
       " 'C:\\\\WINDOWS\\\\Fonts\\\\HGRGY.TTC',\n",
       " 'C:\\\\Windows\\\\Fonts\\\\BOD_PSTC.TTF',\n",
       " 'C:\\\\Windows\\\\Fonts\\\\taileb.ttf',\n",
       " 'C:\\\\WINDOWS\\\\Fonts\\\\HMFMOLD.TTF',\n",
       " 'C:\\\\WINDOWS\\\\Fonts\\\\COPRGTB.TTF',\n",
       " 'C:\\\\WINDOWS\\\\Fonts\\\\msmincho.ttc',\n",
       " 'C:\\\\Windows\\\\Fonts\\\\ELEPHNTI.TTF',\n",
       " 'C:\\\\Windows\\\\Fonts\\\\cambriaz.ttf',\n",
       " 'C:\\\\WINDOWS\\\\Fonts\\\\comicbd.ttf',\n",
       " 'C:\\\\Windows\\\\Fonts\\\\JUICE___.TTF',\n",
       " 'C:\\\\WINDOWS\\\\Fonts\\\\himalaya.ttf',\n",
       " 'C:\\\\WINDOWS\\\\Fonts\\\\ntailu.ttf',\n",
       " 'C:\\\\Windows\\\\Fonts\\\\TCMI____.TTF',\n",
       " 'C:\\\\Windows\\\\Fonts\\\\ariblk.ttf',\n",
       " 'C:\\\\Windows\\\\Fonts\\\\STSONG.TTF',\n",
       " 'C:\\\\Windows\\\\Fonts\\\\ERASMD.TTF',\n",
       " 'C:\\\\WINDOWS\\\\Fonts\\\\cour.ttf',\n",
       " 'C:\\\\WINDOWS\\\\Fonts\\\\SitkaB.ttc',\n",
       " 'C:\\\\Windows\\\\Fonts\\\\lucon.ttf',\n",
       " 'C:\\\\WINDOWS\\\\Fonts\\\\YuGothL.ttc',\n",
       " 'C:\\\\Windows\\\\Fonts\\\\CENTURY.TTF',\n",
       " 'C:\\\\WINDOWS\\\\Fonts\\\\전주완판본 각R.ttf',\n",
       " 'C:\\\\WINDOWS\\\\Fonts\\\\LFAX.TTF',\n",
       " 'C:\\\\Windows\\\\Fonts\\\\NirmalaS.ttf',\n",
       " 'C:\\\\Windows\\\\Fonts\\\\BOD_I.TTF',\n",
       " 'C:\\\\Windows\\\\Fonts\\\\PERTILI.TTF',\n",
       " 'C:\\\\Windows\\\\Fonts\\\\GOUDOS.TTF',\n",
       " 'C:\\\\Windows\\\\Fonts\\\\MP.TTF',\n",
       " 'C:\\\\Windows\\\\Fonts\\\\GILI____.TTF',\n",
       " 'C:\\\\WINDOWS\\\\Fonts\\\\LBRITEI.TTF',\n",
       " 'C:\\\\WINDOWS\\\\Fonts\\\\seguisli.ttf',\n",
       " 'C:\\\\WINDOWS\\\\Fonts\\\\경기천년제목_Medium.ttf',\n",
       " 'C:\\\\Windows\\\\Fonts\\\\holomdl2.ttf',\n",
       " 'C:\\\\WINDOWS\\\\Fonts\\\\TCMI____.TTF',\n",
       " 'C:\\\\WINDOWS\\\\Fonts\\\\GARA.TTF',\n",
       " 'C:\\\\Windows\\\\Fonts\\\\ANTQUAB.TTF',\n",
       " 'C:\\\\WINDOWS\\\\Fonts\\\\TCCEB.TTF',\n",
       " 'C:\\\\Windows\\\\Fonts\\\\HANDotum.ttf',\n",
       " 'C:\\\\WINDOWS\\\\Fonts\\\\constanb.ttf',\n",
       " 'C:\\\\WINDOWS\\\\Fonts\\\\GOTHIC.TTF',\n",
       " 'C:\\\\WINDOWS\\\\Fonts\\\\msjhl.ttc',\n",
       " 'C:\\\\Windows\\\\Fonts\\\\FTLTLT.TTF',\n",
       " 'C:\\\\WINDOWS\\\\Fonts\\\\HGRME.TTC',\n",
       " 'C:\\\\Windows\\\\Fonts\\\\HANBatangExt.ttf',\n",
       " 'C:\\\\WINDOWS\\\\Fonts\\\\CHILLER.TTF',\n",
       " 'C:\\\\Windows\\\\Fonts\\\\LSANSD.TTF',\n",
       " 'C:\\\\Windows\\\\Fonts\\\\ANTQUAI.TTF',\n",
       " 'C:\\\\WINDOWS\\\\Fonts\\\\SIMLI.TTF',\n",
       " 'C:\\\\WINDOWS\\\\Fonts\\\\PERBI___.TTF',\n",
       " 'C:\\\\WINDOWS\\\\Fonts\\\\BELLB.TTF',\n",
       " 'C:\\\\Windows\\\\Fonts\\\\SNAP____.TTF',\n",
       " 'C:\\\\Windows\\\\Fonts\\\\LeelaUIb.ttf',\n",
       " 'C:\\\\WINDOWS\\\\Fonts\\\\marlett.ttf',\n",
       " 'C:\\\\Windows\\\\Fonts\\\\segoesc.ttf',\n",
       " 'C:\\\\Windows\\\\Fonts\\\\HANBatangB.ttf',\n",
       " 'C:\\\\WINDOWS\\\\Fonts\\\\mmrtextb.ttf',\n",
       " 'C:\\\\Windows\\\\Fonts\\\\consolab.ttf',\n",
       " 'C:\\\\WINDOWS\\\\Fonts\\\\bahnschrift.ttf',\n",
       " 'C:\\\\Windows\\\\Fonts\\\\HMKMMAG.TTF',\n",
       " 'C:\\\\Windows\\\\Fonts\\\\HARLOWSI.TTF',\n",
       " 'C:\\\\WINDOWS\\\\Fonts\\\\HGRSKP.TTF',\n",
       " 'C:\\\\Windows\\\\Fonts\\\\BRLNSDB.TTF',\n",
       " 'C:\\\\Windows\\\\Fonts\\\\BOD_CBI.TTF',\n",
       " 'C:\\\\WINDOWS\\\\Fonts\\\\BOD_B.TTF',\n",
       " 'C:\\\\WINDOWS\\\\Fonts\\\\HARNGTON.TTF',\n",
       " 'C:\\\\WINDOWS\\\\Fonts\\\\symbol.ttf',\n",
       " 'C:\\\\Windows\\\\Fonts\\\\BOD_B.TTF',\n",
       " 'C:\\\\Windows\\\\Fonts\\\\yuminl.ttf',\n",
       " 'C:\\\\WINDOWS\\\\Fonts\\\\ELEPHNTI.TTF',\n",
       " 'C:\\\\Windows\\\\Fonts\\\\segoeprb.ttf',\n",
       " 'C:\\\\Windows\\\\Fonts\\\\POORICH.TTF',\n",
       " 'C:\\\\Windows\\\\Fonts\\\\HATTEN.TTF',\n",
       " 'C:\\\\Windows\\\\Fonts\\\\simhei.ttf',\n",
       " 'C:\\\\WINDOWS\\\\Fonts\\\\FRADMCN.TTF',\n",
       " 'C:\\\\Windows\\\\Fonts\\\\STXIHEI.TTF',\n",
       " 'C:\\\\WINDOWS\\\\Fonts\\\\경기천년바탕_Bold.ttf',\n",
       " 'C:\\\\WINDOWS\\\\Fonts\\\\SitkaI.ttc',\n",
       " 'C:\\\\Windows\\\\Fonts\\\\pala.ttf',\n",
       " 'C:\\\\WINDOWS\\\\Fonts\\\\YuGothR.ttc',\n",
       " 'C:\\\\Windows\\\\Fonts\\\\BRLNSB.TTF',\n",
       " 'C:\\\\Windows\\\\Fonts\\\\phagspab.ttf',\n",
       " 'C:\\\\Windows\\\\Fonts\\\\mingliu.ttc',\n",
       " 'C:\\\\WINDOWS\\\\Fonts\\\\BIZ-UDGothicB.ttc',\n",
       " 'C:\\\\WINDOWS\\\\Fonts\\\\STFANGSO.TTF',\n",
       " 'C:\\\\WINDOWS\\\\Fonts\\\\segoeui.ttf',\n",
       " 'C:\\\\Windows\\\\Fonts\\\\msyhbd.ttc',\n",
       " 'C:\\\\Windows\\\\Fonts\\\\palai.ttf',\n",
       " 'C:\\\\WINDOWS\\\\Fonts\\\\MAGNETOB.TTF',\n",
       " 'C:\\\\WINDOWS\\\\Fonts\\\\trebuc.ttf',\n",
       " 'C:\\\\Windows\\\\Fonts\\\\Candarali.ttf',\n",
       " 'C:\\\\Windows\\\\Fonts\\\\UDDigiKyokashoN-B.ttc',\n",
       " 'C:\\\\WINDOWS\\\\Fonts\\\\yumindb.ttf',\n",
       " 'C:\\\\WINDOWS\\\\Fonts\\\\batang.ttc',\n",
       " 'C:\\\\Windows\\\\Fonts\\\\COPRGTL.TTF',\n",
       " 'C:\\\\WINDOWS\\\\Fonts\\\\segoepr.ttf',\n",
       " 'C:\\\\WINDOWS\\\\Fonts\\\\javatext.ttf',\n",
       " 'C:\\\\WINDOWS\\\\Fonts\\\\LeelUIsl.ttf',\n",
       " 'C:\\\\WINDOWS\\\\Fonts\\\\HGRGM.TTC',\n",
       " 'C:\\\\WINDOWS\\\\Fonts\\\\Deng.ttf',\n",
       " 'C:\\\\Windows\\\\Fonts\\\\HANDotumExt.ttf',\n",
       " 'C:\\\\Windows\\\\Fonts\\\\OCRB.TTF',\n",
       " 'C:\\\\WINDOWS\\\\Fonts\\\\GOUDOS.TTF']"
      ]
     },
     "execution_count": 63,
     "metadata": {},
     "output_type": "execute_result"
    }
   ],
   "source": [
    "font_list"
   ]
  },
  {
   "cell_type": "code",
   "execution_count": 64,
   "metadata": {},
   "outputs": [
    {
     "data": {
      "text/plain": [
       "855"
      ]
     },
     "execution_count": 64,
     "metadata": {},
     "output_type": "execute_result"
    }
   ],
   "source": [
    "len(font_list)"
   ]
  },
  {
   "cell_type": "code",
   "execution_count": 73,
   "metadata": {
    "collapsed": true
   },
   "outputs": [
    {
     "name": "stdout",
     "output_type": "stream",
     "text": [
      "C:\\WINDOWS\\Fonts\\GOTHICI.TTF\n",
      "C:\\Windows\\Fonts\\GOTHICB.TTF\n",
      "C:\\Windows\\Fonts\\GOTHIC.TTF\n",
      "C:\\Windows\\Fonts\\GOTHICBI.TTF\n",
      "C:\\WINDOWS\\Fonts\\GOTHICB.TTF\n",
      "C:\\WINDOWS\\Fonts\\GOTHICBI.TTF\n",
      "C:\\Windows\\Fonts\\GOTHICI.TTF\n",
      "C:\\WINDOWS\\Fonts\\GOTHIC.TTF\n"
     ]
    }
   ],
   "source": [
    "for f in font_list:\n",
    "    if 'GOTHIC' in f:\n",
    "        print(f)        "
   ]
  },
  {
   "cell_type": "code",
   "execution_count": 74,
   "metadata": {},
   "outputs": [],
   "source": [
    "font_fname= 'C:\\Windows\\Fonts\\GOTHIC.TTF'\n",
    "font_name = fm.FontProperties(fname=font_fname).get_name()"
   ]
  },
  {
   "cell_type": "code",
   "execution_count": 75,
   "metadata": {},
   "outputs": [
    {
     "data": {
      "text/plain": [
       "'Century Gothic'"
      ]
     },
     "execution_count": 75,
     "metadata": {},
     "output_type": "execute_result"
    }
   ],
   "source": [
    "font_name"
   ]
  },
  {
   "cell_type": "code",
   "execution_count": 76,
   "metadata": {
    "collapsed": true
   },
   "outputs": [
    {
     "name": "stdout",
     "output_type": "stream",
     "text": [
      "Brush Script MT\n",
      "Perpetua\n",
      "MoeumT R\n",
      "Gloucester MT Extra Condensed\n",
      "Microsoft Sans Serif\n",
      "GyeonggiBatang\n",
      "Courier New\n",
      "Comic Sans MS\n",
      "Microsoft Yi Baiti\n",
      "Bodoni MT\n",
      "HYPost-Light\n",
      "Gill Sans MT Ext Condensed Bold\n",
      "Ebrima\n",
      "?? ??? ?B\n",
      "SimHei\n",
      "Ami R\n",
      "Gill Sans Ultra Bold\n",
      "Rockwell\n",
      "MingLiU-ExtB\n",
      "Ebrima\n",
      "Yu Mincho\n",
      "Segoe Print\n",
      "Times New Roman\n",
      "FangSong\n",
      "Rockwell Extra Bold\n",
      "Bookman Old Style\n",
      "Courier New\n",
      "HGMinchoB\n",
      "Bodoni MT\n",
      "Segoe UI\n",
      "Segoe UI Symbol\n",
      "Gabriola\n",
      "Candara\n",
      "Algerian\n",
      "Consolas\n",
      "Niagara Solid\n",
      "Edwardian Script ITC\n",
      "Nirmala UI\n",
      "Verdana\n",
      "Microsoft Sans Serif\n",
      "Courier New\n",
      "Franklin Gothic Demi\n",
      "Gill Sans MT\n",
      "Tahoma\n",
      "Lucida Fax\n",
      "Microsoft JhengHei\n",
      "Tw Cen MT\n",
      "Consolas\n",
      "High Tower Text\n",
      "HCR Dotum Ext\n",
      "Cambria\n",
      "Calisto MT\n",
      "Impact\n",
      "Lucida Fax\n",
      "MBatang\n",
      "Stencil\n",
      "Comic Sans MS\n",
      "Franklin Gothic Demi\n",
      "Onyx\n",
      "?? ??? ?L\n",
      "HYPost-Medium\n",
      "HyhwpEQ\n",
      "Segoe UI\n",
      "FZYaoTi\n",
      "STKaiti\n",
      "Bell MT\n",
      "Franklin Gothic Heavy\n",
      "STHupo\n",
      "Lucida Sans\n",
      "Segoe UI\n",
      "Modern No. 20\n",
      "Tw Cen MT\n",
      "Myanmar Text\n",
      "Malgun Gothic\n",
      "STKaiti\n",
      "Impact\n",
      "Segoe UI\n",
      "HYGraphic-Medium\n",
      "Ravie\n",
      "Microsoft PhagsPa\n",
      "Agency FB\n",
      "French Script MT\n",
      "Candara\n",
      "Jokerman\n",
      "Franklin Gothic Book\n",
      "FangSong\n",
      "HCR Batang ExtB\n",
      "Bauhaus 93\n",
      "Gill Sans MT\n",
      "Franklin Gothic Book\n",
      "Lucida Console\n",
      "?? ??? ?B\n",
      "Bodoni MT\n",
      "French Script MT\n",
      "Trebuchet MS\n",
      "Mongolian Baiti\n",
      "DengXian\n",
      "GyeonggiTitle\n",
      "Microsoft New Tai Lue\n",
      "Matura MT Script Capitals\n",
      "MingLiU-ExtB\n",
      "Palatino Linotype\n",
      "Segoe UI\n",
      "Forte\n",
      "Harrington\n",
      "Britannic Bold\n",
      "Bodoni MT\n",
      "Comic Sans MS\n",
      "Bradley Hand ITC\n",
      "GyeonggiTitle\n",
      "MBatang\n",
      "Yu Gothic\n",
      "HCR Batang\n",
      "Corbel\n",
      "Nirmala UI\n",
      "Consolas\n",
      "Sylfaen\n",
      "Arial\n",
      "Lucida Bright\n",
      "Arial\n",
      "Book Antiqua\n",
      "Arial\n",
      "Comic Sans MS\n",
      "Script MT Bold\n",
      "MS Gothic\n",
      "BIZ UDGothic\n",
      "Malgun Gothic\n",
      "Bodoni MT\n",
      "Old English Text MT\n",
      "Edwardian Script ITC\n",
      "Microsoft JhengHei\n",
      "Franklin Gothic Medium Cond\n",
      "Book Antiqua\n",
      "HYHeadLine-Medium\n",
      "Century Schoolbook\n",
      "Perpetua\n",
      "Franklin Gothic Heavy\n",
      "Kristen ITC\n",
      "Informal Roman\n",
      "Pyunji R\n",
      "Calisto MT\n",
      "Pristina\n",
      "MS Reference Specialty\n",
      "Calisto MT\n",
      "Berlin Sans FB\n",
      "STHupo\n",
      "Gadugi\n",
      "FZShuTi\n",
      "Cambria\n",
      "Leelawadee UI\n",
      "Eras Light ITC\n",
      "Showcard Gothic\n",
      "Franklin Gothic Medium Cond\n",
      "Ebrima\n",
      "Felix Titling\n",
      "Bradley Hand ITC\n",
      "Goudy Stout\n",
      "Tahoma\n",
      "Old English Text MT\n",
      "Arial\n",
      "Arial Rounded MT Bold\n",
      "Segoe MDL2 Assets\n",
      "Meiryo\n",
      "Franklin Gothic Medium\n",
      "Franklin Gothic Medium\n",
      "MJemokBatang\n",
      "Lucida Sans\n",
      "Arial\n",
      "Ebrima\n",
      "Leelawadee UI\n",
      "Corbel\n",
      "Franklin Gothic Demi\n",
      "HGGothicM\n",
      "Lucida Sans Typewriter\n",
      "Microsoft JhengHei\n",
      "Imprint MT Shadow\n",
      "Arial\n",
      "Yu Gothic\n",
      "Segoe UI\n",
      "MS Reference Sans Serif\n",
      "High Tower Text\n",
      "High Tower Text\n",
      "Century Schoolbook\n",
      "Palace Script MT\n",
      "Corbel\n",
      "Bernard MT Condensed\n",
      "?? ??? ?R\n",
      "STXinwei\n",
      "Informal Roman\n",
      "NewJumja\n",
      "HGMaruGothicMPRO\n",
      "Gigi\n",
      "Rockwell Condensed\n",
      "Broadway\n",
      "Yet R\n",
      "MSugiJeong\n",
      "Tahoma\n",
      "Yu Gothic\n",
      "Parchment\n",
      "Candara\n",
      "Rockwell Condensed\n",
      "Consolas\n",
      "Gadugi\n",
      "Century Schoolbook\n",
      "Eras Bold ITC\n",
      "Rockwell\n",
      "Constantia\n",
      "KaiTi\n",
      "?? ??? ?L\n",
      "Gill Sans Ultra Bold Condensed\n",
      "Bodoni MT\n",
      "Perpetua\n",
      "SimSun-ExtB\n",
      "Cooper Black\n",
      "Comic Sans MS\n",
      "Leelawadee UI\n",
      "?? ??? ?B\n",
      "Georgia\n",
      "Lucida Bright\n",
      "STFangsong\n",
      "Segoe MDL2 Assets\n",
      "Cambria\n",
      "GyeonggiTitle\n",
      "Gadugi\n",
      "Bookman Old Style\n",
      "Lucida Sans\n",
      "HGKyokashotai\n",
      "Microsoft YaHei\n",
      "Lucida Calligraphy\n",
      "Georgia\n",
      "Calibri\n",
      "HGSeikaishotaiPRO\n",
      "Bookman Old Style\n",
      "Lucida Sans\n",
      "Maiandra GD\n",
      "Times New Roman\n",
      "MingLiU\n",
      "Times New Roman\n",
      "Times New Roman\n",
      "?? ??? ?L\n",
      "STZhongsong\n",
      "Agency FB\n",
      "Segoe UI\n",
      "Lucida Sans Unicode\n",
      "Snap ITC\n",
      "HGSoeiPresenceEB\n",
      "Georgia\n",
      "Sitka Small\n",
      "Candara\n",
      "Gill Sans MT\n",
      "Century Schoolbook\n",
      "OCRB\n",
      "Courier New\n",
      "Cambria\n",
      "Segoe UI\n",
      "Verdana\n",
      "Gabriola\n",
      "Malgun Gothic\n",
      "HYPMokGak-Bold\n",
      "Rockwell\n",
      "MGungJeong\n",
      "Franklin Gothic Heavy\n",
      "Franklin Gothic Medium\n",
      "Segoe UI\n",
      "HCR Dotum\n",
      "Juice ITC\n",
      "Viner Hand ITC\n",
      "Microsoft Yi Baiti\n",
      "Rockwell\n",
      "Candara\n",
      "Ink Free\n",
      "High Tower Text\n",
      "Playbill\n",
      "Gulim\n",
      "Bodoni MT\n",
      "Arial\n",
      "Constantia\n",
      "DengXian\n",
      "Garamond\n",
      "Modern No. 20\n",
      "Segoe UI\n",
      "Arial\n",
      "Trebuchet MS\n",
      "Wingdings 2\n",
      "FZYaoTi\n",
      "Sitka Small\n",
      "Gill Sans MT Condensed\n",
      "HGGyoshotai\n",
      "HYPost-Medium\n",
      "Eras Demi ITC\n",
      "Tw Cen MT Condensed Extra Bold\n",
      "Magneto\n",
      "Symbol\n",
      "Microsoft YaHei\n",
      "OCR A Extended\n",
      "Segoe UI\n",
      "Calibri\n",
      "Microsoft JhengHei\n",
      "GyeonggiTitle\n",
      "Berlin Sans FB Demi\n",
      "Candara\n",
      "Segoe UI\n",
      "Bodoni MT\n",
      "Yu Mincho\n",
      "Century Schoolbook\n",
      "Eras Medium ITC\n",
      "HYSinMyeongJo-Medium\n",
      "Verdana\n",
      "Batang\n",
      "Bodoni MT\n",
      "MT Extra\n",
      "Engravers MT\n",
      "Perpetua\n",
      "Mistral\n",
      "Forte\n",
      "Wide Latin\n",
      "Segoe Script\n",
      "Calisto MT\n",
      "Gill Sans MT\n",
      "Lucida Sans Typewriter\n",
      "Bookman Old Style\n",
      "Californian FB\n",
      "Perpetua\n",
      "Arial\n",
      "DengXian\n",
      "Perpetua\n",
      "Microsoft Tai Le\n",
      "Tahoma\n",
      "Rockwell Extra Bold\n",
      "Constantia\n",
      "MS Gothic\n",
      "HGSoeiKakupoptai\n",
      "Imprint MT Shadow\n",
      "Lucida Sans Typewriter\n",
      "Calibri\n",
      "Californian FB\n",
      "Franklin Gothic Medium\n",
      "YouYuan\n",
      "Consolas\n",
      "Bell MT\n",
      "Malgun Gothic\n",
      "Wide Latin\n",
      "MV Boli\n",
      "Centaur\n",
      "Lucida Fax\n",
      "Garamond\n",
      "Cambria\n",
      "Cooper Black\n",
      "Constantia\n",
      "Bodoni MT\n",
      "Arial\n",
      "Franklin Gothic Heavy\n",
      "HYGothic-Medium\n",
      "Wingdings\n",
      "Yu Mincho\n",
      "Calibri\n",
      "GyeonggiTitleV\n",
      "Goudy Old Style\n",
      "Onyx\n",
      "Segoe UI\n",
      "Tempus Sans ITC\n",
      "Corbel\n",
      "HGGothicE\n",
      "Elephant\n",
      "MJemokBatang\n",
      "MV Boli\n",
      "UD Digi Kyokasho N-B\n",
      "Franklin Gothic Demi\n",
      "Goudy Old Style\n",
      "Segoe Print\n",
      "Lucida Bright\n",
      "Webdings\n",
      "Calibri\n",
      "Courier New\n",
      "Arial\n",
      "Bodoni MT\n",
      "Perpetua Titling MT\n",
      "Segoe UI Historic\n",
      "GyeonggiTitleV\n",
      "Segoe UI\n",
      "Georgia\n",
      "Gill Sans MT\n",
      "HCR Batang ExtB\n",
      "Viner Hand ITC\n",
      "Matura MT Script Capitals\n",
      "HYMyeongJo-Extra\n",
      "Niagara Solid\n",
      "Eras Bold ITC\n",
      "Lucida Bright\n",
      "Calisto MT\n",
      "YouYuan\n",
      "Berlin Sans FB\n",
      "Corbel\n",
      "Showcard Gothic\n",
      "Lucida Sans Typewriter\n",
      "Segoe UI Historic\n",
      "Times New Roman\n",
      "Bodoni MT\n",
      "Corbel\n",
      "Franklin Gothic Demi Cond\n",
      "HYGungSo-Bold\n",
      "Wingdings\n",
      "Times New Roman\n",
      "Trebuchet MS\n",
      "Tw Cen MT\n",
      "DFKai-SB\n",
      "HYHeadLine-Medium\n",
      "Segoe UI Emoji\n",
      "Segoe Script\n",
      "Franklin Gothic Book\n",
      "MSugiHeulim\n",
      "Sitka Small\n",
      "HGSoeiPresenceEB\n",
      "Corbel\n",
      "Arial\n",
      "Century Schoolbook\n",
      "Consolas\n",
      "HYGothic-Medium\n",
      "Nirmala UI\n",
      "Castellar\n",
      "Lucida Fax\n",
      "Book Antiqua\n",
      "Century Gothic\n",
      "Niagara Engraved\n",
      "Georgia\n",
      "Wingdings 3\n",
      "Kunstler Script\n",
      "Book Antiqua\n",
      "?? ??? ?L\n",
      "FZShuTi\n",
      "Century\n",
      "MoeumT R\n",
      "HYGraphic-Medium\n",
      "New Gulim\n",
      "STLiti\n",
      "Pyunji R\n",
      "Gill Sans MT\n",
      "MDotum\n",
      "Georgia\n",
      "HCR Batang Ext\n",
      "DengXian\n",
      "Californian FB\n",
      "Microsoft Tai Le\n",
      "Playbill\n",
      "Gill Sans MT Ext Condensed Bold\n",
      "Bodoni MT\n",
      "LiSu\n",
      "Corbel\n",
      "Verdana\n",
      "MS Reference Sans Serif\n",
      "MDotum\n",
      "Britannic Bold\n",
      "Perpetua\n",
      "Meiryo\n",
      "Calisto MT\n",
      "Tw Cen MT\n",
      "HCR Batang\n",
      "Bodoni MT\n",
      "GyeonggiTitle\n",
      "MS Reference Specialty\n",
      "Tw Cen MT\n",
      "Microsoft PhagsPa\n",
      "Pristina\n",
      "Rockwell\n",
      "UD Digi Kyokasho N-R\n",
      "Century Schoolbook\n",
      "Calisto MT\n",
      "Candara\n",
      "MGungHeulim\n",
      "STCaiyun\n",
      "Calibri\n",
      "STXingkai\n",
      "Arial\n",
      "Tw Cen MT Condensed\n",
      "Bookshelf Symbol 7\n",
      "HYShortSamul-Medium\n",
      "Mongolian Baiti\n",
      "Parchment\n",
      "Baskerville Old Face\n",
      "Lucida Sans\n",
      "DFKai-SB\n",
      "MJemokGothic\n",
      "Rockwell\n",
      "Lucida Sans Typewriter\n",
      "Century Gothic\n",
      "Haettenschweiler\n",
      "Eras Light ITC\n",
      "Magic R\n",
      "BIZ UDMincho\n",
      "Bookman Old Style\n",
      "Curlz MT\n",
      "Franklin Gothic Book\n",
      "Lucida Sans\n",
      "Broadway\n",
      "Malgun Gothic\n",
      "Goudy Stout\n",
      "Segoe UI\n",
      "Mistral\n",
      "Georgia\n",
      "Harlow Solid Italic\n",
      "Bodoni MT\n",
      "Headline R\n",
      "HCR Dotum\n",
      "Wingdings 3\n",
      "Curlz MT\n",
      "Calibri\n",
      "HYSinMyeongJo-Medium\n",
      "Arial\n",
      "Lucida Calligraphy\n",
      "Castellar\n",
      "Blackadder ITC\n",
      "Segoe UI\n",
      "Verdana\n",
      "SimSun\n",
      "Trebuchet MS\n",
      "Segoe UI Symbol\n",
      "Kunstler Script\n",
      "Lucida Sans Typewriter\n",
      "Myanmar Text\n",
      "BIZ UDGothic\n",
      "Eras Demi ITC\n",
      "Tempus Sans ITC\n",
      "Comic Sans MS\n",
      "Arial\n",
      "Gigi\n",
      "GyeonggiBatang\n",
      "Segoe UI\n",
      "STXinwei\n",
      "STLiti\n",
      "Maiandra GD\n",
      "Javanese Text\n",
      "Sitka Small\n",
      "HYGothic-Extra\n",
      "Monotype Corsiva\n",
      "Arial\n",
      "Rage Italic\n",
      "Webdings\n",
      "Constantia\n",
      "Palatino Linotype\n",
      "?? ??? ?R\n",
      "HYGothic-Extra\n",
      "Yu Mincho\n",
      "Freestyle Script\n",
      "Georgia\n",
      "Microsoft YaHei\n",
      "BIZ UDGothic\n",
      "Verdana\n",
      "HGMaruGothicMPRO\n",
      "Candara\n",
      "Malgun Gothic\n",
      "Arial\n",
      "Leelawadee UI\n",
      "Segoe UI\n",
      "Segoe UI Emoji\n",
      "Baskerville Old Face\n",
      "KaiTi\n",
      "Cambria\n",
      "Courier New\n",
      "Bookman Old Style\n",
      "HGGothicE\n",
      "Rockwell\n",
      "Gulim\n",
      "Chiller\n",
      "Felix Titling\n",
      "Microsoft YaHei\n",
      "Corbel\n",
      "HYGungSo-Bold\n",
      "Century Schoolbook\n",
      "Sylfaen\n",
      "Segoe UI\n",
      "Vivaldi\n",
      "Engravers MT\n",
      "Bell MT\n",
      "Gill Sans Ultra Bold Condensed\n",
      "Century Gothic\n",
      "Segoe UI\n",
      "Ravie\n",
      "Vivaldi\n",
      "Centaur\n",
      "Palatino Linotype\n",
      "Garamond\n",
      "Californian FB\n",
      "HGSoeiKakugothicUB\n",
      "HGMinchoB\n",
      "Calibri\n",
      "Century Gothic\n",
      "Yu Gothic\n",
      "Calibri\n",
      "?? ??? ?R\n",
      "Californian FB\n",
      "Lucida Bright\n",
      "GyeonggiBatang\n",
      "Copperplate Gothic Bold\n",
      "Microsoft PhagsPa\n",
      "Script MT Bold\n",
      "210 Manbalchungchun\n",
      "Perpetua Titling MT\n",
      "MJemokGothic\n",
      "Ami R\n",
      "Vladimir Script\n",
      "Trebuchet MS\n",
      "Poor Richard\n",
      "?? ??? ?B\n",
      "Colonna MT\n",
      "Ink Free\n",
      "Palatino Linotype\n",
      "Lucida Fax\n",
      "Bell MT\n",
      "Lucida Sans Typewriter\n",
      "Bahnschrift\n",
      "Wingdings 2\n",
      "Goudy Old Style\n",
      "MHunmin\n",
      "Trebuchet MS\n",
      "Candara\n",
      "Lucida Bright\n",
      "Verdana\n",
      "Calibri\n",
      "Brush Script MT\n",
      "Constantia\n",
      "Microsoft Himalaya\n",
      "Lucida Fax\n",
      "Gill Sans Ultra Bold\n",
      "HYMyeongJo-Extra\n",
      "HGKyokashotai\n",
      "UD Digi Kyokasho N-R\n",
      "Agency FB\n",
      "MSugiJeong\n",
      "SimSun\n",
      "Nirmala UI\n",
      "Tw Cen MT Condensed\n",
      "Nirmala UI\n",
      "STSong\n",
      "Headline R\n",
      "Tw Cen MT Condensed\n",
      "Courier New\n",
      "Segoe Script\n",
      "Elephant\n",
      "Jokerman\n",
      "HyhwpEQ\n",
      "Bell MT\n",
      "STCaiyun\n",
      "HCR Batang ExtB\n",
      "Calisto MT\n",
      "Myanmar Text\n",
      "Arial Rounded MT Bold\n",
      "Bookman Old Style\n",
      "Lucida Sans Unicode\n",
      "OCR A Extended\n",
      "NewJumja\n",
      "Lucida Fax\n",
      "SimSun-ExtB\n",
      "Tw Cen MT Condensed\n",
      "Meiryo\n",
      "Constantia\n",
      "Rockwell\n",
      "Corbel\n",
      "Stencil\n",
      "Agency FB\n",
      "Berlin Sans FB\n",
      "Yu Gothic\n",
      "HYPMokGak-Bold\n",
      "Bauhaus 93\n",
      "Century Gothic\n",
      "BIZ UDMincho\n",
      "Lucida Handwriting\n",
      "Palatino Linotype\n",
      "Century Gothic\n",
      "Trebuchet MS\n",
      "MGungJeong\n",
      "Comic Sans MS\n",
      "Corbel\n",
      "Yu Gothic\n",
      "Niagara Engraved\n",
      "Candara\n",
      "MS Mincho\n",
      "Bodoni MT\n",
      "DengXian\n",
      "Kristen ITC\n",
      "Gloucester MT Extra Condensed\n",
      "HGSoeiKakugothicUB\n",
      "Freestyle Script\n",
      "Book Antiqua\n",
      "Goudy Old Style\n",
      "Microsoft YaHei\n",
      "Calibri\n",
      "HCR Dotum\n"
     ]
    },
    {
     "name": "stdout",
     "output_type": "stream",
     "text": [
      "Californian FB\n",
      "MS Outlook\n",
      "Vladimir Script\n",
      "Microsoft New Tai Lue\n",
      "Sitka Small\n",
      "Lucida Sans\n",
      "Rage Italic\n",
      "Bernard MT Condensed\n",
      "Algerian\n",
      "Bodoni MT\n",
      "Calibri\n",
      "Gadugi\n",
      "New Gulim\n",
      "STXihei\n",
      "MS Outlook\n",
      "STXingkai\n",
      "Blackadder ITC\n",
      "HGSoeiKakupoptai\n",
      "Garamond\n",
      "STZhongsong\n",
      "Footlight MT Light\n",
      "HYShortSamul-Medium\n",
      "Segoe UI\n",
      "Consolas\n",
      "Tw Cen MT\n",
      "Perpetua Titling MT\n",
      "HYPost-Light\n",
      "MHunmin\n",
      "Sitka Small\n",
      "Colonna MT\n",
      "Copperplate Gothic Light\n",
      "Rockwell Condensed\n",
      "HCR Batang\n",
      "Rockwell Condensed\n",
      "Garamond\n",
      "Book Antiqua\n",
      "Gill Sans MT Condensed\n",
      "HoloLens MDL2 Assets\n",
      "Lucida Bright\n",
      "Palatino Linotype\n",
      "Century Gothic\n",
      "Lucida Sans Typewriter\n",
      "MGungHeulim\n",
      "Palace Script MT\n",
      "Segoe UI\n",
      "210 Manbalchungchun\n",
      "Gill Sans MT\n",
      "Times New Roman\n",
      "Microsoft Tai Le\n",
      "Lucida Handwriting\n",
      "Microsoft JhengHei\n",
      "Corbel\n",
      "HGMinchoE\n",
      "HCR Batang ExtB\n",
      "Papyrus\n",
      "Microsoft New Tai Lue\n",
      "Monotype Corsiva\n",
      "Times New Roman\n",
      "Bookman Old Style\n",
      "Verdana\n",
      "Candara\n",
      "Bookshelf Symbol 7\n",
      "MT Extra\n",
      "Papyrus\n",
      "Cambria\n",
      "Meiryo\n",
      "HGGyoshotai\n",
      "Bodoni MT\n",
      "Microsoft Tai Le\n",
      "Yet R\n",
      "Copperplate Gothic Bold\n",
      "MS Mincho\n",
      "Elephant\n",
      "Cambria\n",
      "Comic Sans MS\n",
      "Juice ITC\n",
      "Microsoft Himalaya\n",
      "Microsoft New Tai Lue\n",
      "Tw Cen MT\n",
      "Arial\n",
      "STSong\n",
      "Eras Medium ITC\n",
      "Courier New\n",
      "Sitka Small\n",
      "Lucida Console\n",
      "Yu Gothic\n",
      "Century\n",
      "?? ??? ?R\n",
      "Lucida Fax\n",
      "Nirmala UI\n",
      "Bodoni MT\n",
      "Perpetua Titling MT\n",
      "Goudy Old Style\n",
      "MSugiHeulim\n",
      "Gill Sans MT\n",
      "Lucida Bright\n",
      "Segoe UI\n",
      "GyeonggiTitle\n",
      "HoloLens MDL2 Assets\n",
      "Tw Cen MT\n",
      "Garamond\n",
      "Book Antiqua\n",
      "Tw Cen MT Condensed Extra Bold\n",
      "HCR Dotum\n",
      "Constantia\n",
      "Century Gothic\n",
      "Microsoft JhengHei\n",
      "Footlight MT Light\n",
      "HGMinchoE\n",
      "HCR Batang Ext\n",
      "Chiller\n",
      "Lucida Sans\n",
      "Book Antiqua\n",
      "LiSu\n",
      "Perpetua\n",
      "Bell MT\n",
      "Snap ITC\n",
      "Leelawadee UI\n",
      "Marlett\n",
      "Segoe Script\n",
      "HCR Batang\n",
      "Myanmar Text\n",
      "Consolas\n",
      "Bahnschrift\n",
      "Magic R\n",
      "Harlow Solid Italic\n",
      "HGSeikaishotaiPRO\n",
      "Berlin Sans FB Demi\n",
      "Bodoni MT\n",
      "Bodoni MT\n",
      "Harrington\n",
      "Symbol\n",
      "Bodoni MT\n",
      "Yu Mincho\n",
      "Elephant\n",
      "Segoe Print\n",
      "Poor Richard\n",
      "Haettenschweiler\n",
      "SimHei\n",
      "Franklin Gothic Demi Cond\n",
      "STXihei\n",
      "GyeonggiBatang\n",
      "Sitka Small\n",
      "Palatino Linotype\n",
      "Yu Gothic\n",
      "Berlin Sans FB\n",
      "Microsoft PhagsPa\n",
      "MingLiU\n",
      "BIZ UDGothic\n",
      "STFangsong\n",
      "Segoe UI\n",
      "Microsoft YaHei\n",
      "Palatino Linotype\n",
      "Magneto\n",
      "Trebuchet MS\n",
      "Candara\n",
      "UD Digi Kyokasho N-B\n",
      "Yu Mincho\n",
      "Batang\n",
      "Copperplate Gothic Light\n",
      "Segoe Print\n",
      "Javanese Text\n",
      "Leelawadee UI\n",
      "HGGothicM\n",
      "DengXian\n",
      "HCR Dotum Ext\n",
      "OCRB\n",
      "Goudy Old Style\n"
     ]
    }
   ],
   "source": [
    "for f in font_list:\n",
    "    print( fm.FontProperties(fname=f).get_name() )"
   ]
  },
  {
   "cell_type": "code",
   "execution_count": 77,
   "metadata": {},
   "outputs": [],
   "source": [
    "# plt 폰트를 설정\n",
    "plt.rcParams['font.family'] = 'New Gulim'\n",
    "plt.rcParams['font.size'] = 14"
   ]
  },
  {
   "cell_type": "code",
   "execution_count": 78,
   "metadata": {},
   "outputs": [
    {
     "data": {
      "image/png": "[encoded data removed]",
      "text/plain": [
       "<Figure size 432x288 with 1 Axes>"
      ]
     },
     "metadata": {
      "needs_background": "light"
     },
     "output_type": "display_data"
    }
   ],
   "source": [
    "plt.plot([1,2,3,4], [10,40,18,60])\n",
    "plt.ylabel('성적')\n",
    "plt.xlabel('공부시간')\n",
    "plt.show()"
   ]
  },
  {
   "cell_type": "code",
   "execution_count": 79,
   "metadata": {},
   "outputs": [
    {
     "data": {
      "image/png": "[encoded data removed]",
      "text/plain": [
       "<Figure size 432x288 with 1 Axes>"
      ]
     },
     "metadata": {
      "needs_background": "light"
     },
     "output_type": "display_data"
    }
   ],
   "source": [
    "plt.plot([1,2,3,4], [10,40,18,60])\n",
    "plt.ylabel('성적')\n",
    "plt.xlabel('공부시간')\n",
    "plt.title('그래프 예제')\n",
    "plt.show()"
   ]
  },
  {
   "cell_type": "code",
   "execution_count": 80,
   "metadata": {},
   "outputs": [
    {
     "data": {
      "image/png": "[encoded data removed]",
      "text/plain": [
       "<Figure size 432x288 with 1 Axes>"
      ]
     },
     "metadata": {
      "needs_background": "light"
     },
     "output_type": "display_data"
    }
   ],
   "source": [
    "plt.plot([1,2,3,4], [10,40,18,60], 'rD')\n",
    "plt.ylabel('성적')\n",
    "plt.xlabel('공부시간')\n",
    "plt.title('그래프 예제')\n",
    "plt.show()"
   ]
  },
  {
   "cell_type": "code",
   "execution_count": 81,
   "metadata": {},
   "outputs": [],
   "source": [
    "import numpy as np"
   ]
  },
  {
   "cell_type": "code",
   "execution_count": 82,
   "metadata": {},
   "outputs": [],
   "source": [
    "x = np.arange(0,10)\n",
    "y = np.arange(0,100,10)"
   ]
  },
  {
   "cell_type": "code",
   "execution_count": 83,
   "metadata": {},
   "outputs": [
    {
     "data": {
      "text/plain": [
       "array([0, 1, 2, 3, 4, 5, 6, 7, 8, 9])"
      ]
     },
     "execution_count": 83,
     "metadata": {},
     "output_type": "execute_result"
    }
   ],
   "source": [
    "x"
   ]
  },
  {
   "cell_type": "code",
   "execution_count": 84,
   "metadata": {},
   "outputs": [
    {
     "data": {
      "text/plain": [
       "array([ 0, 10, 20, 30, 40, 50, 60, 70, 80, 90])"
      ]
     },
     "execution_count": 84,
     "metadata": {},
     "output_type": "execute_result"
    }
   ],
   "source": [
    "y"
   ]
  },
  {
   "cell_type": "code",
   "execution_count": 85,
   "metadata": {},
   "outputs": [
    {
     "data": {
      "image/png": "[encoded data removed]",
      "text/plain": [
       "<Figure size 432x288 with 1 Axes>"
      ]
     },
     "metadata": {
      "needs_background": "light"
     },
     "output_type": "display_data"
    }
   ],
   "source": [
    "plt.plot(x, y)\n",
    "plt.title('두번째 예제 그래프')\n",
    "plt.show()"
   ]
  },
  {
   "cell_type": "code",
   "execution_count": 86,
   "metadata": {},
   "outputs": [
    {
     "data": {
      "image/png": "[encoded data removed]",
      "text/plain": [
       "<Figure size 432x288 with 1 Axes>"
      ]
     },
     "metadata": {
      "needs_background": "light"
     },
     "output_type": "display_data"
    }
   ],
   "source": [
    "plt.plot(x, y)\n",
    "plt.title('두번째 예제 그래프')\n",
    "plt.xticks( x )\n",
    "plt.show()"
   ]
  },
  {
   "cell_type": "code",
   "execution_count": 87,
   "metadata": {},
   "outputs": [
    {
     "data": {
      "image/png": "[encoded data removed]",
      "text/plain": [
       "<Figure size 432x288 with 1 Axes>"
      ]
     },
     "metadata": {
      "needs_background": "light"
     },
     "output_type": "display_data"
    }
   ],
   "source": [
    "plt.plot(x, y)\n",
    "plt.title('두번째 예제 그래프')\n",
    "plt.xticks( np.arange(0,10,0.5) )\n",
    "plt.show()"
   ]
  },
  {
   "cell_type": "code",
   "execution_count": 88,
   "metadata": {},
   "outputs": [
    {
     "data": {
      "image/png": "[encoded data removed]",
      "text/plain": [
       "<Figure size 432x288 with 1 Axes>"
      ]
     },
     "metadata": {
      "needs_background": "light"
     },
     "output_type": "display_data"
    }
   ],
   "source": [
    "plt.plot(x, y)\n",
    "plt.title('두번째 예제 그래프')\n",
    "plt.xticks( np.arange(0,10,0.5) )\n",
    "plt.grid()\n",
    "plt.show()"
   ]
  },
  {
   "cell_type": "code",
   "execution_count": 89,
   "metadata": {},
   "outputs": [
    {
     "data": {
      "image/png": "[encoded data removed]",
      "text/plain": [
       "<Figure size 432x288 with 1 Axes>"
      ]
     },
     "metadata": {
      "needs_background": "light"
     },
     "output_type": "display_data"
    }
   ],
   "source": [
    "plt.plot(x, y)\n",
    "plt.title('두번째 예제 그래프')\n",
    "plt.xticks( np.arange(0,10,1) )\n",
    "plt.yticks( y )\n",
    "plt.grid()\n",
    "plt.show()"
   ]
  },
  {
   "cell_type": "code",
   "execution_count": 90,
   "metadata": {},
   "outputs": [
    {
     "data": {
      "image/png": "[encoded data removed]",
      "text/plain": [
       "<Figure size 432x288 with 1 Axes>"
      ]
     },
     "metadata": {
      "needs_background": "light"
     },
     "output_type": "display_data"
    }
   ],
   "source": [
    "plt.plot(x, y)\n",
    "plt.title('두번째 예제 그래프')\n",
    "plt.xticks( np.arange(0,10,1) )\n",
    "plt.yticks( [0, 10, 20, 30, 40] )\n",
    "plt.grid()\n",
    "plt.show()"
   ]
  },
  {
   "cell_type": "code",
   "execution_count": 91,
   "metadata": {},
   "outputs": [
    {
     "data": {
      "image/png": "[encoded data removed]",
      "text/plain": [
       "<Figure size 432x288 with 1 Axes>"
      ]
     },
     "metadata": {
      "needs_background": "light"
     },
     "output_type": "display_data"
    }
   ],
   "source": [
    "plt.plot(x, y)\n",
    "plt.title('두번째 예제 그래프')\n",
    "plt.xticks( np.arange(0,10,1) )\n",
    "plt.yticks( [0, 10, 20, 30, 40,70, 90] )\n",
    "plt.grid()\n",
    "plt.show()"
   ]
  },
  {
   "cell_type": "code",
   "execution_count": 92,
   "metadata": {},
   "outputs": [
    {
     "data": {
      "image/png": "[encoded data removed]",
      "text/plain": [
       "<Figure size 432x288 with 1 Axes>"
      ]
     },
     "metadata": {
      "needs_background": "light"
     },
     "output_type": "display_data"
    }
   ],
   "source": [
    "plt.plot(x, y, color='red', linestyle='--', linewidth=3, marker='^', markersize=10, markeredgecolor='blue', mfc='green')\n",
    "plt.title('두번째 예제 그래프')\n",
    "plt.xticks( np.arange(0,10,1) )\n",
    "plt.yticks( [0, 10, 20, 30, 40,70, 90] )\n",
    "plt.grid()\n",
    "plt.show()"
   ]
  },
  {
   "cell_type": "code",
   "execution_count": 95,
   "metadata": {},
   "outputs": [
    {
     "data": {
      "image/png": "[encoded data removed]",
      "text/plain": [
       "<Figure size 432x288 with 1 Axes>"
      ]
     },
     "metadata": {
      "needs_background": "light"
     },
     "output_type": "display_data"
    }
   ],
   "source": [
    "x = np.arange(0,10)\n",
    "y = np.arange(0,100,10)\n",
    "\n",
    "plt.plot(x,y)\n",
    "plt.plot(x, x**3)\n",
    "plt.plot(x, y**(1.2))\n",
    "\n",
    "plt.show()"
   ]
  },
  {
   "cell_type": "code",
   "execution_count": 99,
   "metadata": {},
   "outputs": [
    {
     "data": {
      "image/png": "[encoded data removed]",
      "text/plain": [
       "<Figure size 432x288 with 1 Axes>"
      ]
     },
     "metadata": {
      "needs_background": "light"
     },
     "output_type": "display_data"
    }
   ],
   "source": [
    "x = np.arange(0,10)\n",
    "y = np.arange(0,100,10)\n",
    "\n",
    "#shorthand notation\n",
    "plt.plot(x,y, 'g-.h', label='바람')\n",
    "plt.plot(x, x**3, 'k:D', label='기온')\n",
    "plt.plot(x, y**(1.2), 'r--<', label='강수량')\n",
    "plt.legend()\n",
    "plt.show()"
   ]
  },
  {
   "cell_type": "code",
   "execution_count": 102,
   "metadata": {},
   "outputs": [
    {
     "data": {
      "image/png": "[encoded data removed]",
      "text/plain": [
       "<Figure size 432x288 with 1 Axes>"
      ]
     },
     "metadata": {
      "needs_background": "light"
     },
     "output_type": "display_data"
    }
   ],
   "source": [
    "x = np.arange(0,10)\n",
    "y = np.arange(0,100,10)\n",
    "\n",
    "#shorthand notation\n",
    "plt.plot(x[:5],y[:5], 'g-.h', label='바람')\n",
    "plt.plot(x[4:],y[4:], 'b-D')\n",
    "\n",
    "plt.plot(x, x**3, 'k:D', label='기온')\n",
    "plt.plot(x, y**(1.2), 'r--<', label='강수량')\n",
    "plt.legend()\n",
    "plt.show()"
   ]
  },
  {
   "cell_type": "code",
   "execution_count": 107,
   "metadata": {},
   "outputs": [
    {
     "data": {
      "image/png": "[encoded data removed]",
      "text/plain": [
       "<Figure size 1500x900 with 1 Axes>"
      ]
     },
     "metadata": {
      "needs_background": "light"
     },
     "output_type": "display_data"
    }
   ],
   "source": [
    "x = np.arange(0,10)\n",
    "y = np.arange(0,100,10)\n",
    "\n",
    "plt.figure( figsize = (10, 6), dpi = 150)\n",
    "#shorthand notation\n",
    "plt.plot(x[:5],y[:5], 'g-.h', label='바람')\n",
    "plt.plot(x[4:],y[4:], 'b-D')\n",
    "\n",
    "plt.plot(x, x**3, 'k:D', label='기온')\n",
    "plt.plot(x, y**(1.2), 'r--<', label='강수량')\n",
    "plt.legend()\n",
    "\n",
    "plt.savefig('testGraph.png', dpi=300)\n",
    "plt.show()"
   ]
  },
  {
   "cell_type": "code",
   "execution_count": 109,
   "metadata": {},
   "outputs": [
    {
     "data": {
      "image/png": "[encoded data removed]",
      "text/plain": [
       "<Figure size 432x288 with 1 Axes>"
      ]
     },
     "metadata": {
      "needs_background": "light"
     },
     "output_type": "display_data"
    }
   ],
   "source": [
    "### 막대 그래프 그리기\n",
    "labels = [ 'A', 'B', 'C']\n",
    "values = [10,50,20]\n",
    "\n",
    "plt.bar(labels, values, width=0.3)\n",
    "plt.show()"
   ]
  },
  {
   "cell_type": "code",
   "execution_count": 110,
   "metadata": {},
   "outputs": [
    {
     "data": {
      "image/png": "[encoded data removed]",
      "text/plain": [
       "<Figure size 432x288 with 1 Axes>"
      ]
     },
     "metadata": {
      "needs_background": "light"
     },
     "output_type": "display_data"
    }
   ],
   "source": [
    "### 막대 그래프 그리기\n",
    "labels = [ 'A', 'B', 'C']\n",
    "values = [10,50,20]\n",
    "\n",
    "bars = plt.bar(labels, values, width=0.3)\n",
    "bars[0].set_hatch('x')\n",
    "bars[1].set_hatch('-')\n",
    "bars[2].set_hatch('\\\\')\n",
    "plt.show()"
   ]
  },
  {
   "cell_type": "markdown",
   "metadata": {},
   "source": [
    "### Scatter Graph"
   ]
  },
  {
   "cell_type": "code",
   "execution_count": 111,
   "metadata": {},
   "outputs": [
    {
     "data": {
      "image/png": "[encoded data removed]",
      "text/plain": [
       "<Figure size 432x288 with 1 Axes>"
      ]
     },
     "metadata": {
      "needs_background": "light"
     },
     "output_type": "display_data"
    }
   ],
   "source": [
    "plt.scatter(10, 20, s=300, c='red')\n",
    "plt.title('Scatter Graph')\n",
    "plt.show()"
   ]
  },
  {
   "cell_type": "code",
   "execution_count": 112,
   "metadata": {},
   "outputs": [
    {
     "data": {
      "image/png": "[encoded data removed]",
      "text/plain": [
       "<Figure size 432x288 with 1 Axes>"
      ]
     },
     "metadata": {
      "needs_background": "light"
     },
     "output_type": "display_data"
    }
   ],
   "source": [
    "x = np.arange(0,20, 2)\n",
    "plt.scatter(x, x**2, s = x**2 , c='green')\n",
    "plt.show()"
   ]
  },
  {
   "cell_type": "code",
   "execution_count": 116,
   "metadata": {},
   "outputs": [
    {
     "data": {
      "image/png": "[encoded data removed]",
      "text/plain": [
       "<Figure size 432x288 with 1 Axes>"
      ]
     },
     "metadata": {
      "needs_background": "light"
     },
     "output_type": "display_data"
    }
   ],
   "source": [
    "x = np.arange(0,20, 2)\n",
    "plt.scatter(x, x**2, s = x**2 , c='green')\n",
    "plt.text(10.3, 100, \"중요한 값\")\n",
    "plt.show()"
   ]
  },
  {
   "cell_type": "code",
   "execution_count": 117,
   "metadata": {},
   "outputs": [],
   "source": [
    "graph_data = {\n",
    "    'a' : np.arange(50),\n",
    "    'c' : np.random.randint(0,50,50),\n",
    "    'd' : np.random.randn(50)    \n",
    "}"
   ]
  },
  {
   "cell_type": "code",
   "execution_count": 118,
   "metadata": {},
   "outputs": [
    {
     "data": {
      "text/plain": [
       "{'a': array([ 0,  1,  2,  3,  4,  5,  6,  7,  8,  9, 10, 11, 12, 13, 14, 15, 16,\n",
       "        17, 18, 19, 20, 21, 22, 23, 24, 25, 26, 27, 28, 29, 30, 31, 32, 33,\n",
       "        34, 35, 36, 37, 38, 39, 40, 41, 42, 43, 44, 45, 46, 47, 48, 49]),\n",
       " 'c': array([24, 46, 12, 14, 27, 21,  9,  8,  2, 20, 11, 40, 20, 20, 17, 26, 14,\n",
       "         6, 18, 21, 28, 14, 49, 19,  9,  0, 12, 18, 40,  4, 24,  4,  3, 30,\n",
       "        23, 39, 49, 44,  3, 23,  2, 15, 18, 17, 39, 18, 20, 39, 26, 34]),\n",
       " 'd': array([ 0.21319675,  0.99082564, -0.07127169, -0.88239716,  0.33226317,\n",
       "         1.16532009,  0.69024641, -0.05740543,  0.74492071,  0.63440772,\n",
       "         0.2491404 , -1.31441692, -0.37596782,  0.00758344,  0.22148369,\n",
       "        -0.89637817, -0.0182889 , -1.22382322,  1.90839872,  1.22952004,\n",
       "        -1.61517548,  2.06174937,  1.90334085, -1.5035673 ,  0.65662751,\n",
       "        -0.19808807, -1.06067545, -0.69320061, -0.5951159 ,  1.34470972,\n",
       "        -0.05657184,  1.57506042, -1.3018609 ,  0.73135211,  0.01827771,\n",
       "        -0.2276818 ,  1.06091503,  1.98137863,  0.5489038 ,  1.51545961,\n",
       "        -1.29255791,  0.05239733, -1.17105566, -0.52077655,  0.69006118,\n",
       "         0.9718291 , -1.34133603, -0.26548667, -0.71376591,  0.94692409])}"
      ]
     },
     "execution_count": 118,
     "metadata": {},
     "output_type": "execute_result"
    }
   ],
   "source": [
    "graph_data"
   ]
  },
  {
   "cell_type": "code",
   "execution_count": 119,
   "metadata": {},
   "outputs": [],
   "source": [
    "graph_data['b'] = graph_data['a'] + 10 * np.random.randn(50)\n",
    "graph_data['d'] = np.abs( graph_data['d'] *100 )"
   ]
  },
  {
   "cell_type": "code",
   "execution_count": 120,
   "metadata": {},
   "outputs": [
    {
     "data": {
      "text/plain": [
       "{'a': array([ 0,  1,  2,  3,  4,  5,  6,  7,  8,  9, 10, 11, 12, 13, 14, 15, 16,\n",
       "        17, 18, 19, 20, 21, 22, 23, 24, 25, 26, 27, 28, 29, 30, 31, 32, 33,\n",
       "        34, 35, 36, 37, 38, 39, 40, 41, 42, 43, 44, 45, 46, 47, 48, 49]),\n",
       " 'c': array([24, 46, 12, 14, 27, 21,  9,  8,  2, 20, 11, 40, 20, 20, 17, 26, 14,\n",
       "         6, 18, 21, 28, 14, 49, 19,  9,  0, 12, 18, 40,  4, 24,  4,  3, 30,\n",
       "        23, 39, 49, 44,  3, 23,  2, 15, 18, 17, 39, 18, 20, 39, 26, 34]),\n",
       " 'd': array([ 21.31967548,  99.0825645 ,   7.12716926,  88.2397158 ,\n",
       "         33.22631712, 116.5320086 ,  69.02464103,   5.74054324,\n",
       "         74.49207139,  63.44077243,  24.91403959, 131.44169182,\n",
       "         37.59678234,   0.75834381,  22.14836863,  89.63781725,\n",
       "          1.82888988, 122.38232195, 190.83987152, 122.9520041 ,\n",
       "        161.5175479 , 206.17493662, 190.33408514, 150.35673024,\n",
       "         65.66275104,  19.80880653, 106.0675454 ,  69.3200605 ,\n",
       "         59.51159025, 134.47097219,   5.65718419, 157.50604168,\n",
       "        130.18609033,  73.13521052,   1.82777141,  22.76817985,\n",
       "        106.09150281, 198.13786325,  54.89038025, 151.54596098,\n",
       "        129.25579054,   5.23973344, 117.10556609,  52.07765523,\n",
       "         69.00611819,  97.18291025, 134.13360331,  26.54866708,\n",
       "         71.37659074,  94.69240907]),\n",
       " 'b': array([ -9.97672863,  -5.47981362, -11.06953085,  -5.44291549,\n",
       "         -0.6736017 ,   3.54221599,  11.7205179 ,  11.82584841,\n",
       "         -1.35481859,   5.77240415,  16.94967072,  11.70013923,\n",
       "         19.15102633,  18.62071406,  30.56948271,  11.55267403,\n",
       "          7.80360851,   4.1672423 ,   9.01163969,  12.87871202,\n",
       "         10.211695  ,  16.79097664,  17.39226386,  22.14320471,\n",
       "         30.4504322 ,  24.03632069,  32.63379168,  39.59534119,\n",
       "         24.35561076,  40.79055475,  13.67948258,  14.29747201,\n",
       "         27.99266223,  21.60597337,  47.250482  ,  47.4626084 ,\n",
       "         38.93772606,  33.19983309,  35.18851444,  34.62423286,\n",
       "         46.08146618,  25.34073298,  25.00313754,  33.34664662,\n",
       "         40.92612137,  45.23672869,  36.86775549,  52.85573215,\n",
       "         37.27346285,  36.57997888])}"
      ]
     },
     "execution_count": 120,
     "metadata": {},
     "output_type": "execute_result"
    }
   ],
   "source": [
    "graph_data"
   ]
  },
  {
   "cell_type": "code",
   "execution_count": 123,
   "metadata": {},
   "outputs": [
    {
     "data": {
      "image/png": "[encoded data removed]",
      "text/plain": [
       "<Figure size 432x288 with 2 Axes>"
      ]
     },
     "metadata": {
      "needs_background": "light"
     },
     "output_type": "display_data"
    }
   ],
   "source": [
    "plt.scatter('a', 'b', s='d', c='c', data = graph_data)\n",
    "plt.colorbar()\n",
    "plt.show()"
   ]
  },
  {
   "cell_type": "code",
   "execution_count": 127,
   "metadata": {},
   "outputs": [
    {
     "data": {
      "image/png": "[encoded data removed]",
      "text/plain": [
       "<Figure size 900x300 with 3 Axes>"
      ]
     },
     "metadata": {
      "needs_background": "light"
     },
     "output_type": "display_data"
    }
   ],
   "source": [
    "### Subplot 그리기\n",
    "names = ['a','b','c']\n",
    "values = [1, 10, 100]\n",
    "\n",
    "plt.figure( figsize=(9,3), dpi=100)\n",
    "\n",
    "plt.subplot(132)\n",
    "plt.plot(names, values, 'r-')\n",
    "\n",
    "plt.subplot(133)\n",
    "plt.bar(names, values)\n",
    "\n",
    "plt.subplot(1,3,1)\n",
    "plt.scatter( names, values, s=values * 10)\n",
    "\n",
    "plt.show()\n"
   ]
  },
  {
   "cell_type": "code",
   "execution_count": 130,
   "metadata": {},
   "outputs": [
    {
     "data": {
      "image/png": "[encoded data removed]",
      "text/plain": [
       "<Figure size 1350x1350 with 1 Axes>"
      ]
     },
     "metadata": {
      "needs_background": "light"
     },
     "output_type": "display_data"
    }
   ],
   "source": [
    "def f(t):\n",
    "    return np.exp(-t) * np.cos(2*np.pi*t)\n",
    "\n",
    "t1 = np.arange(0, 5, 0.1)\n",
    "t2 = np.arange(0, 5, 0.02)\n",
    "\n",
    "plt.figure(figsize=(9,9), dpi=150)\n",
    "plt.subplot(211)\n",
    "plt.plot(t1, f(t1), 'bo')\n",
    "plt.plot(t2, f(t2), 'k')\n",
    "plt.show()\n"
   ]
  },
  {
   "cell_type": "code",
   "execution_count": 131,
   "metadata": {},
   "outputs": [
    {
     "data": {
      "image/png": "[encoded data removed]",
      "text/plain": [
       "<Figure size 1350x1350 with 2 Axes>"
      ]
     },
     "metadata": {
      "needs_background": "light"
     },
     "output_type": "display_data"
    }
   ],
   "source": [
    "def f(t):\n",
    "    return np.exp(-t) * np.cos(2*np.pi*t)\n",
    "\n",
    "t1 = np.arange(0, 5, 0.1)\n",
    "t2 = np.arange(0, 5, 0.02)\n",
    "\n",
    "plt.figure(figsize=(9,9), dpi=150)\n",
    "plt.subplot(211)\n",
    "plt.plot(t1, f(t1), 'bo')\n",
    "plt.plot(t2, f(t2), 'k')\n",
    "\n",
    "plt.subplot(212)\n",
    "plt.plot(t2, np.cos(2*np.pi*t2), 'r:')\n",
    "\n",
    "plt.show()"
   ]
  },
  {
   "cell_type": "code",
   "execution_count": 134,
   "metadata": {},
   "outputs": [
    {
     "data": {
      "image/png": "[encoded data removed]",
      "text/plain": [
       "<Figure size 1350x1350 with 2 Axes>"
      ]
     },
     "metadata": {
      "needs_background": "light"
     },
     "output_type": "display_data"
    }
   ],
   "source": [
    "def f(t):\n",
    "    return np.exp(-t) * np.cos(2*np.pi*t)\n",
    "\n",
    "t1 = np.arange(0, 5, 0.1)\n",
    "t2 = np.arange(0, 5, 0.02)\n",
    "\n",
    "plt.figure(figsize=(9,9), dpi=150)\n",
    "plt.subplot(211)\n",
    "plt.plot(t1, f(t1), 'bo')\n",
    "plt.plot(t2, f(t2), 'k')\n",
    "plt.title('(a)연습')\n",
    "\n",
    "plt.subplot(212)\n",
    "plt.plot(t2, np.cos(2*np.pi*t2), 'r:')\n",
    "plt.title('(b)그래프 연습')\n",
    "\n",
    "plt.suptitle('전체 제목')\n",
    "\n",
    "plt.show()"
   ]
  },
  {
   "cell_type": "code",
   "execution_count": 137,
   "metadata": {},
   "outputs": [
    {
     "data": {
      "image/png": "[encoded data removed]",
      "text/plain": [
       "<Figure size 432x288 with 1 Axes>"
      ]
     },
     "metadata": {
      "needs_background": "light"
     },
     "output_type": "display_data"
    }
   ],
   "source": [
    "x = np.arange(0,20, 2)\n",
    "plt.scatter(x, x**2, s = x**2 , c='green')\n",
    "plt.text(10.3, 100, \"중요한 값\")\n",
    "plt.annotate(\"아주 중요한 값\", xy=(6,36), xytext=(8,150), arrowprops={'facecolor':'red', 'shrink':0.05})\n",
    "plt.show()"
   ]
  },
  {
   "cell_type": "code",
   "execution_count": 138,
   "metadata": {},
   "outputs": [],
   "source": [
    "dg_temp = pd.read_csv( 'daegu_20210712.csv', encoding='ms949', \n",
    "                      index_col ='날짜', parse_dates=['날짜'], skiprows=7 )"
   ]
  },
  {
   "cell_type": "code",
   "execution_count": 139,
   "metadata": {},
   "outputs": [
    {
     "data": {
      "text/html": [
       "<div>\n",
       "<style scoped>\n",
       "    .dataframe tbody tr th:only-of-type {\n",
       "        vertical-align: middle;\n",
       "    }\n",
       "\n",
       "    .dataframe tbody tr th {\n",
       "        vertical-align: top;\n",
       "    }\n",
       "\n",
       "    .dataframe thead th {\n",
       "        text-align: right;\n",
       "    }\n",
       "</style>\n",
       "<table border=\"1\" class=\"dataframe\">\n",
       "  <thead>\n",
       "    <tr style=\"text-align: right;\">\n",
       "      <th></th>\n",
       "      <th>지점</th>\n",
       "      <th>평균기온(℃)</th>\n",
       "      <th>최저기온(℃)</th>\n",
       "      <th>최고기온(℃)</th>\n",
       "    </tr>\n",
       "    <tr>\n",
       "      <th>날짜</th>\n",
       "      <th></th>\n",
       "      <th></th>\n",
       "      <th></th>\n",
       "      <th></th>\n",
       "    </tr>\n",
       "  </thead>\n",
       "  <tbody>\n",
       "    <tr>\n",
       "      <th>2011-06-12</th>\n",
       "      <td>143</td>\n",
       "      <td>24.6</td>\n",
       "      <td>20.8</td>\n",
       "      <td>29.7</td>\n",
       "    </tr>\n",
       "    <tr>\n",
       "      <th>2011-06-13</th>\n",
       "      <td>143</td>\n",
       "      <td>23.7</td>\n",
       "      <td>19.6</td>\n",
       "      <td>29.4</td>\n",
       "    </tr>\n",
       "    <tr>\n",
       "      <th>2011-06-14</th>\n",
       "      <td>143</td>\n",
       "      <td>24.1</td>\n",
       "      <td>19.2</td>\n",
       "      <td>29.4</td>\n",
       "    </tr>\n",
       "    <tr>\n",
       "      <th>2011-06-15</th>\n",
       "      <td>143</td>\n",
       "      <td>23.4</td>\n",
       "      <td>19.7</td>\n",
       "      <td>27.8</td>\n",
       "    </tr>\n",
       "    <tr>\n",
       "      <th>2011-06-16</th>\n",
       "      <td>143</td>\n",
       "      <td>22.5</td>\n",
       "      <td>19.0</td>\n",
       "      <td>27.7</td>\n",
       "    </tr>\n",
       "  </tbody>\n",
       "</table>\n",
       "</div>"
      ],
      "text/plain": [
       "             지점  평균기온(℃)  최저기온(℃)  최고기온(℃)\n",
       "날짜                                        \n",
       "2011-06-12  143     24.6     20.8     29.7\n",
       "2011-06-13  143     23.7     19.6     29.4\n",
       "2011-06-14  143     24.1     19.2     29.4\n",
       "2011-06-15  143     23.4     19.7     27.8\n",
       "2011-06-16  143     22.5     19.0     27.7"
      ]
     },
     "execution_count": 139,
     "metadata": {},
     "output_type": "execute_result"
    }
   ],
   "source": [
    "dg_temp.head()"
   ]
  },
  {
   "cell_type": "code",
   "execution_count": 144,
   "metadata": {},
   "outputs": [],
   "source": [
    "def plotTemp(tData, startDate, endDate):\n",
    "    t = tData.loc[ startDate:endDate , ['평균기온(℃)', '최저기온(℃)', '최고기온(℃)']]\n",
    "    t.plot(style=['g', 'b', 'r'])\n",
    "    plt.ylabel('℃')\n",
    "    plt.show()\n",
    "     "
   ]
  },
  {
   "cell_type": "code",
   "execution_count": 146,
   "metadata": {},
   "outputs": [
    {
     "data": {
      "image/png": "[encoded data removed]",
      "text/plain": [
       "<Figure size 432x288 with 1 Axes>"
      ]
     },
     "metadata": {
      "needs_background": "light"
     },
     "output_type": "display_data"
    }
   ],
   "source": [
    "plotTemp(dg_temp, '2020-05-01', '2021-07-05')"
   ]
  },
  {
   "cell_type": "code",
   "execution_count": null,
   "metadata": {},
   "outputs": [],
   "source": []
  }
 ],
 "metadata": {
  "kernelspec": {
   "display_name": "Python 3",
   "language": "python",
   "name": "python3"
  },
  "language_info": {
   "codemirror_mode": {
    "name": "ipython",
    "version": 3
   },
   "file_extension": ".py",
   "mimetype": "text/x-python",
   "name": "python",
   "nbconvert_exporter": "python",
   "pygments_lexer": "ipython3",
   "version": "3.7.4"
  }
 },
 "nbformat": 4,
 "nbformat_minor": 2
}
